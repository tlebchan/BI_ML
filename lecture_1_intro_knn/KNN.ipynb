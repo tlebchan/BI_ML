{
 "cells": [
  {
   "cell_type": "markdown",
   "id": "65157005",
   "metadata": {
    "toc": true
   },
   "source": [
    "<h1>Table of Contents<span class=\"tocSkip\"></span></h1>\n",
    "<div class=\"toc\"><ul class=\"toc-item\"><li><span><a href=\"#Домашнее-задание-№1---Метод-К-ближайших-соседей-(K-neariest-neighbors)\" data-toc-modified-id=\"Домашнее-задание-№1---Метод-К-ближайших-соседей-(K-neariest-neighbors)-1\"><span class=\"toc-item-num\">1&nbsp;&nbsp;</span>Домашнее задание №1 - Метод К-ближайших соседей (K-neariest neighbors)</a></span><ul class=\"toc-item\"><li><span><a href=\"#Задание-1.-KNN-на-датасете-Fashion-MNIST-(10-баллов)\" data-toc-modified-id=\"Задание-1.-KNN-на-датасете-Fashion-MNIST-(10-баллов)-1.1\"><span class=\"toc-item-num\">1.1&nbsp;&nbsp;</span>Задание 1. KNN на датасете Fashion-MNIST (10 баллов)</a></span><ul class=\"toc-item\"><li><span><a href=\"#1.1.-Посмотрим-на-все-классы-(0.5-баллов)\" data-toc-modified-id=\"1.1.-Посмотрим-на-все-классы-(0.5-баллов)-1.1.1\"><span class=\"toc-item-num\">1.1.1&nbsp;&nbsp;</span>1.1. Посмотрим на все классы (0.5 баллов)</a></span></li><li><span><a href=\"#1.2.-Сделайте-небольшой-EDA-(1-балл)\" data-toc-modified-id=\"1.2.-Сделайте-небольшой-EDA-(1-балл)-1.1.2\"><span class=\"toc-item-num\">1.1.2&nbsp;&nbsp;</span>1.2. Сделайте небольшой EDA (1 балл)</a></span></li><li><span><a href=\"#1.3.-Разделите-данные-на-train-и-test-(0.5-баллов)\" data-toc-modified-id=\"1.3.-Разделите-данные-на-train-и-test-(0.5-баллов)-1.1.3\"><span class=\"toc-item-num\">1.1.3&nbsp;&nbsp;</span>1.3. Разделите данные на train и test (0.5 баллов)</a></span></li><li><span><a href=\"#1.4.-KNN-для-бинарной-классификации-(6-баллов)\" data-toc-modified-id=\"1.4.-KNN-для-бинарной-классификации-(6-баллов)-1.1.4\"><span class=\"toc-item-num\">1.1.4&nbsp;&nbsp;</span>1.4. KNN для бинарной классификации (6 баллов)</a></span></li><li><span><a href=\"#Настало-время-писать-код!\" data-toc-modified-id=\"Настало-время-писать-код!-1.1.5\"><span class=\"toc-item-num\">1.1.5&nbsp;&nbsp;</span>Настало время писать код!</a></span></li><li><span><a href=\"#Метрика\" data-toc-modified-id=\"Метрика-1.1.6\"><span class=\"toc-item-num\">1.1.6&nbsp;&nbsp;</span>Метрика</a></span></li><li><span><a href=\"#Подбор-оптимального-k\" data-toc-modified-id=\"Подбор-оптимального-k-1.1.7\"><span class=\"toc-item-num\">1.1.7&nbsp;&nbsp;</span>Подбор оптимального k</a></span></li><li><span><a href=\"#1.5.-Многоклассоввая-классификация-(2-балла)\" data-toc-modified-id=\"1.5.-Многоклассоввая-классификация-(2-балла)-1.1.8\"><span class=\"toc-item-num\">1.1.8&nbsp;&nbsp;</span>1.5. Многоклассоввая классификация (2 балла)</a></span></li></ul></li><li><span><a href=\"#Задание-2.-KNN-на-датасете-diabetes-(10-баллов)\" data-toc-modified-id=\"Задание-2.-KNN-на-датасете-diabetes-(10-баллов)-1.2\"><span class=\"toc-item-num\">1.2&nbsp;&nbsp;</span>Задание 2. KNN на датасете diabetes (10 баллов)</a></span><ul class=\"toc-item\"><li><span><a href=\"#2.1.-EDA-(2-обязательных-балла-+-2-доп.-балла-за-Pipeline)\" data-toc-modified-id=\"2.1.-EDA-(2-обязательных-балла-+-2-доп.-балла-за-Pipeline)-1.2.1\"><span class=\"toc-item-num\">1.2.1&nbsp;&nbsp;</span>2.1. EDA (2 обязательных балла + 2 доп. балла за Pipeline)</a></span></li><li><span><a href=\"#2.2.-Регрессионная-модель-(1-балл)\" data-toc-modified-id=\"2.2.-Регрессионная-модель-(1-балл)-1.2.2\"><span class=\"toc-item-num\">1.2.2&nbsp;&nbsp;</span>2.2. Регрессионная модель (1 балл)</a></span></li><li><span><a href=\"#2.3.-Метрики-регресии-(3-балла)\" data-toc-modified-id=\"2.3.-Метрики-регресии-(3-балла)-1.2.3\"><span class=\"toc-item-num\">1.2.3&nbsp;&nbsp;</span>2.3. Метрики регресии (3 балла)</a></span></li><li><span><a href=\"#2.4.-Подбор-оптимального-числа-соседей-(2-балла)\" data-toc-modified-id=\"2.4.-Подбор-оптимального-числа-соседей-(2-балла)-1.2.4\"><span class=\"toc-item-num\">1.2.4&nbsp;&nbsp;</span>2.4. Подбор оптимального числа соседей (2 балла)</a></span></li><li><span><a href=\"#3.-Социализация-(0.5-доп.-балла)\" data-toc-modified-id=\"3.-Социализация-(0.5-доп.-балла)-1.2.5\"><span class=\"toc-item-num\">1.2.5&nbsp;&nbsp;</span>3. Социализация (0.5 доп. балла)</a></span></li></ul></li><li><span><a href=\"#Therapy-time\" data-toc-modified-id=\"Therapy-time-1.3\"><span class=\"toc-item-num\">1.3&nbsp;&nbsp;</span>Therapy time</a></span></li></ul></li></ul></div>"
   ]
  },
  {
   "cell_type": "markdown",
   "id": "39a37345-99a6-4b16-9be7-ebdca1414c7f",
   "metadata": {},
   "source": [
    "# Домашнее задание №1 - Метод К-ближайших соседей (K-neariest neighbors)\n",
    "\n",
    "Сегодня мы с вами реализуем наш первый алгоритм машинного обучения, метод К-ближайших соседей. Мы попытаемся решить с помощью него задачи:\n",
    "- бинарной классификации (то есть, только двум классам)\n",
    "- многоклассовой классификации (то есть, нескольким классам)\n",
    "- регрессии (когда зависимая переменная - натуральное число)\n",
    "\n",
    "Так как методу необходим гиперпараметр (hyperparameter) - количество соседей, то нам нужно научиться подбирать этот параметр. Мы постараемся научиться пользовать numpy для векторизованных вычислений, а также посмотрим на несколько метрик, которые используются в задачах классификации и регрессии.\n",
    "\n",
    "Перед выполнением задания:\n",
    "- установите все необходимые библиотеки, запустив `pip install -r requirements.txt`\n",
    "\n",
    "Если вы раньше не работали с numpy или позабыли его, то можно вспомнить здесь:  \n",
    "http://cs231n.github.io/python-numpy-tutorial/"
   ]
  },
  {
   "cell_type": "code",
   "execution_count": 1,
   "id": "9638c464-806f-41b5-9dfe-1ea2048a1fa1",
   "metadata": {
    "ExecuteTime": {
     "end_time": "2023-02-12T17:03:15.272293Z",
     "start_time": "2023-02-12T17:03:13.344331Z"
    }
   },
   "outputs": [],
   "source": [
    "import time\n",
    "import matplotlib.pyplot as plt\n",
    "import seaborn as sns\n",
    "import numpy as np\n",
    "import random\n",
    "import pandas as pd\n",
    "\n",
    "\n",
    "from sklearn.datasets import fetch_openml\n",
    "from sklearn.model_selection import train_test_split\n",
    "# from knn import KNNClassifier\n",
    "# from metrics import binary_classification_metrics, multiclass_accuracy"
   ]
  },
  {
   "cell_type": "code",
   "execution_count": 270,
   "id": "318a57c4",
   "metadata": {
    "ExecuteTime": {
     "end_time": "2023-02-20T15:04:18.816277Z",
     "start_time": "2023-02-20T15:04:18.796224Z"
    }
   },
   "outputs": [],
   "source": [
    "import numpy as np\n",
    "\n",
    "\n",
    "class KNNClassifier:\n",
    "    \"\"\"\n",
    "    K-neariest-neighbor classifier using L1 loss\n",
    "    \"\"\"\n",
    "    \n",
    "    def __init__(self, k=1):\n",
    "        self.k = k\n",
    "    \n",
    "\n",
    "    def fit(self, X, y):\n",
    "        self.train_X = X\n",
    "        self.train_y = y\n",
    "\n",
    "\n",
    "    def predict(self, X, n_loops=0):\n",
    "        \"\"\"\n",
    "        Uses the KNN model to predict clases for the data samples provided\n",
    "        \n",
    "        Arguments:\n",
    "        X, np array (num_samples, num_features) - samples to run\n",
    "           through the model\n",
    "        num_loops, int - which implementation to use\n",
    "\n",
    "        Returns:\n",
    "        predictions, np array of ints (num_samples) - predicted class\n",
    "           for each sample\n",
    "        \"\"\"\n",
    "        \n",
    "        if n_loops == 0:\n",
    "            distances = self.compute_distances_no_loops(X)\n",
    "        elif n_loops == 1:\n",
    "            distances = self.compute_distances_one_loops(X)\n",
    "        else:\n",
    "            distances = self.compute_distances_two_loops(X)\n",
    "        \n",
    "        \n",
    "        if len(np.unique(self.train_y)) == 2:\n",
    "            return self.predict_labels_binary(distances)\n",
    "        else:\n",
    "            return self.predict_labels_multiclass(distances)\n",
    "\n",
    "\n",
    "    def compute_distances_two_loops(self, X):\n",
    "        \"\"\"\n",
    "        Computes L1 distance from every sample of X to every training sample\n",
    "        Uses simplest implementation with 2 Python loops\n",
    "\n",
    "        Arguments:\n",
    "        X, np array (num_test_samples, num_features) - samples to run\n",
    "        \n",
    "        Returns:\n",
    "        distances, np array (num_test_samples, num_train_samples) - array\n",
    "           with distances between each test and each train sample\n",
    "        \"\"\"\n",
    "        \n",
    "        distances = []\n",
    "        for i in range(X.shape[0]):\n",
    "            distances.append([])\n",
    "            for j in range(self.train_X.shape[0]):\n",
    "                distances[-1].append(\n",
    "                    np.sum(np.abs(self.train_X[j] - X[i]))\n",
    "                )\n",
    "        return np.array(distances)\n",
    "\n",
    "\n",
    "    def compute_distances_one_loop(self, X):\n",
    "        \"\"\"\n",
    "        Computes L1 distance from every sample of X to every training sample\n",
    "        Vectorizes some of the calculations, so only 1 loop is used\n",
    "\n",
    "        Arguments:\n",
    "        X, np array (num_test_samples, num_features) - samples to run\n",
    "        \n",
    "        Returns:\n",
    "        distances, np array (num_test_samples, num_train_samples) - array\n",
    "           with distances between each test and each train sample\n",
    "        \"\"\"\n",
    "\n",
    "        distances = []\n",
    "        \n",
    "        n_train = self.train_X.shape[0]\n",
    "        for idx in range(X.shape[0]):\n",
    "            distances.append(\n",
    "                np.sum(np.abs(self.train_X - X[idx]), axis=1)\n",
    "            )\n",
    "        \n",
    "        \n",
    "        return np.array(distances)\n",
    "\n",
    "\n",
    "    def compute_distances_no_loops(self, X):\n",
    "        \"\"\"\n",
    "        Computes L1 distance from every sample of X to every training sample\n",
    "        Fully vectorizes the calculations using numpy\n",
    "\n",
    "        Arguments:\n",
    "        X, np array (num_test_samples, num_features) - samples to run\n",
    "        \n",
    "        Returns:\n",
    "        distances, np array (num_test_samples, num_train_samples) - array\n",
    "           with distances between each test and each train sample\n",
    "        \"\"\"\n",
    "\n",
    "        \"\"\"\n",
    "        n_test, features\n",
    "        n_train, features\n",
    "        \"\"\"\n",
    "        n_features = X.shape[1]\n",
    "        n_test = X.shape[0]\n",
    "        n_train = self.train_X.shape[0]\n",
    "        distances = np.abs(\n",
    "            X.reshape(1, n_test, n_features) \\\n",
    "            - self.train_X.reshape(n_train, 1, n_features)\n",
    "        ).sum(axis=2).T\n",
    "        \n",
    "        return distances\n",
    "\n",
    "\n",
    "    def predict_labels_binary(self, distances):\n",
    "        \"\"\"\n",
    "        Returns model predictions for binary classification case\n",
    "        \n",
    "        Arguments:\n",
    "        distances, np array (num_test_samples, num_train_samples) - array\n",
    "           with distances between each test and each train sample\n",
    "        Returns:\n",
    "        pred, np array of bool (num_test_samples) - binary predictions \n",
    "           for every test sample\n",
    "        \"\"\"\n",
    "\n",
    "        n_train = distances.shape[1]\n",
    "        n_test = distances.shape[0]\n",
    "        prediction = np.zeros(n_test)\n",
    "\n",
    "        return self.train_y[distances.argsort(axis=1)[:, :self.k]].astype(int).sum(axis=1)>=self.k/2\n",
    "\n",
    "\n",
    "    def predict_labels_multiclass(self, distances):\n",
    "        \"\"\"\n",
    "        Returns model predictions for multi-class classification case\n",
    "        \n",
    "        Arguments:\n",
    "        distances, np array (num_test_samples, num_train_samples) - array\n",
    "           with distances between each test and each train sample\n",
    "        Returns:\n",
    "        pred, np array of int (num_test_samples) - predicted class index \n",
    "           for every test sample\n",
    "        \"\"\"\n",
    "\n",
    "        n_train = distances.shape[1]\n",
    "        n_test = distances.shape[0]\n",
    "        prediction = np.zeros(n_test, str)\n",
    "        \n",
    "        k_ys = self.train_y[distances.argsort(axis=1)[:, :self.k]]\n",
    "        for i in range(n_test):\n",
    "            unique, counts = np.unique(k_ys[i].astype(str), return_counts=True)\n",
    "            prediction[i] = unique[counts.argsort()[-1]]\n",
    "        \n",
    "        return prediction.astype(str)"
   ]
  },
  {
   "cell_type": "code",
   "execution_count": 313,
   "id": "c5cb5f50",
   "metadata": {
    "ExecuteTime": {
     "end_time": "2023-02-20T17:26:43.425020Z",
     "start_time": "2023-02-20T17:26:43.408471Z"
    }
   },
   "outputs": [],
   "source": [
    "import numpy as np\n",
    "\n",
    "\n",
    "def binary_classification_metrics(y_true, y_pred):\n",
    "    \"\"\"\n",
    "    Computes metrics for binary classification\n",
    "    Arguments:\n",
    "    y_pred, np array (num_samples) - model predictions\n",
    "    y_true, np array (num_samples) - true labels\n",
    "    Returns:\n",
    "    precision, recall, f1, accuracy - classification metrics\n",
    "    \"\"\"\n",
    "\n",
    "    # TODO: implement metrics!\n",
    "    # Some helpful links:\n",
    "    # https://en.wikipedia.org/wiki/Precision_and_recall\n",
    "    # https://en.wikipedia.org/wiki/F1_score\n",
    "    y_true = y_true.astype(int).astype(bool)\n",
    "    y_pred = y_pred.astype(int).astype(bool)\n",
    "    \n",
    "    TP = ((y_true==1)*(y_pred==1)).sum()\n",
    "    TN = ((y_true==0)*(y_pred==0)).sum()\n",
    "    FP = ((y_true==0)*(y_pred==1)).sum()\n",
    "    FN = ((y_true==1)*(y_pred==0)).sum()\n",
    "    \n",
    "    if TP+FP > 0:\n",
    "        precision = TP/(TP+FP)\n",
    "    else:\n",
    "        print('ATTENTION, TP+FP IS EQUAL ZERO, precision and f1 is undetermined')\n",
    "        precision = np.nan\n",
    "        f1 = np.nan\n",
    "        \n",
    "    if TP+FN > 0:\n",
    "        recall = TP/(TP+FN)\n",
    "    else:\n",
    "        print('ATTENTION, TP+FN IS EQUAL ZERO, recall and f1 is undetermined')\n",
    "        recall = np.nan\n",
    "        f1 = np.nan\n",
    "    \n",
    "    if precision + recall > 0:\n",
    "        f1 = 2 * (precision * recall) / (precision + recall)\n",
    "    else:\n",
    "        print('ATTENTION, precision+recall IS EQUAL ZERO, f1 is undetermined')\n",
    "        f1 = np.nan\n",
    "        \n",
    "    accuracy = (TP+TN)/(TP+FP+TN+FN)\n",
    "        \n",
    "    return precision, recall, f1, accuracy\n",
    "\n",
    "def multiclass_accuracy(y_true, y_pred):\n",
    "    \"\"\"\n",
    "    Computes metrics for multiclass classification\n",
    "    Arguments:\n",
    "    y_pred, np array of int (num_samples) - model predictions\n",
    "    y_true, np array of int (num_samples) - true labels\n",
    "    Returns:\n",
    "    accuracy - ratio of accurate predictions to total samples\n",
    "    \"\"\"\n",
    "\n",
    "    return (y_true==y_pred).sum()/y_true.shape[0]\n",
    "\n",
    "\n",
    "def r_squared(y_true, y_pred):\n",
    "    \"\"\"\n",
    "    Computes r-squared for regression\n",
    "    Arguments:\n",
    "    y_pred, np array of int (num_samples) - model predictions\n",
    "    y_true, np array of int (num_samples) - true values\n",
    "    Returns:\n",
    "    r2 - r-squared value\n",
    "    \"\"\"\n",
    "\n",
    "    RSS = ((y_true - y_pred)**2).sum()\n",
    "    TSS = ((y_true - y_true.mean())**2).sum()\n",
    "    \n",
    "    return 1 - RSS/TSS\n",
    "\n",
    "\n",
    "def mse(y_true, y_pred):\n",
    "    \"\"\"\n",
    "    Computes mean squared error\n",
    "    Arguments:\n",
    "    y_pred, np array of int (num_samples) - model predictions\n",
    "    y_true, np array of int (num_samples) - true values\n",
    "    Returns:\n",
    "    mse - mean squared error\n",
    "    \"\"\"\n",
    "    \n",
    "    return (((y_true - y_pred)**2).mean())**0.5\n",
    "\n",
    "\n",
    "def mae(y_true, y_pred):\n",
    "    \"\"\"\n",
    "    Computes mean absolut error\n",
    "    Arguments:\n",
    "    y_pred, np array of int (num_samples) - model predictions\n",
    "    y_true, np array of int (num_samples) - true values\n",
    "    Returns:\n",
    "    mae - mean absolut error\n",
    "    \"\"\"\n",
    "\n",
    "    return (np.abs((y_true - y_pred))).mean()\n",
    "    "
   ]
  },
  {
   "cell_type": "code",
   "execution_count": 4,
   "id": "43bd8dc9-c430-4313-a6a1-4d3e5a7e9c47",
   "metadata": {
    "ExecuteTime": {
     "end_time": "2023-02-12T17:03:21.057186Z",
     "start_time": "2023-02-12T17:03:21.047040Z"
    }
   },
   "outputs": [],
   "source": [
    "plt.rcParams[\"figure.figsize\"] = 12, 9\n",
    "sns.set_style(\"whitegrid\")\n",
    "\n",
    "SEED = 111\n",
    "random.seed(SEED)\n",
    "np.random.seed(SEED)"
   ]
  },
  {
   "cell_type": "markdown",
   "id": "2867b963-214c-49ea-9460-5b427b56544d",
   "metadata": {},
   "source": [
    "## Задание 1. KNN на датасете Fashion-MNIST (10 баллов)"
   ]
  },
  {
   "cell_type": "markdown",
   "id": "60a90da7-87ac-42e6-b376-bb34dac2b10b",
   "metadata": {},
   "source": [
    "В этом задании вам предстоит поработать с картинками одежды, среди которых можно выделить 10 классов. Данные уже загружены за вас: в переменной X лежат 70000 картинок размером 28 на 28 пикселей, вытянутые в вектор размерностью 784 (28 * 28). Так как данных довольно много, а наш KNN будет весьма медленный, то возьмем случайно 1000 наблюдений (в реальности в зависимости от вашей реализации можно будет взять больше, но если будет не зватать ОЗУ, то берите меньше)."
   ]
  },
  {
   "cell_type": "code",
   "execution_count": 5,
   "id": "54fa4253-ea6a-4ec4-b914-f7cb2346b195",
   "metadata": {
    "ExecuteTime": {
     "end_time": "2023-02-12T17:04:40.976505Z",
     "start_time": "2023-02-12T17:04:03.019083Z"
    }
   },
   "outputs": [],
   "source": [
    "X, y = fetch_openml(name=\"Fashion-MNIST\", return_X_y=True, as_frame=False)"
   ]
  },
  {
   "cell_type": "code",
   "execution_count": 6,
   "id": "3a188c83-6bf3-485d-9995-9f71d0868d30",
   "metadata": {
    "ExecuteTime": {
     "end_time": "2023-02-12T17:04:45.310378Z",
     "start_time": "2023-02-12T17:04:45.283963Z"
    }
   },
   "outputs": [],
   "source": [
    "idx_to_stay = np.random.choice(np.arange(X.shape[0]), replace=False, size=1000)\n",
    "X = X[idx_to_stay]\n",
    "y = y[idx_to_stay]"
   ]
  },
  {
   "cell_type": "markdown",
   "id": "4a9e7f89-97f9-4257-94aa-989826258726",
   "metadata": {},
   "source": [
    "Давайте посмотрим на какое-нибудь изображение из наших данных:"
   ]
  },
  {
   "cell_type": "code",
   "execution_count": 7,
   "id": "277e132c-b89f-4dbb-8efd-cbcea015876d",
   "metadata": {
    "ExecuteTime": {
     "end_time": "2023-02-12T17:04:48.389449Z",
     "start_time": "2023-02-12T17:04:48.180391Z"
    }
   },
   "outputs": [
    {
     "data": {
      "image/png": "[encoded data removed]",
      "text/plain": [
       "<Figure size 1200x900 with 1 Axes>"
      ]
     },
     "metadata": {},
     "output_type": "display_data"
    }
   ],
   "source": [
    "# возьмем случайную картинку и сделаем reshape\n",
    "# 28, 28, 1 = H, W, C (число каналов, в данном случае 1)\n",
    "image = X[np.random.choice(np.arange(X.shape[0]))].reshape(28, 28, 1)\n",
    "plt.imshow(image)\n",
    "plt.axis(\"off\");"
   ]
  },
  {
   "cell_type": "markdown",
   "id": "236e593f-595e-45f1-a794-4069a16637d7",
   "metadata": {},
   "source": [
    "### 1.1. Посмотрим на все классы (0.5 баллов)"
   ]
  },
  {
   "cell_type": "markdown",
   "id": "8cdf3ab2-47a4-492f-bf9a-25c4b00eb945",
   "metadata": {},
   "source": [
    "Возьмите по одной картинке каждого класса и изобразите их (например, сделайте subplots 5 на 2)."
   ]
  },
  {
   "cell_type": "code",
   "execution_count": 31,
   "id": "d15add04",
   "metadata": {
    "ExecuteTime": {
     "end_time": "2023-02-12T17:18:12.909300Z",
     "start_time": "2023-02-12T17:18:11.806507Z"
    }
   },
   "outputs": [
    {
     "data": {
      "image/png": "[encoded data removed]",
      "text/plain": [
       "<Figure size 1200x900 with 10 Axes>"
      ]
     },
     "metadata": {},
     "output_type": "display_data"
    }
   ],
   "source": [
    "fig, axs = plt.subplots(5, 2)\n",
    "\n",
    "for ax, element in zip(axs.flat, [str(i) for i in range(10)]):\n",
    "    image = X[np.where(y == element)[0][0]].reshape(28, 28, 1)\n",
    "    ax.imshow(image)\n",
    "    ax.set_title(f'Gather {element} type')\n",
    "    \n",
    "plt.subplots_adjust(hspace=0.5)"
   ]
  },
  {
   "cell_type": "markdown",
   "id": "866ea214-4de8-41b8-a2aa-c86ac0a04b74",
   "metadata": {},
   "source": [
    "### 1.2. Сделайте небольшой EDA (1 балл)"
   ]
  },
  {
   "cell_type": "markdown",
   "id": "1fe3abdf-2c95-4ce8-8fd3-2445d815ea3c",
   "metadata": {},
   "source": [
    "Посмотрите на баланс классов. В дальнейших домашках делайте EDA, когда считаете нужным, он нужен почти всегда, но оцениваться это уже не будет, если не будет указано иное. Делайте EDA, чтобы узнать что-то новое о данных!"
   ]
  },
  {
   "cell_type": "code",
   "execution_count": 34,
   "id": "74595ef7-06ab-4700-b9d9-42db3fdd36d5",
   "metadata": {
    "ExecuteTime": {
     "end_time": "2023-02-12T17:33:45.135656Z",
     "start_time": "2023-02-12T17:33:45.126466Z"
    }
   },
   "outputs": [
    {
     "name": "stdout",
     "output_type": "stream",
     "text": [
      "There are 93 elements of type 0\n",
      "There are 102 elements of type 1\n",
      "There are 95 elements of type 2\n",
      "There are 121 elements of type 3\n",
      "There are 96 elements of type 4\n",
      "There are 98 elements of type 5\n",
      "There are 101 elements of type 6\n",
      "There are 79 elements of type 7\n",
      "There are 109 elements of type 8\n",
      "There are 106 elements of type 9\n"
     ]
    }
   ],
   "source": [
    "for element in [str(i) for i in range(10)]:\n",
    "    element_occurence = np.where(y == element)[0]\n",
    "    print(f'There are {element_occurence.shape[0]} elements of type {element}')"
   ]
  },
  {
   "cell_type": "markdown",
   "id": "0f1acd16",
   "metadata": {},
   "source": [
    "В целом мы видим, что классы достаточно сбалансированные (нет отличия на порядок в количестве элементов между классами)"
   ]
  },
  {
   "cell_type": "markdown",
   "id": "68e8f61e-32d5-4ad7-9f2c-f7e0de050d32",
   "metadata": {},
   "source": [
    "### 1.3. Разделите данные на train и test (0.5 баллов)"
   ]
  },
  {
   "cell_type": "markdown",
   "id": "25cf3d30-6bd6-4bbb-bba6-4e249da33475",
   "metadata": {},
   "source": [
    "Разделите данные на тренировочную и тестовую выборки, размеры тестовой выборки выберите сами. Здесь вам может помочь функция `train_test_split`"
   ]
  },
  {
   "cell_type": "code",
   "execution_count": 35,
   "id": "1932bd43-16d6-4201-8950-7dbe720a9fa1",
   "metadata": {
    "ExecuteTime": {
     "end_time": "2023-02-12T17:36:00.700812Z",
     "start_time": "2023-02-12T17:36:00.689809Z"
    }
   },
   "outputs": [],
   "source": [
    "X_train, X_test, y_train, y_test = train_test_split(X, y, test_size=0.2)"
   ]
  },
  {
   "cell_type": "markdown",
   "id": "7c8e4cd4-b3d7-49b7-9b10-be02991ecfa7",
   "metadata": {},
   "source": [
    "### 1.4. KNN для бинарной классификации (6 баллов)"
   ]
  },
  {
   "cell_type": "markdown",
   "id": "aac2e121-639a-4b0c-8e9c-471ad5a8fac6",
   "metadata": {},
   "source": [
    "Давайте возьмем для задачи бинарной классификации только объекты с метками классов 0 и 1."
   ]
  },
  {
   "cell_type": "code",
   "execution_count": 41,
   "id": "d7dce59e",
   "metadata": {
    "ExecuteTime": {
     "end_time": "2023-02-12T17:40:38.297094Z",
     "start_time": "2023-02-12T17:40:38.289400Z"
    }
   },
   "outputs": [],
   "source": [
    "binary_train_mask = np.where((y_train == '0')|(y_train=='1'))[0]\n",
    "binary_test_mask = np.where((y_test == '0')|(y_test=='1'))[0]\n",
    "\n",
    "binary_train_X = X_train[binary_train_mask]\n",
    "binary_train_y = y_train[binary_train_mask]\n",
    "binary_test_X = X_test[binary_test_mask]\n",
    "binary_test_y = y_test[binary_test_mask]"
   ]
  },
  {
   "cell_type": "markdown",
   "id": "7df7db35-8832-47ec-9955-d0656695e7cd",
   "metadata": {},
   "source": [
    "И вот мы подготовили данные, но модели у нас пока что нет. В нескольких занятиях нашего курса вам придется самостоятельно реализовывать какие-то алгоритмы машинного обучения, а потом сравнивать их с готовыми библиотечными решениями. В остальных заданиях реализовывать алгоритмы будет не обязательно, но может быть полезно, поэтому часто это будут задания на дополнительные баллы, но главное не это, а понимание работы алгоритма после его реализации с нуля на простом numpy. Также это все потом можно оформить в виде репозитория ml_from_scratch и хвастаться перед друзьями."
   ]
  },
  {
   "cell_type": "code",
   "execution_count": 133,
   "id": "44d468e9-2a00-4268-bfdc-fbae3857ce90",
   "metadata": {
    "ExecuteTime": {
     "end_time": "2023-02-19T21:20:39.645849Z",
     "start_time": "2023-02-19T21:20:39.640413Z"
    }
   },
   "outputs": [],
   "source": [
    "knn_classifier = KNNClassifier(k=1)\n",
    "knn_classifier.fit(binary_train_X, binary_train_y)"
   ]
  },
  {
   "cell_type": "markdown",
   "id": "c5817a1d-161e-4242-bea5-821f416b3eec",
   "metadata": {},
   "source": [
    "### Настало время писать код!"
   ]
  },
  {
   "cell_type": "markdown",
   "id": "61c760bb-63c9-426d-9f4e-8fab02536da5",
   "metadata": {},
   "source": [
    "В KNN нам нужно для каждого тестового примера найти расстояния до всех точек обучающей выборки. Допустим у нас 1000 примеров в train'е и 100 в test'е, тогда в итоге мы бы хотели получить матрицу попарных расстояний (например, размерностью 100 на 1000). Это можно сделать несколькими способами, и кому-то наверняка, в голову приходит идея с двумя вложенными циклами (надеюсь, что не больше:). Так можно делать, то можно и эффективнее. Вообще, в реальном KNN используется структура данных [k-d-tree](https://ru.wikipedia.org/wiki/K-d-%D0%B4%D0%B5%D1%80%D0%B5%D0%B2%D0%BE), которая позволяет производить поиск за log(N), а не за N, как будем делать мы (по сути это такое расширение бинарного поиска на многомерное пространство).\n",
    "\n",
    "Вам нужно будет последовательно реализовать методы `compute_distances_two_loops`, `compute_distances_one_loop` и `compute_distances_no_loops` класса `KNN` в файле `knn.py`.\n",
    "\n",
    "Эти функции строят массив расстояний между всеми векторами в тестовом наборе и в тренировочном наборе.  \n",
    "В результате они должны построить массив размера `(num_test, num_train)`, где координата `[i][j]` соотвествует расстоянию между i-м вектором в test (`test[i]`) и j-м вектором в train (`train[j]`).\n",
    "\n",
    "**Обратите внимание** Для простоты реализации мы будем использовать в качестве расстояния меру L1 (ее еще называют [Manhattan distance](https://ru.wikipedia.org/wiki/%D0%A0%D0%B0%D1%81%D1%81%D1%82%D0%BE%D1%8F%D0%BD%D0%B8%D0%B5_%D0%B3%D0%BE%D1%80%D0%BE%D0%B4%D1%81%D0%BA%D0%B8%D1%85_%D0%BA%D0%B2%D0%B0%D1%80%D1%82%D0%B0%D0%BB%D0%BE%D0%B2)).\n",
    "\n",
    "$d_{1}(\\mathbf {p} ,\\mathbf {q} )=\\|\\mathbf {p} -\\mathbf {q} \\|_{1}=\\sum _{i=1}^{n}|p_{i}-q_{i}|$"
   ]
  },
  {
   "cell_type": "markdown",
   "id": "c32db2d0-355c-4d74-961e-22d6f42aa11b",
   "metadata": {},
   "source": [
    "В начале я буду иногда писать разные assert'ы, чтобы можно было проверить правильность реализации, в дальнейшем вам нужно будет их писать самим, если нужно будет проверять корректность каких-то вычислений."
   ]
  },
  {
   "cell_type": "code",
   "execution_count": 123,
   "id": "01b1ef27-4284-4d6c-978b-25f0fefd39be",
   "metadata": {
    "ExecuteTime": {
     "end_time": "2023-02-19T21:09:51.170664Z",
     "start_time": "2023-02-19T21:09:51.084027Z"
    }
   },
   "outputs": [],
   "source": [
    "dists = knn_classifier.compute_distances_two_loops(binary_test_X)\n",
    "assert np.isclose(dists[0, 100], np.sum(np.abs(binary_test_X[0] - binary_train_X[100])))"
   ]
  },
  {
   "cell_type": "code",
   "execution_count": 115,
   "id": "505e2c4b-1cfe-4e4a-8002-d9ce089d100e",
   "metadata": {
    "ExecuteTime": {
     "end_time": "2023-02-19T21:02:53.615112Z",
     "start_time": "2023-02-19T21:02:53.588171Z"
    }
   },
   "outputs": [],
   "source": [
    "dists = knn_classifier.compute_distances_one_loop(binary_test_X)\n",
    "assert np.isclose(dists[0, 100], np.sum(np.abs(binary_test_X[0] - binary_train_X[100])))"
   ]
  },
  {
   "cell_type": "code",
   "execution_count": 106,
   "id": "dd81b766-5de2-4f62-82cf-8b6bd52002db",
   "metadata": {
    "ExecuteTime": {
     "end_time": "2023-02-19T17:49:20.798115Z",
     "start_time": "2023-02-19T17:49:20.755389Z"
    }
   },
   "outputs": [],
   "source": [
    "dists = knn_classifier.compute_distances_no_loops(binary_test_X)\n",
    "assert np.isclose(dists[0, 100], np.sum(np.abs(binary_test_X[0] - binary_train_X[100])))"
   ]
  },
  {
   "cell_type": "markdown",
   "id": "64d108b7-b132-42b5-bdca-bc91af8ed3d7",
   "metadata": {},
   "source": [
    "Проверим скорость работы реализованных методов"
   ]
  },
  {
   "cell_type": "code",
   "execution_count": 107,
   "id": "8ed08354-d0ef-497a-9d9c-b17c92b7bef9",
   "metadata": {
    "ExecuteTime": {
     "end_time": "2023-02-19T17:49:58.999787Z",
     "start_time": "2023-02-19T17:49:42.543351Z"
    }
   },
   "outputs": [
    {
     "name": "stdout",
     "output_type": "stream",
     "text": [
      "59.6 ms ± 5.04 ms per loop (mean ± std. dev. of 7 runs, 10 loops each)\n",
      "10.9 ms ± 80.7 µs per loop (mean ± std. dev. of 7 runs, 100 loops each)\n",
      "33.5 ms ± 451 µs per loop (mean ± std. dev. of 7 runs, 10 loops each)\n"
     ]
    }
   ],
   "source": [
    "%timeit knn_classifier.compute_distances_two_loops(binary_test_X)\n",
    "%timeit knn_classifier.compute_distances_one_loop(binary_test_X)\n",
    "%timeit knn_classifier.compute_distances_no_loops(binary_test_X)"
   ]
  },
  {
   "cell_type": "markdown",
   "id": "8180ecc3-8c24-4564-8963-1a0123b06043",
   "metadata": {},
   "source": [
    "Реализуем метод для предсказания меток класса"
   ]
  },
  {
   "cell_type": "code",
   "execution_count": 135,
   "id": "9ca2679e-c731-467b-94b5-91a3a0641d7e",
   "metadata": {
    "ExecuteTime": {
     "end_time": "2023-02-19T21:21:01.423796Z",
     "start_time": "2023-02-19T21:21:01.380252Z"
    }
   },
   "outputs": [],
   "source": [
    "prediction = knn_classifier.predict(binary_test_X)"
   ]
  },
  {
   "cell_type": "markdown",
   "id": "d746796d-6ca0-4828-be8a-8b9e22999f54",
   "metadata": {},
   "source": [
    "### Метрика"
   ]
  },
  {
   "cell_type": "markdown",
   "id": "c29f2abf-be34-4273-a7cd-d2c62ba1eecc",
   "metadata": {},
   "source": [
    "Теперь нужно реализовать несколько метрик для бинарной классификации. Не забудьте подумать о численной нестабильности (деление на 0)."
   ]
  },
  {
   "cell_type": "code",
   "execution_count": 187,
   "id": "7842978b-a328-4035-b9c4-eb3711cb58c4",
   "metadata": {
    "ExecuteTime": {
     "end_time": "2023-02-20T11:40:26.193124Z",
     "start_time": "2023-02-20T11:40:26.186051Z"
    }
   },
   "outputs": [
    {
     "data": {
      "text/plain": [
       "(1.0, 1.0, 1.0, 1.0)"
      ]
     },
     "execution_count": 187,
     "metadata": {},
     "output_type": "execute_result"
    }
   ],
   "source": [
    "binary_classification_metrics(binary_test_y, prediction)"
   ]
  },
  {
   "cell_type": "code",
   "execution_count": 188,
   "id": "0b8fa3c1",
   "metadata": {
    "ExecuteTime": {
     "end_time": "2023-02-20T11:40:29.802263Z",
     "start_time": "2023-02-20T11:40:29.788757Z"
    }
   },
   "outputs": [
    {
     "name": "stdout",
     "output_type": "stream",
     "text": [
      "1.0 1.0 1.0 1.0\n"
     ]
    }
   ],
   "source": [
    "print(recall_score(binary_test_y.astype(int).astype(bool), prediction),\n",
    "precision_score(binary_test_y.astype(int).astype(bool), prediction),\n",
    "f1_score(binary_test_y.astype(int).astype(bool), prediction),\n",
    "accuracy_score(binary_test_y.astype(int).astype(bool), prediction))"
   ]
  },
  {
   "cell_type": "markdown",
   "id": "71dbca1f-9ad4-4059-9b1c-0c0c85d7d816",
   "metadata": {},
   "source": [
    "Все ли хорошо с моделью? Можно проверить свою реализацию с функциями из библиотеки `sklearn`:"
   ]
  },
  {
   "cell_type": "markdown",
   "id": "5982d081-ddf9-4522-99b0-459a5cee087c",
   "metadata": {},
   "source": [
    "<img src=\"https://i.imgflip.com/406fu9.jpg\" width=\"800\" height=\"400\">"
   ]
  },
  {
   "cell_type": "code",
   "execution_count": null,
   "id": "5caeb94f-6464-4adf-b3b6-8e12bf4a50b4",
   "metadata": {},
   "outputs": [],
   "source": [
    "from sklearn.metrics import precision_score, recall_score, f1_score, accuracy_score"
   ]
  },
  {
   "cell_type": "markdown",
   "id": "6e9b0e1a-3c67-4cc3-bf75-6848f43e8256",
   "metadata": {},
   "source": [
    "### Подбор оптимального k"
   ]
  },
  {
   "cell_type": "markdown",
   "id": "4069069e-f200-4673-a99c-745e7a5b6b36",
   "metadata": {},
   "source": [
    "Чтобы подрбрать оптимальное значение параметра k можно сделать следующее: задать область допустимых значений k, например, `[1, 3, 5, 10]`. Дальше для каждого k обучить модель на тренировочных данных, сделать предсказания на тестовых и посчитать какую-нибудь метрику (метрику выберите сами исходя из задачи, но постарайтесь обосновать выбор). В конце нужно посмотреть на зависимость метрики на train'е и test'е от k и выбрать подходящее значение.\n",
    "\n",
    "Реализуйте функцию `choose_best_k` прямо в ноутбуке."
   ]
  },
  {
   "cell_type": "markdown",
   "id": "342231ce",
   "metadata": {},
   "source": [
    "С точки зрения метрик для нас не важно, будут у нас False Positive или False Negative. Поэтому воспользуемся метрикой **f1_score**"
   ]
  },
  {
   "cell_type": "code",
   "execution_count": 197,
   "id": "374d6fcf-21f2-433c-b011-76019201ce52",
   "metadata": {
    "ExecuteTime": {
     "end_time": "2023-02-20T13:02:31.333144Z",
     "start_time": "2023-02-20T13:02:31.323572Z"
    }
   },
   "outputs": [],
   "source": [
    "def find_best_k(X_train, y_train, X_test, y_test, params, metric):\n",
    "    \"\"\"\n",
    "    Choose the best k for KKNClassifier\n",
    "    Arguments:\n",
    "    X_train, np array (num_train_samples, num_features) - train data\n",
    "    y_train, np array (num_train_samples) - train labels\n",
    "    X_test, np array (num_test_samples, num_features) - test data\n",
    "    y_test, np array (num_test_samples) - test labels\n",
    "    params, list of hyperparameters for KNN, here it is list of k values\n",
    "    metric, function for metric calculation\n",
    "    Returns:\n",
    "    train_metrics the list of metric values on train data set for each k in params\n",
    "    test_metrics the list of metric values on test data set for each k in params\n",
    "    \"\"\"\n",
    "    \n",
    "    \"\"\"\n",
    "    YOUR CODE IS HERE\n",
    "    \"\"\"\n",
    "    train_metrics = []\n",
    "    test_metrics = []\n",
    "    \n",
    "    for k in params:\n",
    "        knn_classifier = KNNClassifier(k=k)\n",
    "        knn_classifier.fit(X_train, y_train)\n",
    "        prediction_train = knn_classifier.predict(X_train)\n",
    "        prediction_test = knn_classifier.predict(X_test)\n",
    "        train_metrics.append(metric(y_train, prediction_train))\n",
    "        test_metrics.append(metric(y_test, prediction_test))\n",
    "        \n",
    "    return train_metrics, test_metrics"
   ]
  },
  {
   "cell_type": "code",
   "execution_count": 206,
   "id": "a2418dd8-93f1-4a11-8488-a8bce98e7d5f",
   "metadata": {
    "ExecuteTime": {
     "end_time": "2023-02-20T14:06:25.867406Z",
     "start_time": "2023-02-20T14:06:24.732352Z"
    },
    "tags": []
   },
   "outputs": [],
   "source": [
    "params = [1, 2, 4, 5, 8, 10, 30]\n",
    "train_metrics, test_metrics = find_best_k(binary_train_X, binary_train_y.astype(int).astype(bool), binary_test_X, binary_test_y.astype(int).astype(bool), params, f1_score)"
   ]
  },
  {
   "cell_type": "code",
   "execution_count": 207,
   "id": "7053ce06-854c-412b-8559-833595b1d6c0",
   "metadata": {
    "ExecuteTime": {
     "end_time": "2023-02-20T14:06:29.392662Z",
     "start_time": "2023-02-20T14:06:29.139195Z"
    }
   },
   "outputs": [
    {
     "data": {
      "image/png": "[encoded data removed]",
      "text/plain": [
       "<Figure size 1200x900 with 1 Axes>"
      ]
     },
     "metadata": {},
     "output_type": "display_data"
    }
   ],
   "source": [
    "plt.plot(params, train_metrics, label=\"train\")\n",
    "plt.plot(params, test_metrics, label=\"test\")\n",
    "plt.legend()\n",
    "plt.xlabel(\"K in KNN\")\n",
    "plt.ylabel(\"YOUR METRIC\");"
   ]
  },
  {
   "cell_type": "markdown",
   "id": "0a161f87",
   "metadata": {},
   "source": [
    "Лучшее предсказание при **k = 1, 2**. Возьмём k=2 тк при k=1 скорее всего будет переобучение"
   ]
  },
  {
   "cell_type": "markdown",
   "id": "73fdecd7-a4b6-4ca9-8688-d1ae2195647f",
   "metadata": {},
   "source": [
    "На самом деле, это не самый лучший способ подбирать гиперпараметры, но способы получше мы рассмотрим в следующий раз, а пока что выберите оптимальное значение k, сделайте предсказания и посмотрите, насколько хорошо ваша модель предсказывает каждый из классов."
   ]
  },
  {
   "cell_type": "code",
   "execution_count": 209,
   "id": "60582a37",
   "metadata": {
    "ExecuteTime": {
     "end_time": "2023-02-20T14:18:39.949528Z",
     "start_time": "2023-02-20T14:18:38.009362Z"
    }
   },
   "outputs": [],
   "source": [
    "k=2\n",
    "knn_classifier = KNNClassifier(k=k)\n",
    "knn_classifier.fit(binary_train_X, binary_train_y)\n",
    "prediction_test = knn_classifier.predict(binary_test_X)"
   ]
  },
  {
   "cell_type": "code",
   "execution_count": 211,
   "id": "3c7ed68a",
   "metadata": {
    "ExecuteTime": {
     "end_time": "2023-02-20T14:22:15.348828Z",
     "start_time": "2023-02-20T14:22:15.334041Z"
    }
   },
   "outputs": [
    {
     "data": {
      "text/plain": [
       "(1.0, 1.0, 1.0, 1.0)"
      ]
     },
     "execution_count": 211,
     "metadata": {},
     "output_type": "execute_result"
    }
   ],
   "source": [
    "binary_classification_metrics(binary_test_y, prediction_test)"
   ]
  },
  {
   "cell_type": "markdown",
   "id": "d5c4f177",
   "metadata": {},
   "source": [
    "Кек, работает идеально, что же не так?"
   ]
  },
  {
   "cell_type": "code",
   "execution_count": 214,
   "id": "277bc9f1",
   "metadata": {
    "ExecuteTime": {
     "end_time": "2023-02-20T14:24:01.030679Z",
     "start_time": "2023-02-20T14:24:00.989644Z"
    }
   },
   "outputs": [
    {
     "data": {
      "text/plain": [
       "1    22\n",
       "0    18\n",
       "dtype: int64"
      ]
     },
     "execution_count": 214,
     "metadata": {},
     "output_type": "execute_result"
    }
   ],
   "source": [
    "pd.Series(binary_test_y).value_counts()"
   ]
  },
  {
   "cell_type": "code",
   "execution_count": 215,
   "id": "bf12e9f2",
   "metadata": {
    "ExecuteTime": {
     "end_time": "2023-02-20T14:25:16.229838Z",
     "start_time": "2023-02-20T14:25:16.181081Z"
    }
   },
   "outputs": [
    {
     "data": {
      "text/plain": [
       "1    80\n",
       "0    75\n",
       "dtype: int64"
      ]
     },
     "execution_count": 215,
     "metadata": {},
     "output_type": "execute_result"
    }
   ],
   "source": [
    "pd.Series(binary_train_y).value_counts()"
   ]
  },
  {
   "cell_type": "markdown",
   "id": "0e156681",
   "metadata": {},
   "source": [
    "Вроде классы сбалансированы. В целом это объяснимо, тк мы классифицируем два типа одежды, а они сильно отличаются с точки зрения пикселей"
   ]
  },
  {
   "cell_type": "markdown",
   "id": "0bc98c29-3217-407c-a466-58072bb7b8cc",
   "metadata": {},
   "source": [
    "### 1.5. Многоклассоввая классификация (2 балла)"
   ]
  },
  {
   "cell_type": "markdown",
   "id": "aa0fa9bf-3002-4b0e-8e52-1d9e70795092",
   "metadata": {},
   "source": [
    "Теперь нужно научиться предсказывать все 10 классов. Для этого в начале напишем соответствующий метод у нашего классификатора."
   ]
  },
  {
   "cell_type": "code",
   "execution_count": 271,
   "id": "88b37ef1-fa15-4cc5-8558-0254890c899d",
   "metadata": {
    "ExecuteTime": {
     "end_time": "2023-02-20T15:04:22.646917Z",
     "start_time": "2023-02-20T15:04:21.734057Z"
    }
   },
   "outputs": [],
   "source": [
    "# DONE: predict_labels_multiclass in knn.py\n",
    "knn_classifier = KNNClassifier(k=1)\n",
    "knn_classifier.fit(X_train, y_train)\n",
    "predictions = knn_classifier.predict(X_test)"
   ]
  },
  {
   "cell_type": "markdown",
   "id": "fa8ed7ad-e347-4f78-b34f-88febee9e94b",
   "metadata": {},
   "source": [
    "Осталось реализовать метрику качества для многоклассовой классификации, для этого реализуйте функцию `multiclass_accuracy` в `metrics.py`."
   ]
  },
  {
   "cell_type": "code",
   "execution_count": 274,
   "id": "65887922-a799-4042-902e-f63f69508beb",
   "metadata": {
    "ExecuteTime": {
     "end_time": "2023-02-20T15:04:28.473332Z",
     "start_time": "2023-02-20T15:04:28.465431Z"
    }
   },
   "outputs": [
    {
     "data": {
      "text/plain": [
       "0.775"
      ]
     },
     "execution_count": 274,
     "metadata": {},
     "output_type": "execute_result"
    }
   ],
   "source": [
    "# DONE: multiclass_accuracy in metrics.py\n",
    "multiclass_accuracy(predictions, y_test)"
   ]
  },
  {
   "cell_type": "markdown",
   "id": "a6fe44f6-e056-4f17-beb6-0ce65fab268f",
   "metadata": {},
   "source": [
    "Снова выберите оптимальное значение K как мы делали для бинарной классификации."
   ]
  },
  {
   "cell_type": "markdown",
   "id": "daa8ee4a-88c1-4967-84f1-6f7ec223db7e",
   "metadata": {},
   "source": [
    "## Задание 2. KNN на датасете diabetes (10 баллов)"
   ]
  },
  {
   "cell_type": "markdown",
   "id": "d3dac1f9-42ef-406f-988c-2d663b8b2806",
   "metadata": {},
   "source": [
    "Теперь попробуем применить KNN к задаче регрессии. Будем работать с [данными](https://scikit-learn.org/stable/datasets/toy_dataset.html#diabetes-dataset) о диабете. В этом задании будем использовать класс `KNeighborsRegressor` из библиотеки `sklearn`. Загрузим необходимые библиотеки:"
   ]
  },
  {
   "cell_type": "code",
   "execution_count": 275,
   "id": "8ab4c84e-6036-4fe2-b81f-8115bf0a4774",
   "metadata": {
    "ExecuteTime": {
     "end_time": "2023-02-20T15:17:51.926136Z",
     "start_time": "2023-02-20T15:17:51.825087Z"
    }
   },
   "outputs": [],
   "source": [
    "from sklearn.datasets import load_diabetes\n",
    "from sklearn.metrics import r2_score, mean_absolute_error, mean_squared_error\n",
    "from sklearn.preprocessing import StandardScaler\n",
    "from sklearn.neighbors import KNeighborsRegressor"
   ]
  },
  {
   "cell_type": "code",
   "execution_count": 276,
   "id": "4136b3bb-e482-4102-ad5f-af5b3b1a030a",
   "metadata": {
    "ExecuteTime": {
     "end_time": "2023-02-20T15:17:53.995916Z",
     "start_time": "2023-02-20T15:17:53.953210Z"
    }
   },
   "outputs": [],
   "source": [
    "X, y = load_diabetes(as_frame=True, return_X_y=True)"
   ]
  },
  {
   "cell_type": "code",
   "execution_count": 277,
   "id": "c884e687-964a-4b00-9f10-232c45705f12",
   "metadata": {
    "ExecuteTime": {
     "end_time": "2023-02-20T15:17:55.518904Z",
     "start_time": "2023-02-20T15:17:55.496122Z"
    }
   },
   "outputs": [
    {
     "data": {
      "text/html": [
       "<div>\n",
       "<style scoped>\n",
       "    .dataframe tbody tr th:only-of-type {\n",
       "        vertical-align: middle;\n",
       "    }\n",
       "\n",
       "    .dataframe tbody tr th {\n",
       "        vertical-align: top;\n",
       "    }\n",
       "\n",
       "    .dataframe thead th {\n",
       "        text-align: right;\n",
       "    }\n",
       "</style>\n",
       "<table border=\"1\" class=\"dataframe\">\n",
       "  <thead>\n",
       "    <tr style=\"text-align: right;\">\n",
       "      <th></th>\n",
       "      <th>age</th>\n",
       "      <th>sex</th>\n",
       "      <th>bmi</th>\n",
       "      <th>bp</th>\n",
       "      <th>s1</th>\n",
       "      <th>s2</th>\n",
       "      <th>s3</th>\n",
       "      <th>s4</th>\n",
       "      <th>s5</th>\n",
       "      <th>s6</th>\n",
       "    </tr>\n",
       "  </thead>\n",
       "  <tbody>\n",
       "    <tr>\n",
       "      <th>0</th>\n",
       "      <td>0.038076</td>\n",
       "      <td>0.050680</td>\n",
       "      <td>0.061696</td>\n",
       "      <td>0.021872</td>\n",
       "      <td>-0.044223</td>\n",
       "      <td>-0.034821</td>\n",
       "      <td>-0.043401</td>\n",
       "      <td>-0.002592</td>\n",
       "      <td>0.019907</td>\n",
       "      <td>-0.017646</td>\n",
       "    </tr>\n",
       "    <tr>\n",
       "      <th>1</th>\n",
       "      <td>-0.001882</td>\n",
       "      <td>-0.044642</td>\n",
       "      <td>-0.051474</td>\n",
       "      <td>-0.026328</td>\n",
       "      <td>-0.008449</td>\n",
       "      <td>-0.019163</td>\n",
       "      <td>0.074412</td>\n",
       "      <td>-0.039493</td>\n",
       "      <td>-0.068332</td>\n",
       "      <td>-0.092204</td>\n",
       "    </tr>\n",
       "    <tr>\n",
       "      <th>2</th>\n",
       "      <td>0.085299</td>\n",
       "      <td>0.050680</td>\n",
       "      <td>0.044451</td>\n",
       "      <td>-0.005670</td>\n",
       "      <td>-0.045599</td>\n",
       "      <td>-0.034194</td>\n",
       "      <td>-0.032356</td>\n",
       "      <td>-0.002592</td>\n",
       "      <td>0.002861</td>\n",
       "      <td>-0.025930</td>\n",
       "    </tr>\n",
       "    <tr>\n",
       "      <th>3</th>\n",
       "      <td>-0.089063</td>\n",
       "      <td>-0.044642</td>\n",
       "      <td>-0.011595</td>\n",
       "      <td>-0.036656</td>\n",
       "      <td>0.012191</td>\n",
       "      <td>0.024991</td>\n",
       "      <td>-0.036038</td>\n",
       "      <td>0.034309</td>\n",
       "      <td>0.022688</td>\n",
       "      <td>-0.009362</td>\n",
       "    </tr>\n",
       "    <tr>\n",
       "      <th>4</th>\n",
       "      <td>0.005383</td>\n",
       "      <td>-0.044642</td>\n",
       "      <td>-0.036385</td>\n",
       "      <td>0.021872</td>\n",
       "      <td>0.003935</td>\n",
       "      <td>0.015596</td>\n",
       "      <td>0.008142</td>\n",
       "      <td>-0.002592</td>\n",
       "      <td>-0.031988</td>\n",
       "      <td>-0.046641</td>\n",
       "    </tr>\n",
       "  </tbody>\n",
       "</table>\n",
       "</div>"
      ],
      "text/plain": [
       "        age       sex       bmi        bp        s1        s2        s3  \\\n",
       "0  0.038076  0.050680  0.061696  0.021872 -0.044223 -0.034821 -0.043401   \n",
       "1 -0.001882 -0.044642 -0.051474 -0.026328 -0.008449 -0.019163  0.074412   \n",
       "2  0.085299  0.050680  0.044451 -0.005670 -0.045599 -0.034194 -0.032356   \n",
       "3 -0.089063 -0.044642 -0.011595 -0.036656  0.012191  0.024991 -0.036038   \n",
       "4  0.005383 -0.044642 -0.036385  0.021872  0.003935  0.015596  0.008142   \n",
       "\n",
       "         s4        s5        s6  \n",
       "0 -0.002592  0.019907 -0.017646  \n",
       "1 -0.039493 -0.068332 -0.092204  \n",
       "2 -0.002592  0.002861 -0.025930  \n",
       "3  0.034309  0.022688 -0.009362  \n",
       "4 -0.002592 -0.031988 -0.046641  "
      ]
     },
     "execution_count": 277,
     "metadata": {},
     "output_type": "execute_result"
    }
   ],
   "source": [
    "X.head()"
   ]
  },
  {
   "cell_type": "markdown",
   "id": "9ce6cd71-dd17-40af-b7cc-c48e61d31719",
   "metadata": {},
   "source": [
    "### 2.1. EDA (2 обязательных балла + 2 доп. балла за Pipeline)"
   ]
  },
  {
   "cell_type": "markdown",
   "id": "4397b3ad-63f9-4b25-ab7e-d572216e21c5",
   "metadata": {},
   "source": [
    "Сделайте EDA, предобработайте данные так, как считаете нужным, нужна ли в данном случае стандартизация и почему? Не забудте, что если вы стандартизуете данные, то нужно считать среднее и сдандартное отклонение на тренировочной части и с помощью них трансформировать и train, и test (**если не поняли это предложение, то обязательно разберитесь**).\n",
    "\n",
    "**Дополнительно**:\n",
    "Попробуйте разобраться с [`Pipeline`](https://scikit-learn.org/stable/modules/generated/sklearn.pipeline.Pipeline.html), чтобы можно было создать класс, который сразу проводит стандартизацию и обучает модель (или делает предсказание). Пайплайны очень удобны, когда нужно применять различные методы предобработки данных (в том числе и к разным столбцам), а также они позволяют правильно интегрировать предобработку данных в различные классы для поиска наилучших гиперпараметров модели (например, `GridSearchCV`)."
   ]
  },
  {
   "cell_type": "code",
   "execution_count": 278,
   "id": "a4aa413d-d830-4355-a063-9c5d6d5a6c9a",
   "metadata": {
    "ExecuteTime": {
     "end_time": "2023-02-20T15:26:56.079255Z",
     "start_time": "2023-02-20T15:26:56.072727Z"
    }
   },
   "outputs": [],
   "source": [
    "from sklearn.pipeline import Pipeline"
   ]
  },
  {
   "cell_type": "code",
   "execution_count": 280,
   "id": "89fe43c8",
   "metadata": {
    "ExecuteTime": {
     "end_time": "2023-02-20T15:27:11.977965Z",
     "start_time": "2023-02-20T15:27:11.928884Z"
    }
   },
   "outputs": [
    {
     "data": {
      "text/html": [
       "<div>\n",
       "<style scoped>\n",
       "    .dataframe tbody tr th:only-of-type {\n",
       "        vertical-align: middle;\n",
       "    }\n",
       "\n",
       "    .dataframe tbody tr th {\n",
       "        vertical-align: top;\n",
       "    }\n",
       "\n",
       "    .dataframe thead th {\n",
       "        text-align: right;\n",
       "    }\n",
       "</style>\n",
       "<table border=\"1\" class=\"dataframe\">\n",
       "  <thead>\n",
       "    <tr style=\"text-align: right;\">\n",
       "      <th></th>\n",
       "      <th>age</th>\n",
       "      <th>sex</th>\n",
       "      <th>bmi</th>\n",
       "      <th>bp</th>\n",
       "      <th>s1</th>\n",
       "      <th>s2</th>\n",
       "      <th>s3</th>\n",
       "      <th>s4</th>\n",
       "      <th>s5</th>\n",
       "      <th>s6</th>\n",
       "    </tr>\n",
       "  </thead>\n",
       "  <tbody>\n",
       "    <tr>\n",
       "      <th>count</th>\n",
       "      <td>4.420000e+02</td>\n",
       "      <td>4.420000e+02</td>\n",
       "      <td>4.420000e+02</td>\n",
       "      <td>4.420000e+02</td>\n",
       "      <td>4.420000e+02</td>\n",
       "      <td>4.420000e+02</td>\n",
       "      <td>4.420000e+02</td>\n",
       "      <td>4.420000e+02</td>\n",
       "      <td>4.420000e+02</td>\n",
       "      <td>4.420000e+02</td>\n",
       "    </tr>\n",
       "    <tr>\n",
       "      <th>mean</th>\n",
       "      <td>-2.511817e-19</td>\n",
       "      <td>1.230790e-17</td>\n",
       "      <td>-2.245564e-16</td>\n",
       "      <td>-4.797570e-17</td>\n",
       "      <td>-1.381499e-17</td>\n",
       "      <td>3.918434e-17</td>\n",
       "      <td>-5.777179e-18</td>\n",
       "      <td>-9.042540e-18</td>\n",
       "      <td>9.293722e-17</td>\n",
       "      <td>1.130318e-17</td>\n",
       "    </tr>\n",
       "    <tr>\n",
       "      <th>std</th>\n",
       "      <td>4.761905e-02</td>\n",
       "      <td>4.761905e-02</td>\n",
       "      <td>4.761905e-02</td>\n",
       "      <td>4.761905e-02</td>\n",
       "      <td>4.761905e-02</td>\n",
       "      <td>4.761905e-02</td>\n",
       "      <td>4.761905e-02</td>\n",
       "      <td>4.761905e-02</td>\n",
       "      <td>4.761905e-02</td>\n",
       "      <td>4.761905e-02</td>\n",
       "    </tr>\n",
       "    <tr>\n",
       "      <th>min</th>\n",
       "      <td>-1.072256e-01</td>\n",
       "      <td>-4.464164e-02</td>\n",
       "      <td>-9.027530e-02</td>\n",
       "      <td>-1.123988e-01</td>\n",
       "      <td>-1.267807e-01</td>\n",
       "      <td>-1.156131e-01</td>\n",
       "      <td>-1.023071e-01</td>\n",
       "      <td>-7.639450e-02</td>\n",
       "      <td>-1.260971e-01</td>\n",
       "      <td>-1.377672e-01</td>\n",
       "    </tr>\n",
       "    <tr>\n",
       "      <th>25%</th>\n",
       "      <td>-3.729927e-02</td>\n",
       "      <td>-4.464164e-02</td>\n",
       "      <td>-3.422907e-02</td>\n",
       "      <td>-3.665608e-02</td>\n",
       "      <td>-3.424784e-02</td>\n",
       "      <td>-3.035840e-02</td>\n",
       "      <td>-3.511716e-02</td>\n",
       "      <td>-3.949338e-02</td>\n",
       "      <td>-3.324559e-02</td>\n",
       "      <td>-3.317903e-02</td>\n",
       "    </tr>\n",
       "    <tr>\n",
       "      <th>50%</th>\n",
       "      <td>5.383060e-03</td>\n",
       "      <td>-4.464164e-02</td>\n",
       "      <td>-7.283766e-03</td>\n",
       "      <td>-5.670422e-03</td>\n",
       "      <td>-4.320866e-03</td>\n",
       "      <td>-3.819065e-03</td>\n",
       "      <td>-6.584468e-03</td>\n",
       "      <td>-2.592262e-03</td>\n",
       "      <td>-1.947171e-03</td>\n",
       "      <td>-1.077698e-03</td>\n",
       "    </tr>\n",
       "    <tr>\n",
       "      <th>75%</th>\n",
       "      <td>3.807591e-02</td>\n",
       "      <td>5.068012e-02</td>\n",
       "      <td>3.124802e-02</td>\n",
       "      <td>3.564379e-02</td>\n",
       "      <td>2.835801e-02</td>\n",
       "      <td>2.984439e-02</td>\n",
       "      <td>2.931150e-02</td>\n",
       "      <td>3.430886e-02</td>\n",
       "      <td>3.243232e-02</td>\n",
       "      <td>2.791705e-02</td>\n",
       "    </tr>\n",
       "    <tr>\n",
       "      <th>max</th>\n",
       "      <td>1.107267e-01</td>\n",
       "      <td>5.068012e-02</td>\n",
       "      <td>1.705552e-01</td>\n",
       "      <td>1.320436e-01</td>\n",
       "      <td>1.539137e-01</td>\n",
       "      <td>1.987880e-01</td>\n",
       "      <td>1.811791e-01</td>\n",
       "      <td>1.852344e-01</td>\n",
       "      <td>1.335973e-01</td>\n",
       "      <td>1.356118e-01</td>\n",
       "    </tr>\n",
       "  </tbody>\n",
       "</table>\n",
       "</div>"
      ],
      "text/plain": [
       "                age           sex           bmi            bp            s1  \\\n",
       "count  4.420000e+02  4.420000e+02  4.420000e+02  4.420000e+02  4.420000e+02   \n",
       "mean  -2.511817e-19  1.230790e-17 -2.245564e-16 -4.797570e-17 -1.381499e-17   \n",
       "std    4.761905e-02  4.761905e-02  4.761905e-02  4.761905e-02  4.761905e-02   \n",
       "min   -1.072256e-01 -4.464164e-02 -9.027530e-02 -1.123988e-01 -1.267807e-01   \n",
       "25%   -3.729927e-02 -4.464164e-02 -3.422907e-02 -3.665608e-02 -3.424784e-02   \n",
       "50%    5.383060e-03 -4.464164e-02 -7.283766e-03 -5.670422e-03 -4.320866e-03   \n",
       "75%    3.807591e-02  5.068012e-02  3.124802e-02  3.564379e-02  2.835801e-02   \n",
       "max    1.107267e-01  5.068012e-02  1.705552e-01  1.320436e-01  1.539137e-01   \n",
       "\n",
       "                 s2            s3            s4            s5            s6  \n",
       "count  4.420000e+02  4.420000e+02  4.420000e+02  4.420000e+02  4.420000e+02  \n",
       "mean   3.918434e-17 -5.777179e-18 -9.042540e-18  9.293722e-17  1.130318e-17  \n",
       "std    4.761905e-02  4.761905e-02  4.761905e-02  4.761905e-02  4.761905e-02  \n",
       "min   -1.156131e-01 -1.023071e-01 -7.639450e-02 -1.260971e-01 -1.377672e-01  \n",
       "25%   -3.035840e-02 -3.511716e-02 -3.949338e-02 -3.324559e-02 -3.317903e-02  \n",
       "50%   -3.819065e-03 -6.584468e-03 -2.592262e-03 -1.947171e-03 -1.077698e-03  \n",
       "75%    2.984439e-02  2.931150e-02  3.430886e-02  3.243232e-02  2.791705e-02  \n",
       "max    1.987880e-01  1.811791e-01  1.852344e-01  1.335973e-01  1.356118e-01  "
      ]
     },
     "execution_count": 280,
     "metadata": {},
     "output_type": "execute_result"
    }
   ],
   "source": [
    "X.describe()"
   ]
  },
  {
   "cell_type": "markdown",
   "id": "85ec4ba8",
   "metadata": {},
   "source": [
    "кажется, данные уже стандартизованы, только std != 1)))"
   ]
  },
  {
   "cell_type": "code",
   "execution_count": 288,
   "id": "3ecd1e63",
   "metadata": {
    "ExecuteTime": {
     "end_time": "2023-02-20T17:11:03.789826Z",
     "start_time": "2023-02-20T17:11:03.780228Z"
    }
   },
   "outputs": [],
   "source": [
    "X_train, X_test, y_train, y_test = train_test_split(X, y, test_size=0.2)"
   ]
  },
  {
   "cell_type": "code",
   "execution_count": 289,
   "id": "0b83fb90",
   "metadata": {
    "ExecuteTime": {
     "end_time": "2023-02-20T17:11:05.706695Z",
     "start_time": "2023-02-20T17:11:05.700155Z"
    }
   },
   "outputs": [
    {
     "data": {
      "text/plain": [
       "(353, 10)"
      ]
     },
     "execution_count": 289,
     "metadata": {},
     "output_type": "execute_result"
    }
   ],
   "source": [
    "X_train.shape"
   ]
  },
  {
   "cell_type": "code",
   "execution_count": 290,
   "id": "a37233c3",
   "metadata": {
    "ExecuteTime": {
     "end_time": "2023-02-20T17:11:07.230875Z",
     "start_time": "2023-02-20T17:11:07.218994Z"
    }
   },
   "outputs": [
    {
     "data": {
      "text/html": [
       "<style>#sk-container-id-3 {color: black;background-color: white;}#sk-container-id-3 pre{padding: 0;}#sk-container-id-3 div.sk-toggleable {background-color: white;}#sk-container-id-3 label.sk-toggleable__label {cursor: pointer;display: block;width: 100%;margin-bottom: 0;padding: 0.3em;box-sizing: border-box;text-align: center;}#sk-container-id-3 label.sk-toggleable__label-arrow:before {content: \"▸\";float: left;margin-right: 0.25em;color: #696969;}#sk-container-id-3 label.sk-toggleable__label-arrow:hover:before {color: black;}#sk-container-id-3 div.sk-estimator:hover label.sk-toggleable__label-arrow:before {color: black;}#sk-container-id-3 div.sk-toggleable__content {max-height: 0;max-width: 0;overflow: hidden;text-align: left;background-color: #f0f8ff;}#sk-container-id-3 div.sk-toggleable__content pre {margin: 0.2em;color: black;border-radius: 0.25em;background-color: #f0f8ff;}#sk-container-id-3 input.sk-toggleable__control:checked~div.sk-toggleable__content {max-height: 200px;max-width: 100%;overflow: auto;}#sk-container-id-3 input.sk-toggleable__control:checked~label.sk-toggleable__label-arrow:before {content: \"▾\";}#sk-container-id-3 div.sk-estimator input.sk-toggleable__control:checked~label.sk-toggleable__label {background-color: #d4ebff;}#sk-container-id-3 div.sk-label input.sk-toggleable__control:checked~label.sk-toggleable__label {background-color: #d4ebff;}#sk-container-id-3 input.sk-hidden--visually {border: 0;clip: rect(1px 1px 1px 1px);clip: rect(1px, 1px, 1px, 1px);height: 1px;margin: -1px;overflow: hidden;padding: 0;position: absolute;width: 1px;}#sk-container-id-3 div.sk-estimator {font-family: monospace;background-color: #f0f8ff;border: 1px dotted black;border-radius: 0.25em;box-sizing: border-box;margin-bottom: 0.5em;}#sk-container-id-3 div.sk-estimator:hover {background-color: #d4ebff;}#sk-container-id-3 div.sk-parallel-item::after {content: \"\";width: 100%;border-bottom: 1px solid gray;flex-grow: 1;}#sk-container-id-3 div.sk-label:hover label.sk-toggleable__label {background-color: #d4ebff;}#sk-container-id-3 div.sk-serial::before {content: \"\";position: absolute;border-left: 1px solid gray;box-sizing: border-box;top: 0;bottom: 0;left: 50%;z-index: 0;}#sk-container-id-3 div.sk-serial {display: flex;flex-direction: column;align-items: center;background-color: white;padding-right: 0.2em;padding-left: 0.2em;position: relative;}#sk-container-id-3 div.sk-item {position: relative;z-index: 1;}#sk-container-id-3 div.sk-parallel {display: flex;align-items: stretch;justify-content: center;background-color: white;position: relative;}#sk-container-id-3 div.sk-item::before, #sk-container-id-3 div.sk-parallel-item::before {content: \"\";position: absolute;border-left: 1px solid gray;box-sizing: border-box;top: 0;bottom: 0;left: 50%;z-index: -1;}#sk-container-id-3 div.sk-parallel-item {display: flex;flex-direction: column;z-index: 1;position: relative;background-color: white;}#sk-container-id-3 div.sk-parallel-item:first-child::after {align-self: flex-end;width: 50%;}#sk-container-id-3 div.sk-parallel-item:last-child::after {align-self: flex-start;width: 50%;}#sk-container-id-3 div.sk-parallel-item:only-child::after {width: 0;}#sk-container-id-3 div.sk-dashed-wrapped {border: 1px dashed gray;margin: 0 0.4em 0.5em 0.4em;box-sizing: border-box;padding-bottom: 0.4em;background-color: white;}#sk-container-id-3 div.sk-label label {font-family: monospace;font-weight: bold;display: inline-block;line-height: 1.2em;}#sk-container-id-3 div.sk-label-container {text-align: center;}#sk-container-id-3 div.sk-container {/* jupyter's `normalize.less` sets `[hidden] { display: none; }` but bootstrap.min.css set `[hidden] { display: none !important; }` so we also need the `!important` here to be able to override the default hidden behavior on the sphinx rendered scikit-learn.org. See: https://github.com/scikit-learn/scikit-learn/issues/21755 */display: inline-block !important;position: relative;}#sk-container-id-3 div.sk-text-repr-fallback {display: none;}</style><div id=\"sk-container-id-3\" class=\"sk-top-container\"><div class=\"sk-text-repr-fallback\"><pre>StandardScaler()</pre><b>In a Jupyter environment, please rerun this cell to show the HTML representation or trust the notebook. <br />On GitHub, the HTML representation is unable to render, please try loading this page with nbviewer.org.</b></div><div class=\"sk-container\" hidden><div class=\"sk-item\"><div class=\"sk-estimator sk-toggleable\"><input class=\"sk-toggleable__control sk-hidden--visually\" id=\"sk-estimator-id-3\" type=\"checkbox\" checked><label for=\"sk-estimator-id-3\" class=\"sk-toggleable__label sk-toggleable__label-arrow\">StandardScaler</label><div class=\"sk-toggleable__content\"><pre>StandardScaler()</pre></div></div></div></div></div>"
      ],
      "text/plain": [
       "StandardScaler()"
      ]
     },
     "execution_count": 290,
     "metadata": {},
     "output_type": "execute_result"
    }
   ],
   "source": [
    "scaler = StandardScaler()\n",
    "scaler.fit(X_train)"
   ]
  },
  {
   "cell_type": "code",
   "execution_count": 291,
   "id": "f9e7aa28",
   "metadata": {
    "ExecuteTime": {
     "end_time": "2023-02-20T17:11:09.207658Z",
     "start_time": "2023-02-20T17:11:09.198761Z"
    }
   },
   "outputs": [
    {
     "data": {
      "text/plain": [
       "(array([-0.00036932,  0.00180409, -0.00023371, -0.00126231, -0.00041519,\n",
       "         0.00077703,  0.00028862, -0.00055486, -0.00202401, -0.00203989]),\n",
       " array([0.04850874, 0.04764538, 0.04673105, 0.04839583, 0.04785205,\n",
       "        0.04856229, 0.0473717 , 0.04686262, 0.04523275, 0.04671974]))"
      ]
     },
     "execution_count": 291,
     "metadata": {},
     "output_type": "execute_result"
    }
   ],
   "source": [
    "scaler.mean_, scaler.scale_"
   ]
  },
  {
   "cell_type": "code",
   "execution_count": 292,
   "id": "89d75937",
   "metadata": {
    "ExecuteTime": {
     "end_time": "2023-02-20T17:12:05.934029Z",
     "start_time": "2023-02-20T17:12:05.922139Z"
    }
   },
   "outputs": [],
   "source": [
    "X_train_scaled = scaler.transform(X_train)\n",
    "X_test_scaled = scaler.transform(X_test)"
   ]
  },
  {
   "cell_type": "code",
   "execution_count": 297,
   "id": "0ac54188",
   "metadata": {
    "ExecuteTime": {
     "end_time": "2023-02-20T17:13:02.500966Z",
     "start_time": "2023-02-20T17:13:02.492649Z"
    }
   },
   "outputs": [
    {
     "data": {
      "text/plain": [
       "array([1., 1., 1., 1., 1., 1., 1., 1., 1., 1.])"
      ]
     },
     "execution_count": 297,
     "metadata": {},
     "output_type": "execute_result"
    }
   ],
   "source": [
    "X_train_scaled.std(axis=0)"
   ]
  },
  {
   "cell_type": "code",
   "execution_count": 298,
   "id": "54301cae",
   "metadata": {
    "ExecuteTime": {
     "end_time": "2023-02-20T17:13:17.654473Z",
     "start_time": "2023-02-20T17:13:17.646423Z"
    }
   },
   "outputs": [
    {
     "data": {
      "text/plain": [
       "array([0.89862623, 0.97726443, 1.08553055, 0.90419904, 0.96909458,\n",
       "       0.89056318, 1.01976082, 1.07110094, 1.21898832, 1.06948968])"
      ]
     },
     "execution_count": 298,
     "metadata": {},
     "output_type": "execute_result"
    }
   ],
   "source": [
    "X_test_scaled.std(axis=0)"
   ]
  },
  {
   "cell_type": "markdown",
   "id": "f5fe213a",
   "metadata": {},
   "source": [
    "В любом случае важно применить стандартизацию, тк мы используем среднее и стандартое отклонения из тестовой выборки"
   ]
  },
  {
   "cell_type": "markdown",
   "id": "8e1fa5ec-18db-4e7b-88f1-6d010f449488",
   "metadata": {},
   "source": [
    "### 2.2. Регрессионная модель (1 балл)"
   ]
  },
  {
   "cell_type": "markdown",
   "id": "3d79f583-5feb-4eeb-b748-9b4cdea9150d",
   "metadata": {},
   "source": [
    "Создайте модель `KNeighborsRegressor`, обучите ее на треноровочных данных и сделайте предсказания."
   ]
  },
  {
   "cell_type": "code",
   "execution_count": 299,
   "id": "819157ed",
   "metadata": {
    "ExecuteTime": {
     "end_time": "2023-02-20T17:14:26.343100Z",
     "start_time": "2023-02-20T17:14:26.338180Z"
    }
   },
   "outputs": [],
   "source": [
    "model = KNeighborsRegressor()"
   ]
  },
  {
   "cell_type": "code",
   "execution_count": 300,
   "id": "3832664b",
   "metadata": {
    "ExecuteTime": {
     "end_time": "2023-02-20T17:14:44.764111Z",
     "start_time": "2023-02-20T17:14:44.735568Z"
    }
   },
   "outputs": [
    {
     "data": {
      "text/html": [
       "<style>#sk-container-id-4 {color: black;background-color: white;}#sk-container-id-4 pre{padding: 0;}#sk-container-id-4 div.sk-toggleable {background-color: white;}#sk-container-id-4 label.sk-toggleable__label {cursor: pointer;display: block;width: 100%;margin-bottom: 0;padding: 0.3em;box-sizing: border-box;text-align: center;}#sk-container-id-4 label.sk-toggleable__label-arrow:before {content: \"▸\";float: left;margin-right: 0.25em;color: #696969;}#sk-container-id-4 label.sk-toggleable__label-arrow:hover:before {color: black;}#sk-container-id-4 div.sk-estimator:hover label.sk-toggleable__label-arrow:before {color: black;}#sk-container-id-4 div.sk-toggleable__content {max-height: 0;max-width: 0;overflow: hidden;text-align: left;background-color: #f0f8ff;}#sk-container-id-4 div.sk-toggleable__content pre {margin: 0.2em;color: black;border-radius: 0.25em;background-color: #f0f8ff;}#sk-container-id-4 input.sk-toggleable__control:checked~div.sk-toggleable__content {max-height: 200px;max-width: 100%;overflow: auto;}#sk-container-id-4 input.sk-toggleable__control:checked~label.sk-toggleable__label-arrow:before {content: \"▾\";}#sk-container-id-4 div.sk-estimator input.sk-toggleable__control:checked~label.sk-toggleable__label {background-color: #d4ebff;}#sk-container-id-4 div.sk-label input.sk-toggleable__control:checked~label.sk-toggleable__label {background-color: #d4ebff;}#sk-container-id-4 input.sk-hidden--visually {border: 0;clip: rect(1px 1px 1px 1px);clip: rect(1px, 1px, 1px, 1px);height: 1px;margin: -1px;overflow: hidden;padding: 0;position: absolute;width: 1px;}#sk-container-id-4 div.sk-estimator {font-family: monospace;background-color: #f0f8ff;border: 1px dotted black;border-radius: 0.25em;box-sizing: border-box;margin-bottom: 0.5em;}#sk-container-id-4 div.sk-estimator:hover {background-color: #d4ebff;}#sk-container-id-4 div.sk-parallel-item::after {content: \"\";width: 100%;border-bottom: 1px solid gray;flex-grow: 1;}#sk-container-id-4 div.sk-label:hover label.sk-toggleable__label {background-color: #d4ebff;}#sk-container-id-4 div.sk-serial::before {content: \"\";position: absolute;border-left: 1px solid gray;box-sizing: border-box;top: 0;bottom: 0;left: 50%;z-index: 0;}#sk-container-id-4 div.sk-serial {display: flex;flex-direction: column;align-items: center;background-color: white;padding-right: 0.2em;padding-left: 0.2em;position: relative;}#sk-container-id-4 div.sk-item {position: relative;z-index: 1;}#sk-container-id-4 div.sk-parallel {display: flex;align-items: stretch;justify-content: center;background-color: white;position: relative;}#sk-container-id-4 div.sk-item::before, #sk-container-id-4 div.sk-parallel-item::before {content: \"\";position: absolute;border-left: 1px solid gray;box-sizing: border-box;top: 0;bottom: 0;left: 50%;z-index: -1;}#sk-container-id-4 div.sk-parallel-item {display: flex;flex-direction: column;z-index: 1;position: relative;background-color: white;}#sk-container-id-4 div.sk-parallel-item:first-child::after {align-self: flex-end;width: 50%;}#sk-container-id-4 div.sk-parallel-item:last-child::after {align-self: flex-start;width: 50%;}#sk-container-id-4 div.sk-parallel-item:only-child::after {width: 0;}#sk-container-id-4 div.sk-dashed-wrapped {border: 1px dashed gray;margin: 0 0.4em 0.5em 0.4em;box-sizing: border-box;padding-bottom: 0.4em;background-color: white;}#sk-container-id-4 div.sk-label label {font-family: monospace;font-weight: bold;display: inline-block;line-height: 1.2em;}#sk-container-id-4 div.sk-label-container {text-align: center;}#sk-container-id-4 div.sk-container {/* jupyter's `normalize.less` sets `[hidden] { display: none; }` but bootstrap.min.css set `[hidden] { display: none !important; }` so we also need the `!important` here to be able to override the default hidden behavior on the sphinx rendered scikit-learn.org. See: https://github.com/scikit-learn/scikit-learn/issues/21755 */display: inline-block !important;position: relative;}#sk-container-id-4 div.sk-text-repr-fallback {display: none;}</style><div id=\"sk-container-id-4\" class=\"sk-top-container\"><div class=\"sk-text-repr-fallback\"><pre>KNeighborsRegressor()</pre><b>In a Jupyter environment, please rerun this cell to show the HTML representation or trust the notebook. <br />On GitHub, the HTML representation is unable to render, please try loading this page with nbviewer.org.</b></div><div class=\"sk-container\" hidden><div class=\"sk-item\"><div class=\"sk-estimator sk-toggleable\"><input class=\"sk-toggleable__control sk-hidden--visually\" id=\"sk-estimator-id-4\" type=\"checkbox\" checked><label for=\"sk-estimator-id-4\" class=\"sk-toggleable__label sk-toggleable__label-arrow\">KNeighborsRegressor</label><div class=\"sk-toggleable__content\"><pre>KNeighborsRegressor()</pre></div></div></div></div></div>"
      ],
      "text/plain": [
       "KNeighborsRegressor()"
      ]
     },
     "execution_count": 300,
     "metadata": {},
     "output_type": "execute_result"
    }
   ],
   "source": [
    "model.fit(X_train_scaled, y_train)"
   ]
  },
  {
   "cell_type": "code",
   "execution_count": 301,
   "id": "b2cea364",
   "metadata": {
    "ExecuteTime": {
     "end_time": "2023-02-20T17:15:27.900374Z",
     "start_time": "2023-02-20T17:15:27.884929Z"
    }
   },
   "outputs": [],
   "source": [
    "prediction = model.predict(X_test_scaled)"
   ]
  },
  {
   "cell_type": "markdown",
   "id": "5ed4a2ea-4f42-43cb-95d7-50cdeab5f284",
   "metadata": {},
   "source": [
    "### 2.3. Метрики регресии (3 балла)"
   ]
  },
  {
   "cell_type": "markdown",
   "id": "cbf563ad-1b71-464c-8359-75fa4da268d3",
   "metadata": {},
   "source": [
    "Реализуйте метрики $R^2$, MSE и  MAE в `metrics.py`. Примените их для оценки качества полученной модели. Все ли хорошо?\n",
    "\n",
    "Напомню, что:\n",
    "\n",
    "$R^2 = 1 - \\frac{\\sum_i^n{(y_i - \\hat{y_i})^2}}{\\sum_i^n{(y_i - \\overline{y})^2}}$\n",
    "\n",
    "$MSE = \\frac{1}{n}\\sum_i^n{(y_i - \\hat{y_i})^2}$\n",
    "\n",
    "$MAE = \\frac{1}{n}\\sum_i^n{|y_i - \\hat{y_i}|}$"
   ]
  },
  {
   "cell_type": "code",
   "execution_count": 315,
   "id": "580f604f-e9c5-4109-8b9f-235369836057",
   "metadata": {
    "ExecuteTime": {
     "end_time": "2023-02-20T17:28:55.247049Z",
     "start_time": "2023-02-20T17:28:55.235196Z"
    }
   },
   "outputs": [
    {
     "data": {
      "text/plain": [
       "(0.42753137558566745, 64.89234299804006, 52.30786516853932)"
      ]
     },
     "execution_count": 315,
     "metadata": {},
     "output_type": "execute_result"
    }
   ],
   "source": [
    "r_squared(y_test, prediction), mse(y_test, prediction), mae(y_test, prediction)"
   ]
  },
  {
   "cell_type": "code",
   "execution_count": 311,
   "id": "83e47242",
   "metadata": {
    "ExecuteTime": {
     "end_time": "2023-02-20T17:25:47.390941Z",
     "start_time": "2023-02-20T17:25:47.162250Z"
    }
   },
   "outputs": [
    {
     "data": {
      "text/plain": [
       "<matplotlib.collections.PathCollection at 0x7f77986ca380>"
      ]
     },
     "execution_count": 311,
     "metadata": {},
     "output_type": "execute_result"
    },
    {
     "data": {
      "image/png": "[encoded data removed]",
      "text/plain": [
       "<Figure size 1200x900 with 1 Axes>"
      ]
     },
     "metadata": {},
     "output_type": "display_data"
    }
   ],
   "source": [
    "plt.scatter(y_test, prediction)"
   ]
  },
  {
   "cell_type": "markdown",
   "id": "a6568d8d-a9ec-4639-aac1-0ea18a644f9e",
   "metadata": {},
   "source": [
    "### 2.4. Подбор оптимального числа соседей (2 балла)"
   ]
  },
  {
   "cell_type": "markdown",
   "id": "d82f145d-41f5-4bbe-b553-1d05d90ec2a2",
   "metadata": {},
   "source": [
    "Мы почти дошли до конца. Теперь осталось при помощи реализованных нами метрик выбрать лучшее количество соседей для нашей модели.\n",
    "\n",
    "!!! Обратите внимание на то, что значат наши метрики, для некоторых хорошо, когда они уменьшаются, для других наоборот."
   ]
  },
  {
   "cell_type": "code",
   "execution_count": 312,
   "id": "138a7969-8079-4a38-b92e-8eae5d246325",
   "metadata": {
    "ExecuteTime": {
     "end_time": "2023-02-20T17:26:34.353465Z",
     "start_time": "2023-02-20T17:26:34.337479Z"
    }
   },
   "outputs": [],
   "source": [
    "from metrics import r_squared, mse, mae"
   ]
  },
  {
   "cell_type": "markdown",
   "id": "1b4bbef7-35a4-4f05-abf8-5d2b450c86f2",
   "metadata": {},
   "source": [
    "Для поиска лучшего k вы можете воспользоваться функцией `find_best_k`, которую вы реализовали выше."
   ]
  },
  {
   "cell_type": "code",
   "execution_count": 324,
   "id": "36e34aac",
   "metadata": {
    "ExecuteTime": {
     "end_time": "2023-02-20T17:33:58.137013Z",
     "start_time": "2023-02-20T17:33:58.128586Z"
    }
   },
   "outputs": [],
   "source": [
    "def find_best_k(X_train, y_train, X_test, y_test, params, metric, classifier):\n",
    "    \"\"\"\n",
    "    Choose the best k for KKNClassifier\n",
    "    Arguments:\n",
    "    X_train, np array (num_train_samples, num_features) - train data\n",
    "    y_train, np array (num_train_samples) - train labels\n",
    "    X_test, np array (num_test_samples, num_features) - test data\n",
    "    y_test, np array (num_test_samples) - test labels\n",
    "    params, list of hyperparameters for KNN, here it is list of k values\n",
    "    metric, function for metric calculation\n",
    "    Returns:\n",
    "    train_metrics the list of metric values on train data set for each k in params\n",
    "    test_metrics the list of metric values on test data set for each k in params\n",
    "    \"\"\"\n",
    "    \n",
    "    \"\"\"\n",
    "    YOUR CODE IS HERE\n",
    "    \"\"\"\n",
    "    train_metrics = []\n",
    "    test_metrics = []\n",
    "    \n",
    "    for k in params:\n",
    "        knn_classifier = classifier(k)\n",
    "        knn_classifier.fit(X_train, y_train)\n",
    "        prediction_train = knn_classifier.predict(X_train)\n",
    "        prediction_test = knn_classifier.predict(X_test)\n",
    "        train_metrics.append(metric(y_train, prediction_train))\n",
    "        test_metrics.append(metric(y_test, prediction_test))\n",
    "        \n",
    "    return train_metrics, test_metrics"
   ]
  },
  {
   "cell_type": "code",
   "execution_count": 329,
   "id": "103c5fb1",
   "metadata": {
    "ExecuteTime": {
     "end_time": "2023-02-20T17:35:50.050147Z",
     "start_time": "2023-02-20T17:35:49.765591Z"
    },
    "scrolled": false
   },
   "outputs": [
    {
     "data": {
      "image/png": "[encoded data removed]",
      "text/plain": [
       "<Figure size 1200x900 with 1 Axes>"
      ]
     },
     "metadata": {},
     "output_type": "display_data"
    }
   ],
   "source": [
    "params = [1, 2, 4, 5, 8, 10, 30]\n",
    "train_metrics, test_metrics = find_best_k(X_train_scaled, y_train, X_test_scaled, y_test, params, r_squared, KNeighborsRegressor)\n",
    "\n",
    "plt.plot(params, train_metrics, label=\"train\")\n",
    "plt.plot(params, test_metrics, label=\"test\")\n",
    "plt.legend()\n",
    "plt.xlabel(\"K in KNN\")\n",
    "plt.ylabel(\"r_squared\");"
   ]
  },
  {
   "cell_type": "code",
   "execution_count": 330,
   "id": "255d5617",
   "metadata": {
    "ExecuteTime": {
     "end_time": "2023-02-20T17:36:02.416170Z",
     "start_time": "2023-02-20T17:36:02.105902Z"
    },
    "scrolled": false
   },
   "outputs": [
    {
     "data": {
      "image/png": "[encoded data removed]",
      "text/plain": [
       "<Figure size 1200x900 with 1 Axes>"
      ]
     },
     "metadata": {},
     "output_type": "display_data"
    }
   ],
   "source": [
    "params = [1, 2, 4, 5, 8, 10, 30]\n",
    "train_metrics, test_metrics = find_best_k(X_train_scaled, y_train, X_test_scaled, y_test, params, mse, KNeighborsRegressor)\n",
    "\n",
    "plt.plot(params, train_metrics, label=\"train\")\n",
    "plt.plot(params, test_metrics, label=\"test\")\n",
    "plt.legend()\n",
    "plt.xlabel(\"K in KNN\")\n",
    "plt.ylabel(\"MSE\");"
   ]
  },
  {
   "cell_type": "code",
   "execution_count": 331,
   "id": "c5f03074",
   "metadata": {
    "ExecuteTime": {
     "end_time": "2023-02-20T17:36:25.475200Z",
     "start_time": "2023-02-20T17:36:25.188999Z"
    },
    "scrolled": false
   },
   "outputs": [
    {
     "data": {
      "image/png": "[encoded data removed]",
      "text/plain": [
       "<Figure size 1200x900 with 1 Axes>"
      ]
     },
     "metadata": {},
     "output_type": "display_data"
    }
   ],
   "source": [
    "params = [1, 2, 4, 5, 8, 10, 30]\n",
    "train_metrics, test_metrics = find_best_k(X_train_scaled, y_train, X_test_scaled, y_test, params, mae, KNeighborsRegressor)\n",
    "\n",
    "plt.plot(params, train_metrics, label=\"train\")\n",
    "plt.plot(params, test_metrics, label=\"test\")\n",
    "plt.legend()\n",
    "plt.xlabel(\"K in KNN\")\n",
    "plt.ylabel(\"MAE\");"
   ]
  },
  {
   "cell_type": "markdown",
   "id": "dcf61879",
   "metadata": {},
   "source": [
    "Оптимальный параметр для всех метрик **k=10**"
   ]
  },
  {
   "cell_type": "markdown",
   "id": "2cb77960-fa30-4a29-9a1b-7c195cc867cb",
   "metadata": {},
   "source": [
    "### 3. Социализация (0.5 доп. балла)\n",
    "\n",
    "Так как у нас теперь большая группа, то было бы здорово всем познакомиться получше (так как выпускной не за горами). Соберитесь с одногруппниками в зуме (желательно, чтобы были люди и с Онлайна, и с Питера), познакомьтесь, а сюда прикрепите скриншот с камерами всех участников."
   ]
  },
  {
   "cell_type": "markdown",
   "id": "2ba70925",
   "metadata": {},
   "source": [
    "![Ex2](group_photo.jpg)"
   ]
  },
  {
   "cell_type": "markdown",
   "id": "e116a42f-fae8-499c-a985-dc09e66a29b0",
   "metadata": {},
   "source": [
    "## Therapy time"
   ]
  },
  {
   "cell_type": "markdown",
   "id": "031c493b-26f3-4622-a1f4-affee64f81db",
   "metadata": {},
   "source": [
    "Напишите здесь ваши впечатления о задании: было ли интересно, было ли слишком легко или наоборот сложно и тд. Также сюда можно написать свои идеи по улучшению заданий, а также предложить данные, на основе которых вы бы хотели построить следующие дз. "
   ]
  },
  {
   "cell_type": "markdown",
   "id": "6d1c75b8",
   "metadata": {},
   "source": [
    "**Ваши мысли:**"
   ]
  }
 ],
 "metadata": {
  "kernelspec": {
   "display_name": "bior_3.10",
   "language": "python",
   "name": "bior_3.10"
  },
  "language_info": {
   "codemirror_mode": {
    "name": "ipython",
    "version": 3
   },
   "file_extension": ".py",
   "mimetype": "text/x-python",
   "name": "python",
   "nbconvert_exporter": "python",
   "pygments_lexer": "ipython3",
   "version": "3.10.7"
  },
  "toc": {
   "base_numbering": 1,
   "nav_menu": {},
   "number_sections": true,
   "sideBar": true,
   "skip_h1_title": false,
   "title_cell": "Table of Contents",
   "title_sidebar": "Contents",
   "toc_cell": true,
   "toc_position": {
    "height": "calc(100% - 180px)",
    "left": "10px",
    "top": "150px",
    "width": "210.275px"
   },
   "toc_section_display": true,
   "toc_window_display": false
  }
 },
 "nbformat": 4,
 "nbformat_minor": 5
}
