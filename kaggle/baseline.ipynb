{
 "cells": [
  {
   "cell_type": "markdown",
   "id": "511798fd",
   "metadata": {
    "toc": true
   },
   "source": [
    "<h1>Table of Contents<span class=\"tocSkip\"></span></h1>\n",
    "<div class=\"toc\"><ul class=\"toc-item\"><li><span><a href=\"#-Предсказание-победителя-в-Dota-2\" data-toc-modified-id=\"-Предсказание-победителя-в-Dota-2-1\"><span class=\"toc-item-num\">1&nbsp;&nbsp;</span><center> Предсказание победителя в Dota 2</center></a></span><ul class=\"toc-item\"><li><ul class=\"toc-item\"><li><ul class=\"toc-item\"><li><span><a href=\"#Оригинальная-статья\" data-toc-modified-id=\"Оригинальная-статья-1.0.0.1\"><span class=\"toc-item-num\">1.0.0.1&nbsp;&nbsp;</span><a href=\"https://arxiv.org/pdf/2106.01782.pdf\" target=\"_blank\">Оригинальная статья</a></a></span></li></ul></li><li><span><a href=\"#Начало\" data-toc-modified-id=\"Начало-1.0.1\"><span class=\"toc-item-num\">1.0.1&nbsp;&nbsp;</span>Начало</a></span></li><li><span><a href=\"#Первые-шаги-на-пути-в-датасайенс\" data-toc-modified-id=\"Первые-шаги-на-пути-в-датасайенс-1.0.2\"><span class=\"toc-item-num\">1.0.2&nbsp;&nbsp;</span>Первые шаги на пути в датасайенс</a></span></li><li><span><a href=\"#Импорты\" data-toc-modified-id=\"Импорты-1.0.3\"><span class=\"toc-item-num\">1.0.3&nbsp;&nbsp;</span>Импорты</a></span></li></ul></li><li><span><a href=\"#Описание-данных\" data-toc-modified-id=\"Описание-данных-1.1\"><span class=\"toc-item-num\">1.1&nbsp;&nbsp;</span>Описание данных</a></span></li><li><span><a href=\"#Описание-признаков\" data-toc-modified-id=\"Описание-признаков-1.2\"><span class=\"toc-item-num\">1.2&nbsp;&nbsp;</span>Описание признаков</a></span></li><li><span><a href=\"#Наша-первая-модель\" data-toc-modified-id=\"Наша-первая-модель-1.3\"><span class=\"toc-item-num\">1.3&nbsp;&nbsp;</span>Наша первая модель</a></span><ul class=\"toc-item\"><li><ul class=\"toc-item\"><li><span><a href=\"#Обучим-случайный-лес\" data-toc-modified-id=\"Обучим-случайный-лес-1.3.0.1\"><span class=\"toc-item-num\">1.3.0.1&nbsp;&nbsp;</span>Обучим случайный лес</a></span></li><li><span><a href=\"#Сделаем-предсказания-и-оценим-качество-на-отложенной-части-данных\" data-toc-modified-id=\"Сделаем-предсказания-и-оценим-качество-на-отложенной-части-данных-1.3.0.2\"><span class=\"toc-item-num\">1.3.0.2&nbsp;&nbsp;</span>Сделаем предсказания и оценим качество на отложенной части данных</a></span></li></ul></li></ul></li><li><span><a href=\"#Посылка\" data-toc-modified-id=\"Посылка-1.4\"><span class=\"toc-item-num\">1.4&nbsp;&nbsp;</span>Посылка</a></span></li><li><span><a href=\"#Кросс-валидация\" data-toc-modified-id=\"Кросс-валидация-1.5\"><span class=\"toc-item-num\">1.5&nbsp;&nbsp;</span>Кросс-валидация</a></span></li><li><span><a href=\"#Что-есть-в-json-файлах?\" data-toc-modified-id=\"Что-есть-в-json-файлах?-1.6\"><span class=\"toc-item-num\">1.6&nbsp;&nbsp;</span>Что есть в json файлах?</a></span><ul class=\"toc-item\"><li><ul class=\"toc-item\"><li><span><a href=\"#Сделаем-чтение-файла-с-сырыми-данными-и-добавление-новых-признаков-удобным\" data-toc-modified-id=\"Сделаем-чтение-файла-с-сырыми-данными-и-добавление-новых-признаков-удобным-1.6.0.1\"><span class=\"toc-item-num\">1.6.0.1&nbsp;&nbsp;</span>Сделаем чтение файла с сырыми данными и добавление новых признаков удобным</a></span></li><li><span><a href=\"#Чтение-данных-в-цикле\" data-toc-modified-id=\"Чтение-данных-в-цикле-1.6.0.2\"><span class=\"toc-item-num\">1.6.0.2&nbsp;&nbsp;</span>Чтение данных в цикле</a></span></li></ul></li></ul></li><li><span><a href=\"#Feature-engineering\" data-toc-modified-id=\"Feature-engineering-1.7\"><span class=\"toc-item-num\">1.7&nbsp;&nbsp;</span>Feature engineering</a></span><ul class=\"toc-item\"><li><span><a href=\"#lightgbm\" data-toc-modified-id=\"lightgbm-1.7.1\"><span class=\"toc-item-num\">1.7.1&nbsp;&nbsp;</span>lightgbm</a></span></li><li><span><a href=\"#KDA\" data-toc-modified-id=\"KDA-1.7.2\"><span class=\"toc-item-num\">1.7.2&nbsp;&nbsp;</span>KDA</a></span></li><li><span><a href=\"#XP\" data-toc-modified-id=\"XP-1.7.3\"><span class=\"toc-item-num\">1.7.3&nbsp;&nbsp;</span>XP</a></span></li><li><span><a href=\"#test-pile-of-features\" data-toc-modified-id=\"test-pile-of-features-1.7.4\"><span class=\"toc-item-num\">1.7.4&nbsp;&nbsp;</span>test pile of features</a></span></li></ul></li><li><span><a href=\"#Submission\" data-toc-modified-id=\"Submission-1.8\"><span class=\"toc-item-num\">1.8&nbsp;&nbsp;</span>Submission</a></span></li></ul></li></ul></div>"
   ]
  },
  {
   "cell_type": "markdown",
   "id": "8d777c69",
   "metadata": {
    "papermill": {
     "duration": 0.044486,
     "end_time": "2022-02-13T23:28:22.423626",
     "exception": false,
     "start_time": "2022-02-13T23:28:22.379140",
     "status": "completed"
    },
    "tags": []
   },
   "source": [
    "# <center> Предсказание победителя в Dota 2\n",
    "<center> <img src=\"https://meduza.io/impro/YnJZAHUW6WHz_JQm1uRPkTql_qAhbfxt3oFJLGH7CJg/fill/980/0/ce/1/aHR0cHM6Ly9tZWR1/emEuaW8vaW1hZ2Uv/YXR0YWNobWVudHMv/aW1hZ2VzLzAwNy8x/NTcvNjk1L29yaWdp/bmFsL0tMVThLbUti/ZG5pSzlibDA0Wmlw/WXcuanBn.webp\" width=\"700\" height=\"700\">"
   ]
  },
  {
   "cell_type": "markdown",
   "id": "0e8addf5",
   "metadata": {
    "papermill": {
     "duration": 0.042953,
     "end_time": "2022-02-13T23:28:22.510310",
     "exception": false,
     "start_time": "2022-02-13T23:28:22.467357",
     "status": "completed"
    },
    "tags": []
   },
   "source": [
    "[Почитать подбробнее](https://meduza.io/feature/2021/10/19/rossiyskaya-komanda-vyigrala-chempionat-mira-po-dota-2-i-poluchila-18-millionov-dollarov-postoyte-otkuda-takie-dengi-neuzheli-igrat-v-dotu-tak-slozhno)"
   ]
  },
  {
   "cell_type": "markdown",
   "id": "c3a6c688",
   "metadata": {
    "papermill": {
     "duration": 0.042954,
     "end_time": "2022-02-13T23:28:22.598330",
     "exception": false,
     "start_time": "2022-02-13T23:28:22.555376",
     "status": "completed"
    },
    "tags": []
   },
   "source": [
    "#### [Оригинальная статья](https://arxiv.org/pdf/2106.01782.pdf)\n",
    "    \n",
    "### Начало\n",
    "\n",
    "Посмотрим на готовые признаки и сделаем первую посылку. \n",
    "\n",
    "1. [Описание данных](#Описание-данных)\n",
    "2. [Описание признаков](#Описание-признаков)\n",
    "3. [Наша первая модель](#Наша-первая-модель)\n",
    "4. [Посылка](#Посылка)\n",
    "\n",
    "### Первые шаги на пути в датасайенс\n",
    "\n",
    "5. [Кросс-валидация](#Кросс-валидация)\n",
    "6. [Что есть в json файлах?](#Что-есть-в-json-файлах?)\n",
    "7. [Feature engineering](#Feature-engineering)"
   ]
  },
  {
   "cell_type": "markdown",
   "id": "8de734d0",
   "metadata": {
    "papermill": {
     "duration": 0.045141,
     "end_time": "2022-02-13T23:28:22.688388",
     "exception": false,
     "start_time": "2022-02-13T23:28:22.643247",
     "status": "completed"
    },
    "tags": []
   },
   "source": [
    "### Импорты"
   ]
  },
  {
   "cell_type": "code",
   "execution_count": 146,
   "id": "c86fff33",
   "metadata": {
    "ExecuteTime": {
     "end_time": "2023-04-10T16:42:53.855456Z",
     "start_time": "2023-04-10T16:42:53.842751Z"
    },
    "execution": {
     "iopub.execute_input": "2022-02-13T23:28:22.779257Z",
     "iopub.status.busy": "2022-02-13T23:28:22.778075Z",
     "iopub.status.idle": "2022-02-13T23:28:24.258416Z",
     "shell.execute_reply": "2022-02-13T23:28:24.257521Z",
     "shell.execute_reply.started": "2022-02-13T22:54:24.504400Z"
    },
    "papermill": {
     "duration": 1.526998,
     "end_time": "2022-02-13T23:28:24.258607",
     "exception": false,
     "start_time": "2022-02-13T23:28:22.731609",
     "status": "completed"
    },
    "tags": []
   },
   "outputs": [],
   "source": [
    "import os\n",
    "import json\n",
    "import pandas as pd\n",
    "import numpy as np\n",
    "import datetime\n",
    "import warnings\n",
    "import seaborn as sns\n",
    "import matplotlib.pyplot as plt\n",
    "import tqdm\n",
    "from sklearn.model_selection import train_test_split, ShuffleSplit, cross_val_score, GridSearchCV\n",
    "from sklearn.ensemble import RandomForestClassifier\n",
    "from sklearn.metrics import roc_auc_score, accuracy_score\n",
    "\n",
    "%matplotlib inline"
   ]
  },
  {
   "cell_type": "code",
   "execution_count": 2,
   "id": "fc790543",
   "metadata": {
    "ExecuteTime": {
     "end_time": "2023-04-09T22:06:27.396116Z",
     "start_time": "2023-04-09T22:06:27.389732Z"
    },
    "execution": {
     "iopub.execute_input": "2022-02-13T23:28:24.349946Z",
     "iopub.status.busy": "2022-02-13T23:28:24.349155Z",
     "iopub.status.idle": "2022-02-13T23:28:24.354489Z",
     "shell.execute_reply": "2022-02-13T23:28:24.353950Z",
     "shell.execute_reply.started": "2022-02-13T22:54:27.968328Z"
    },
    "papermill": {
     "duration": 0.051811,
     "end_time": "2022-02-13T23:28:24.354647",
     "exception": false,
     "start_time": "2022-02-13T23:28:24.302836",
     "status": "completed"
    },
    "tags": []
   },
   "outputs": [],
   "source": [
    "SEED = 10801\n",
    "sns.set_style(style=\"whitegrid\")\n",
    "plt.rcParams[\"figure.figsize\"] = 12, 8\n",
    "warnings.filterwarnings(\"ignore\")"
   ]
  },
  {
   "cell_type": "markdown",
   "id": "70e21b8e",
   "metadata": {
    "papermill": {
     "duration": 0.042707,
     "end_time": "2022-02-13T23:28:24.441767",
     "exception": false,
     "start_time": "2022-02-13T23:28:24.399060",
     "status": "completed"
    },
    "tags": []
   },
   "source": [
    "## <left>Описание данных\n",
    "\n",
    "Файлы:\n",
    "\n",
    "- `sample_submission.csv`: пример файла-посылки\n",
    "- `train_raw_data.jsonl`, `test_raw_data.jsonl`: \"сырые\" данные \n",
    "- `train_data.csv`, `test_data.csv`: признаки, созданные авторами\n",
    "- `train_targets.csv`: результаты тренировочных игр"
   ]
  },
  {
   "cell_type": "markdown",
   "id": "19be6c73",
   "metadata": {
    "papermill": {
     "duration": 0.042685,
     "end_time": "2022-02-13T23:28:24.527617",
     "exception": false,
     "start_time": "2022-02-13T23:28:24.484932",
     "status": "completed"
    },
    "tags": []
   },
   "source": [
    "## <left>Описание признаков\n",
    "    \n",
    "Набор простых признаков, описывающих игроков и команды в целом"
   ]
  },
  {
   "cell_type": "code",
   "execution_count": 3,
   "id": "f9a3cf95",
   "metadata": {
    "ExecuteTime": {
     "end_time": "2023-04-09T22:06:40.632919Z",
     "start_time": "2023-04-09T22:06:39.851572Z"
    },
    "execution": {
     "iopub.execute_input": "2022-02-13T23:28:24.621037Z",
     "iopub.status.busy": "2022-02-13T23:28:24.617940Z",
     "iopub.status.idle": "2022-02-13T23:28:25.955763Z",
     "shell.execute_reply": "2022-02-13T23:28:25.955019Z",
     "shell.execute_reply.started": "2022-02-13T22:54:30.336618Z"
    },
    "papermill": {
     "duration": 1.383765,
     "end_time": "2022-02-13T23:28:25.955912",
     "exception": false,
     "start_time": "2022-02-13T23:28:24.572147",
     "status": "completed"
    },
    "tags": []
   },
   "outputs": [],
   "source": [
    "PATH_TO_DATA = \"./\"\n",
    "\n",
    "df_train_features = pd.read_csv(os.path.join(PATH_TO_DATA, \n",
    "                                             \"train_data.csv\"), \n",
    "                                    index_col=\"match_id_hash\")\n",
    "df_train_targets = pd.read_csv(os.path.join(PATH_TO_DATA, \n",
    "                                            \"train_targets.csv\"), \n",
    "                                   index_col=\"match_id_hash\")"
   ]
  },
  {
   "cell_type": "code",
   "execution_count": 4,
   "id": "7e5e3fbe",
   "metadata": {
    "ExecuteTime": {
     "end_time": "2023-04-09T22:06:44.483151Z",
     "start_time": "2023-04-09T22:06:44.470428Z"
    },
    "execution": {
     "iopub.execute_input": "2022-02-13T23:28:26.051436Z",
     "iopub.status.busy": "2022-02-13T23:28:26.050453Z",
     "iopub.status.idle": "2022-02-13T23:28:26.054853Z",
     "shell.execute_reply": "2022-02-13T23:28:26.055390Z",
     "shell.execute_reply.started": "2022-02-13T22:54:33.105218Z"
    },
    "papermill": {
     "duration": 0.055919,
     "end_time": "2022-02-13T23:28:26.055573",
     "exception": false,
     "start_time": "2022-02-13T23:28:25.999654",
     "status": "completed"
    },
    "tags": []
   },
   "outputs": [
    {
     "data": {
      "text/plain": [
       "(31698, 245)"
      ]
     },
     "execution_count": 4,
     "metadata": {},
     "output_type": "execute_result"
    }
   ],
   "source": [
    "df_train_features.shape"
   ]
  },
  {
   "cell_type": "code",
   "execution_count": 5,
   "id": "88099f32",
   "metadata": {
    "ExecuteTime": {
     "end_time": "2023-04-09T22:06:45.722974Z",
     "start_time": "2023-04-09T22:06:45.699302Z"
    },
    "execution": {
     "iopub.execute_input": "2022-02-13T23:28:26.154088Z",
     "iopub.status.busy": "2022-02-13T23:28:26.153391Z",
     "iopub.status.idle": "2022-02-13T23:28:26.173095Z",
     "shell.execute_reply": "2022-02-13T23:28:26.173612Z",
     "shell.execute_reply.started": "2022-02-13T22:54:34.150651Z"
    },
    "papermill": {
     "duration": 0.073611,
     "end_time": "2022-02-13T23:28:26.173793",
     "exception": false,
     "start_time": "2022-02-13T23:28:26.100182",
     "status": "completed"
    },
    "tags": []
   },
   "outputs": [
    {
     "data": {
      "text/html": [
       "<div>\n",
       "<style scoped>\n",
       "    .dataframe tbody tr th:only-of-type {\n",
       "        vertical-align: middle;\n",
       "    }\n",
       "\n",
       "    .dataframe tbody tr th {\n",
       "        vertical-align: top;\n",
       "    }\n",
       "\n",
       "    .dataframe thead th {\n",
       "        text-align: right;\n",
       "    }\n",
       "</style>\n",
       "<table border=\"1\" class=\"dataframe\">\n",
       "  <thead>\n",
       "    <tr style=\"text-align: right;\">\n",
       "      <th></th>\n",
       "      <th>game_time</th>\n",
       "      <th>game_mode</th>\n",
       "      <th>lobby_type</th>\n",
       "      <th>objectives_len</th>\n",
       "      <th>chat_len</th>\n",
       "      <th>r1_hero_id</th>\n",
       "      <th>r1_kills</th>\n",
       "      <th>r1_deaths</th>\n",
       "      <th>r1_assists</th>\n",
       "      <th>r1_denies</th>\n",
       "      <th>...</th>\n",
       "      <th>d5_stuns</th>\n",
       "      <th>d5_creeps_stacked</th>\n",
       "      <th>d5_camps_stacked</th>\n",
       "      <th>d5_rune_pickups</th>\n",
       "      <th>d5_firstblood_claimed</th>\n",
       "      <th>d5_teamfight_participation</th>\n",
       "      <th>d5_towers_killed</th>\n",
       "      <th>d5_roshans_killed</th>\n",
       "      <th>d5_obs_placed</th>\n",
       "      <th>d5_sen_placed</th>\n",
       "    </tr>\n",
       "    <tr>\n",
       "      <th>match_id_hash</th>\n",
       "      <th></th>\n",
       "      <th></th>\n",
       "      <th></th>\n",
       "      <th></th>\n",
       "      <th></th>\n",
       "      <th></th>\n",
       "      <th></th>\n",
       "      <th></th>\n",
       "      <th></th>\n",
       "      <th></th>\n",
       "      <th></th>\n",
       "      <th></th>\n",
       "      <th></th>\n",
       "      <th></th>\n",
       "      <th></th>\n",
       "      <th></th>\n",
       "      <th></th>\n",
       "      <th></th>\n",
       "      <th></th>\n",
       "      <th></th>\n",
       "      <th></th>\n",
       "    </tr>\n",
       "  </thead>\n",
       "  <tbody>\n",
       "    <tr>\n",
       "      <th>b9c57c450ce74a2af79c9ce96fac144d</th>\n",
       "      <td>658</td>\n",
       "      <td>4</td>\n",
       "      <td>0</td>\n",
       "      <td>3</td>\n",
       "      <td>10</td>\n",
       "      <td>15</td>\n",
       "      <td>7</td>\n",
       "      <td>2</td>\n",
       "      <td>0</td>\n",
       "      <td>7</td>\n",
       "      <td>...</td>\n",
       "      <td>0.000000</td>\n",
       "      <td>0</td>\n",
       "      <td>0</td>\n",
       "      <td>0</td>\n",
       "      <td>0</td>\n",
       "      <td>0.00</td>\n",
       "      <td>0</td>\n",
       "      <td>0</td>\n",
       "      <td>0</td>\n",
       "      <td>0</td>\n",
       "    </tr>\n",
       "    <tr>\n",
       "      <th>6db558535151ea18ca70a6892197db41</th>\n",
       "      <td>21</td>\n",
       "      <td>23</td>\n",
       "      <td>0</td>\n",
       "      <td>0</td>\n",
       "      <td>0</td>\n",
       "      <td>101</td>\n",
       "      <td>0</td>\n",
       "      <td>0</td>\n",
       "      <td>0</td>\n",
       "      <td>0</td>\n",
       "      <td>...</td>\n",
       "      <td>0.000000</td>\n",
       "      <td>0</td>\n",
       "      <td>0</td>\n",
       "      <td>0</td>\n",
       "      <td>0</td>\n",
       "      <td>0.00</td>\n",
       "      <td>0</td>\n",
       "      <td>0</td>\n",
       "      <td>0</td>\n",
       "      <td>0</td>\n",
       "    </tr>\n",
       "    <tr>\n",
       "      <th>19c39fe2af2b547e48708ca005c6ae74</th>\n",
       "      <td>160</td>\n",
       "      <td>22</td>\n",
       "      <td>7</td>\n",
       "      <td>0</td>\n",
       "      <td>0</td>\n",
       "      <td>57</td>\n",
       "      <td>0</td>\n",
       "      <td>0</td>\n",
       "      <td>0</td>\n",
       "      <td>1</td>\n",
       "      <td>...</td>\n",
       "      <td>0.000000</td>\n",
       "      <td>0</td>\n",
       "      <td>0</td>\n",
       "      <td>0</td>\n",
       "      <td>0</td>\n",
       "      <td>0.00</td>\n",
       "      <td>0</td>\n",
       "      <td>0</td>\n",
       "      <td>0</td>\n",
       "      <td>0</td>\n",
       "    </tr>\n",
       "    <tr>\n",
       "      <th>c96d629dc0c39f0c616d1949938a6ba6</th>\n",
       "      <td>1016</td>\n",
       "      <td>22</td>\n",
       "      <td>0</td>\n",
       "      <td>1</td>\n",
       "      <td>0</td>\n",
       "      <td>119</td>\n",
       "      <td>0</td>\n",
       "      <td>3</td>\n",
       "      <td>3</td>\n",
       "      <td>5</td>\n",
       "      <td>...</td>\n",
       "      <td>8.264696</td>\n",
       "      <td>0</td>\n",
       "      <td>0</td>\n",
       "      <td>3</td>\n",
       "      <td>0</td>\n",
       "      <td>0.25</td>\n",
       "      <td>0</td>\n",
       "      <td>0</td>\n",
       "      <td>3</td>\n",
       "      <td>0</td>\n",
       "    </tr>\n",
       "    <tr>\n",
       "      <th>156c88bff4e9c4668b0f53df3d870f1b</th>\n",
       "      <td>582</td>\n",
       "      <td>22</td>\n",
       "      <td>7</td>\n",
       "      <td>2</td>\n",
       "      <td>2</td>\n",
       "      <td>12</td>\n",
       "      <td>3</td>\n",
       "      <td>1</td>\n",
       "      <td>2</td>\n",
       "      <td>9</td>\n",
       "      <td>...</td>\n",
       "      <td>15.762911</td>\n",
       "      <td>3</td>\n",
       "      <td>1</td>\n",
       "      <td>0</td>\n",
       "      <td>1</td>\n",
       "      <td>0.50</td>\n",
       "      <td>0</td>\n",
       "      <td>0</td>\n",
       "      <td>3</td>\n",
       "      <td>0</td>\n",
       "    </tr>\n",
       "  </tbody>\n",
       "</table>\n",
       "<p>5 rows × 245 columns</p>\n",
       "</div>"
      ],
      "text/plain": [
       "                                  game_time  game_mode  lobby_type  \\\n",
       "match_id_hash                                                        \n",
       "b9c57c450ce74a2af79c9ce96fac144d        658          4           0   \n",
       "6db558535151ea18ca70a6892197db41         21         23           0   \n",
       "19c39fe2af2b547e48708ca005c6ae74        160         22           7   \n",
       "c96d629dc0c39f0c616d1949938a6ba6       1016         22           0   \n",
       "156c88bff4e9c4668b0f53df3d870f1b        582         22           7   \n",
       "\n",
       "                                  objectives_len  chat_len  r1_hero_id  \\\n",
       "match_id_hash                                                            \n",
       "b9c57c450ce74a2af79c9ce96fac144d               3        10          15   \n",
       "6db558535151ea18ca70a6892197db41               0         0         101   \n",
       "19c39fe2af2b547e48708ca005c6ae74               0         0          57   \n",
       "c96d629dc0c39f0c616d1949938a6ba6               1         0         119   \n",
       "156c88bff4e9c4668b0f53df3d870f1b               2         2          12   \n",
       "\n",
       "                                  r1_kills  r1_deaths  r1_assists  r1_denies  \\\n",
       "match_id_hash                                                                  \n",
       "b9c57c450ce74a2af79c9ce96fac144d         7          2           0          7   \n",
       "6db558535151ea18ca70a6892197db41         0          0           0          0   \n",
       "19c39fe2af2b547e48708ca005c6ae74         0          0           0          1   \n",
       "c96d629dc0c39f0c616d1949938a6ba6         0          3           3          5   \n",
       "156c88bff4e9c4668b0f53df3d870f1b         3          1           2          9   \n",
       "\n",
       "                                  ...   d5_stuns  d5_creeps_stacked  \\\n",
       "match_id_hash                     ...                                 \n",
       "b9c57c450ce74a2af79c9ce96fac144d  ...   0.000000                  0   \n",
       "6db558535151ea18ca70a6892197db41  ...   0.000000                  0   \n",
       "19c39fe2af2b547e48708ca005c6ae74  ...   0.000000                  0   \n",
       "c96d629dc0c39f0c616d1949938a6ba6  ...   8.264696                  0   \n",
       "156c88bff4e9c4668b0f53df3d870f1b  ...  15.762911                  3   \n",
       "\n",
       "                                  d5_camps_stacked  d5_rune_pickups  \\\n",
       "match_id_hash                                                         \n",
       "b9c57c450ce74a2af79c9ce96fac144d                 0                0   \n",
       "6db558535151ea18ca70a6892197db41                 0                0   \n",
       "19c39fe2af2b547e48708ca005c6ae74                 0                0   \n",
       "c96d629dc0c39f0c616d1949938a6ba6                 0                3   \n",
       "156c88bff4e9c4668b0f53df3d870f1b                 1                0   \n",
       "\n",
       "                                  d5_firstblood_claimed  \\\n",
       "match_id_hash                                             \n",
       "b9c57c450ce74a2af79c9ce96fac144d                      0   \n",
       "6db558535151ea18ca70a6892197db41                      0   \n",
       "19c39fe2af2b547e48708ca005c6ae74                      0   \n",
       "c96d629dc0c39f0c616d1949938a6ba6                      0   \n",
       "156c88bff4e9c4668b0f53df3d870f1b                      1   \n",
       "\n",
       "                                  d5_teamfight_participation  \\\n",
       "match_id_hash                                                  \n",
       "b9c57c450ce74a2af79c9ce96fac144d                        0.00   \n",
       "6db558535151ea18ca70a6892197db41                        0.00   \n",
       "19c39fe2af2b547e48708ca005c6ae74                        0.00   \n",
       "c96d629dc0c39f0c616d1949938a6ba6                        0.25   \n",
       "156c88bff4e9c4668b0f53df3d870f1b                        0.50   \n",
       "\n",
       "                                  d5_towers_killed  d5_roshans_killed  \\\n",
       "match_id_hash                                                           \n",
       "b9c57c450ce74a2af79c9ce96fac144d                 0                  0   \n",
       "6db558535151ea18ca70a6892197db41                 0                  0   \n",
       "19c39fe2af2b547e48708ca005c6ae74                 0                  0   \n",
       "c96d629dc0c39f0c616d1949938a6ba6                 0                  0   \n",
       "156c88bff4e9c4668b0f53df3d870f1b                 0                  0   \n",
       "\n",
       "                                  d5_obs_placed  d5_sen_placed  \n",
       "match_id_hash                                                   \n",
       "b9c57c450ce74a2af79c9ce96fac144d              0              0  \n",
       "6db558535151ea18ca70a6892197db41              0              0  \n",
       "19c39fe2af2b547e48708ca005c6ae74              0              0  \n",
       "c96d629dc0c39f0c616d1949938a6ba6              3              0  \n",
       "156c88bff4e9c4668b0f53df3d870f1b              3              0  \n",
       "\n",
       "[5 rows x 245 columns]"
      ]
     },
     "execution_count": 5,
     "metadata": {},
     "output_type": "execute_result"
    }
   ],
   "source": [
    "df_train_features.head()"
   ]
  },
  {
   "cell_type": "markdown",
   "id": "3c66e9f5",
   "metadata": {
    "papermill": {
     "duration": 0.043707,
     "end_time": "2022-02-13T23:28:26.261790",
     "exception": false,
     "start_time": "2022-02-13T23:28:26.218083",
     "status": "completed"
    },
    "tags": []
   },
   "source": [
    "Имеем ~32 тысячи наблюдений, каждое из которых характеризуется уникальным `match_id_hash` (захэшированное id матча), и 245 признаков. `game_time` показывает момент времени, в который получены эти данные. То есть по сути это не длительность самого матча, а например, его середина, таким образом, в итоге мы сможем получить модель, которая будет предсказывать вероятность победы каждой из команд в течение матча (хорошо подходит для букмекеров)."
   ]
  },
  {
   "cell_type": "markdown",
   "id": "19696f2e",
   "metadata": {
    "papermill": {
     "duration": 0.043619,
     "end_time": "2022-02-13T23:28:26.350788",
     "exception": false,
     "start_time": "2022-02-13T23:28:26.307169",
     "status": "completed"
    },
    "tags": []
   },
   "source": [
    "Нас интересует поле `radiant_win` (так называется одна из команд, вторая - dire). Остальные колоки здесь по сути получены из \"будущего\" и есть только для тренировочных данных, поэтому на них можно просто посмотреть)."
   ]
  },
  {
   "cell_type": "code",
   "execution_count": 6,
   "id": "3401a238",
   "metadata": {
    "ExecuteTime": {
     "end_time": "2023-04-09T22:06:50.832191Z",
     "start_time": "2023-04-09T22:06:50.817467Z"
    },
    "execution": {
     "iopub.execute_input": "2022-02-13T23:28:26.444111Z",
     "iopub.status.busy": "2022-02-13T23:28:26.442619Z",
     "iopub.status.idle": "2022-02-13T23:28:26.453906Z",
     "shell.execute_reply": "2022-02-13T23:28:26.454413Z",
     "shell.execute_reply.started": "2022-02-13T22:54:36.171466Z"
    },
    "papermill": {
     "duration": 0.059594,
     "end_time": "2022-02-13T23:28:26.454584",
     "exception": false,
     "start_time": "2022-02-13T23:28:26.394990",
     "status": "completed"
    },
    "tags": []
   },
   "outputs": [
    {
     "data": {
      "text/html": [
       "<div>\n",
       "<style scoped>\n",
       "    .dataframe tbody tr th:only-of-type {\n",
       "        vertical-align: middle;\n",
       "    }\n",
       "\n",
       "    .dataframe tbody tr th {\n",
       "        vertical-align: top;\n",
       "    }\n",
       "\n",
       "    .dataframe thead th {\n",
       "        text-align: right;\n",
       "    }\n",
       "</style>\n",
       "<table border=\"1\" class=\"dataframe\">\n",
       "  <thead>\n",
       "    <tr style=\"text-align: right;\">\n",
       "      <th></th>\n",
       "      <th>game_time</th>\n",
       "      <th>radiant_win</th>\n",
       "      <th>duration</th>\n",
       "      <th>time_remaining</th>\n",
       "      <th>next_roshan_team</th>\n",
       "    </tr>\n",
       "    <tr>\n",
       "      <th>match_id_hash</th>\n",
       "      <th></th>\n",
       "      <th></th>\n",
       "      <th></th>\n",
       "      <th></th>\n",
       "      <th></th>\n",
       "    </tr>\n",
       "  </thead>\n",
       "  <tbody>\n",
       "    <tr>\n",
       "      <th>b9c57c450ce74a2af79c9ce96fac144d</th>\n",
       "      <td>658</td>\n",
       "      <td>True</td>\n",
       "      <td>1154</td>\n",
       "      <td>496</td>\n",
       "      <td>NaN</td>\n",
       "    </tr>\n",
       "    <tr>\n",
       "      <th>6db558535151ea18ca70a6892197db41</th>\n",
       "      <td>21</td>\n",
       "      <td>True</td>\n",
       "      <td>1503</td>\n",
       "      <td>1482</td>\n",
       "      <td>Radiant</td>\n",
       "    </tr>\n",
       "    <tr>\n",
       "      <th>19c39fe2af2b547e48708ca005c6ae74</th>\n",
       "      <td>160</td>\n",
       "      <td>False</td>\n",
       "      <td>2063</td>\n",
       "      <td>1903</td>\n",
       "      <td>NaN</td>\n",
       "    </tr>\n",
       "    <tr>\n",
       "      <th>c96d629dc0c39f0c616d1949938a6ba6</th>\n",
       "      <td>1016</td>\n",
       "      <td>True</td>\n",
       "      <td>2147</td>\n",
       "      <td>1131</td>\n",
       "      <td>Radiant</td>\n",
       "    </tr>\n",
       "    <tr>\n",
       "      <th>156c88bff4e9c4668b0f53df3d870f1b</th>\n",
       "      <td>582</td>\n",
       "      <td>False</td>\n",
       "      <td>1927</td>\n",
       "      <td>1345</td>\n",
       "      <td>Dire</td>\n",
       "    </tr>\n",
       "  </tbody>\n",
       "</table>\n",
       "</div>"
      ],
      "text/plain": [
       "                                  game_time  radiant_win  duration  \\\n",
       "match_id_hash                                                        \n",
       "b9c57c450ce74a2af79c9ce96fac144d        658         True      1154   \n",
       "6db558535151ea18ca70a6892197db41         21         True      1503   \n",
       "19c39fe2af2b547e48708ca005c6ae74        160        False      2063   \n",
       "c96d629dc0c39f0c616d1949938a6ba6       1016         True      2147   \n",
       "156c88bff4e9c4668b0f53df3d870f1b        582        False      1927   \n",
       "\n",
       "                                  time_remaining next_roshan_team  \n",
       "match_id_hash                                                      \n",
       "b9c57c450ce74a2af79c9ce96fac144d             496              NaN  \n",
       "6db558535151ea18ca70a6892197db41            1482          Radiant  \n",
       "19c39fe2af2b547e48708ca005c6ae74            1903              NaN  \n",
       "c96d629dc0c39f0c616d1949938a6ba6            1131          Radiant  \n",
       "156c88bff4e9c4668b0f53df3d870f1b            1345             Dire  "
      ]
     },
     "execution_count": 6,
     "metadata": {},
     "output_type": "execute_result"
    }
   ],
   "source": [
    "df_train_targets.head()"
   ]
  },
  {
   "cell_type": "markdown",
   "id": "f4593e3d",
   "metadata": {
    "papermill": {
     "duration": 0.046788,
     "end_time": "2022-02-13T23:28:26.547845",
     "exception": false,
     "start_time": "2022-02-13T23:28:26.501057",
     "status": "completed"
    },
    "tags": []
   },
   "source": [
    "## <left>Наша первая модель"
   ]
  },
  {
   "cell_type": "code",
   "execution_count": 7,
   "id": "924406d4",
   "metadata": {
    "ExecuteTime": {
     "end_time": "2023-04-09T22:06:51.955466Z",
     "start_time": "2023-04-09T22:06:51.922404Z"
    },
    "execution": {
     "iopub.execute_input": "2022-02-13T23:28:26.647577Z",
     "iopub.status.busy": "2022-02-13T23:28:26.645040Z",
     "iopub.status.idle": "2022-02-13T23:28:26.671991Z",
     "shell.execute_reply": "2022-02-13T23:28:26.672585Z",
     "shell.execute_reply.started": "2022-02-13T22:54:39.221703Z"
    },
    "papermill": {
     "duration": 0.078234,
     "end_time": "2022-02-13T23:28:26.672769",
     "exception": false,
     "start_time": "2022-02-13T23:28:26.594535",
     "status": "completed"
    },
    "tags": []
   },
   "outputs": [],
   "source": [
    "X = df_train_features.values\n",
    "y = df_train_targets[\"radiant_win\"].values.astype(\"int8\")"
   ]
  },
  {
   "cell_type": "code",
   "execution_count": 8,
   "id": "1a3eb054",
   "metadata": {
    "ExecuteTime": {
     "end_time": "2023-04-09T22:06:53.403707Z",
     "start_time": "2023-04-09T22:06:53.302640Z"
    },
    "execution": {
     "iopub.execute_input": "2022-02-13T23:28:26.771678Z",
     "iopub.status.busy": "2022-02-13T23:28:26.768845Z",
     "iopub.status.idle": "2022-02-13T23:28:26.870676Z",
     "shell.execute_reply": "2022-02-13T23:28:26.871233Z",
     "shell.execute_reply.started": "2022-02-13T22:54:39.486872Z"
    },
    "papermill": {
     "duration": 0.152481,
     "end_time": "2022-02-13T23:28:26.871414",
     "exception": false,
     "start_time": "2022-02-13T23:28:26.718933",
     "status": "completed"
    },
    "tags": []
   },
   "outputs": [],
   "source": [
    "X_train, X_valid, y_train, y_valid = train_test_split(X, y, \n",
    "                                                      test_size=0.3, \n",
    "                                                      random_state=SEED)"
   ]
  },
  {
   "cell_type": "markdown",
   "id": "a5d0f5a7",
   "metadata": {
    "papermill": {
     "duration": 0.04485,
     "end_time": "2022-02-13T23:28:26.961156",
     "exception": false,
     "start_time": "2022-02-13T23:28:26.916306",
     "status": "completed"
    },
    "tags": []
   },
   "source": [
    "#### Обучим случайный лес"
   ]
  },
  {
   "cell_type": "code",
   "execution_count": 9,
   "id": "3eb45693",
   "metadata": {
    "ExecuteTime": {
     "end_time": "2023-04-09T22:06:56.445859Z",
     "start_time": "2023-04-09T22:06:55.037144Z"
    },
    "execution": {
     "iopub.execute_input": "2022-02-13T23:28:27.054420Z",
     "iopub.status.busy": "2022-02-13T23:28:27.053634Z",
     "iopub.status.idle": "2022-02-13T23:28:36.072462Z",
     "shell.execute_reply": "2022-02-13T23:28:36.072928Z",
     "shell.execute_reply.started": "2022-02-13T22:55:21.167897Z"
    },
    "papermill": {
     "duration": 9.067224,
     "end_time": "2022-02-13T23:28:36.073116",
     "exception": false,
     "start_time": "2022-02-13T23:28:27.005892",
     "status": "completed"
    },
    "tags": []
   },
   "outputs": [
    {
     "name": "stdout",
     "output_type": "stream",
     "text": [
      "CPU times: user 30 s, sys: 363 ms, total: 30.4 s\n",
      "Wall time: 1.39 s\n"
     ]
    },
    {
     "data": {
      "text/html": [
       "<style>#sk-container-id-1 {color: black;background-color: white;}#sk-container-id-1 pre{padding: 0;}#sk-container-id-1 div.sk-toggleable {background-color: white;}#sk-container-id-1 label.sk-toggleable__label {cursor: pointer;display: block;width: 100%;margin-bottom: 0;padding: 0.3em;box-sizing: border-box;text-align: center;}#sk-container-id-1 label.sk-toggleable__label-arrow:before {content: \"▸\";float: left;margin-right: 0.25em;color: #696969;}#sk-container-id-1 label.sk-toggleable__label-arrow:hover:before {color: black;}#sk-container-id-1 div.sk-estimator:hover label.sk-toggleable__label-arrow:before {color: black;}#sk-container-id-1 div.sk-toggleable__content {max-height: 0;max-width: 0;overflow: hidden;text-align: left;background-color: #f0f8ff;}#sk-container-id-1 div.sk-toggleable__content pre {margin: 0.2em;color: black;border-radius: 0.25em;background-color: #f0f8ff;}#sk-container-id-1 input.sk-toggleable__control:checked~div.sk-toggleable__content {max-height: 200px;max-width: 100%;overflow: auto;}#sk-container-id-1 input.sk-toggleable__control:checked~label.sk-toggleable__label-arrow:before {content: \"▾\";}#sk-container-id-1 div.sk-estimator input.sk-toggleable__control:checked~label.sk-toggleable__label {background-color: #d4ebff;}#sk-container-id-1 div.sk-label input.sk-toggleable__control:checked~label.sk-toggleable__label {background-color: #d4ebff;}#sk-container-id-1 input.sk-hidden--visually {border: 0;clip: rect(1px 1px 1px 1px);clip: rect(1px, 1px, 1px, 1px);height: 1px;margin: -1px;overflow: hidden;padding: 0;position: absolute;width: 1px;}#sk-container-id-1 div.sk-estimator {font-family: monospace;background-color: #f0f8ff;border: 1px dotted black;border-radius: 0.25em;box-sizing: border-box;margin-bottom: 0.5em;}#sk-container-id-1 div.sk-estimator:hover {background-color: #d4ebff;}#sk-container-id-1 div.sk-parallel-item::after {content: \"\";width: 100%;border-bottom: 1px solid gray;flex-grow: 1;}#sk-container-id-1 div.sk-label:hover label.sk-toggleable__label {background-color: #d4ebff;}#sk-container-id-1 div.sk-serial::before {content: \"\";position: absolute;border-left: 1px solid gray;box-sizing: border-box;top: 0;bottom: 0;left: 50%;z-index: 0;}#sk-container-id-1 div.sk-serial {display: flex;flex-direction: column;align-items: center;background-color: white;padding-right: 0.2em;padding-left: 0.2em;position: relative;}#sk-container-id-1 div.sk-item {position: relative;z-index: 1;}#sk-container-id-1 div.sk-parallel {display: flex;align-items: stretch;justify-content: center;background-color: white;position: relative;}#sk-container-id-1 div.sk-item::before, #sk-container-id-1 div.sk-parallel-item::before {content: \"\";position: absolute;border-left: 1px solid gray;box-sizing: border-box;top: 0;bottom: 0;left: 50%;z-index: -1;}#sk-container-id-1 div.sk-parallel-item {display: flex;flex-direction: column;z-index: 1;position: relative;background-color: white;}#sk-container-id-1 div.sk-parallel-item:first-child::after {align-self: flex-end;width: 50%;}#sk-container-id-1 div.sk-parallel-item:last-child::after {align-self: flex-start;width: 50%;}#sk-container-id-1 div.sk-parallel-item:only-child::after {width: 0;}#sk-container-id-1 div.sk-dashed-wrapped {border: 1px dashed gray;margin: 0 0.4em 0.5em 0.4em;box-sizing: border-box;padding-bottom: 0.4em;background-color: white;}#sk-container-id-1 div.sk-label label {font-family: monospace;font-weight: bold;display: inline-block;line-height: 1.2em;}#sk-container-id-1 div.sk-label-container {text-align: center;}#sk-container-id-1 div.sk-container {/* jupyter's `normalize.less` sets `[hidden] { display: none; }` but bootstrap.min.css set `[hidden] { display: none !important; }` so we also need the `!important` here to be able to override the default hidden behavior on the sphinx rendered scikit-learn.org. See: https://github.com/scikit-learn/scikit-learn/issues/21755 */display: inline-block !important;position: relative;}#sk-container-id-1 div.sk-text-repr-fallback {display: none;}</style><div id=\"sk-container-id-1\" class=\"sk-top-container\"><div class=\"sk-text-repr-fallback\"><pre>RandomForestClassifier(max_depth=7, n_estimators=300, n_jobs=-1,\n",
       "                       random_state=10801)</pre><b>In a Jupyter environment, please rerun this cell to show the HTML representation or trust the notebook. <br />On GitHub, the HTML representation is unable to render, please try loading this page with nbviewer.org.</b></div><div class=\"sk-container\" hidden><div class=\"sk-item\"><div class=\"sk-estimator sk-toggleable\"><input class=\"sk-toggleable__control sk-hidden--visually\" id=\"sk-estimator-id-1\" type=\"checkbox\" checked><label for=\"sk-estimator-id-1\" class=\"sk-toggleable__label sk-toggleable__label-arrow\">RandomForestClassifier</label><div class=\"sk-toggleable__content\"><pre>RandomForestClassifier(max_depth=7, n_estimators=300, n_jobs=-1,\n",
       "                       random_state=10801)</pre></div></div></div></div></div>"
      ],
      "text/plain": [
       "RandomForestClassifier(max_depth=7, n_estimators=300, n_jobs=-1,\n",
       "                       random_state=10801)"
      ]
     },
     "execution_count": 9,
     "metadata": {},
     "output_type": "execute_result"
    }
   ],
   "source": [
    "%%time\n",
    "rf_model = RandomForestClassifier(n_estimators=300, max_depth=7, n_jobs=-1, random_state=SEED)\n",
    "rf_model.fit(X_train, y_train)"
   ]
  },
  {
   "cell_type": "markdown",
   "id": "83f3e06a",
   "metadata": {
    "papermill": {
     "duration": 0.045583,
     "end_time": "2022-02-13T23:28:36.165966",
     "exception": false,
     "start_time": "2022-02-13T23:28:36.120383",
     "status": "completed"
    },
    "tags": []
   },
   "source": [
    "#### Сделаем предсказания и оценим качество на отложенной части данных"
   ]
  },
  {
   "cell_type": "code",
   "execution_count": 10,
   "id": "51083582",
   "metadata": {
    "ExecuteTime": {
     "end_time": "2023-04-09T22:06:57.776310Z",
     "start_time": "2023-04-09T22:06:57.539461Z"
    },
    "execution": {
     "iopub.execute_input": "2022-02-13T23:28:36.261354Z",
     "iopub.status.busy": "2022-02-13T23:28:36.260637Z",
     "iopub.status.idle": "2022-02-13T23:28:36.574159Z",
     "shell.execute_reply": "2022-02-13T23:28:36.573534Z",
     "shell.execute_reply.started": "2022-02-13T22:55:33.749369Z"
    },
    "papermill": {
     "duration": 0.362593,
     "end_time": "2022-02-13T23:28:36.574368",
     "exception": false,
     "start_time": "2022-02-13T23:28:36.211775",
     "status": "completed"
    },
    "tags": []
   },
   "outputs": [],
   "source": [
    "y_pred = rf_model.predict_proba(X_valid)[:, 1]"
   ]
  },
  {
   "cell_type": "code",
   "execution_count": 11,
   "id": "d0680b70",
   "metadata": {
    "ExecuteTime": {
     "end_time": "2023-04-09T22:06:58.775575Z",
     "start_time": "2023-04-09T22:06:58.762233Z"
    },
    "execution": {
     "iopub.execute_input": "2022-02-13T23:28:36.672682Z",
     "iopub.status.busy": "2022-02-13T23:28:36.671834Z",
     "iopub.status.idle": "2022-02-13T23:28:36.680646Z",
     "shell.execute_reply": "2022-02-13T23:28:36.680073Z",
     "shell.execute_reply.started": "2022-02-13T22:55:34.515933Z"
    },
    "papermill": {
     "duration": 0.060422,
     "end_time": "2022-02-13T23:28:36.680786",
     "exception": false,
     "start_time": "2022-02-13T23:28:36.620364",
     "status": "completed"
    },
    "tags": []
   },
   "outputs": [
    {
     "name": "stdout",
     "output_type": "stream",
     "text": [
      "ROC-AUC score на отложенной части: 0.7754387258058622\n"
     ]
    }
   ],
   "source": [
    "valid_score = roc_auc_score(y_valid, y_pred)\n",
    "print(\"ROC-AUC score на отложенной части:\", valid_score)"
   ]
  },
  {
   "cell_type": "markdown",
   "id": "86c119c0",
   "metadata": {
    "papermill": {
     "duration": 0.045999,
     "end_time": "2022-02-13T23:28:36.773926",
     "exception": false,
     "start_time": "2022-02-13T23:28:36.727927",
     "status": "completed"
    },
    "tags": []
   },
   "source": [
    "Посмотрим на accuracy:"
   ]
  },
  {
   "cell_type": "code",
   "execution_count": 12,
   "id": "0f78cc11",
   "metadata": {
    "ExecuteTime": {
     "end_time": "2023-04-09T22:07:00.288840Z",
     "start_time": "2023-04-09T22:07:00.280859Z"
    },
    "execution": {
     "iopub.execute_input": "2022-02-13T23:28:36.872122Z",
     "iopub.status.busy": "2022-02-13T23:28:36.871439Z",
     "iopub.status.idle": "2022-02-13T23:28:36.877567Z",
     "shell.execute_reply": "2022-02-13T23:28:36.877051Z",
     "shell.execute_reply.started": "2022-02-13T22:55:46.570239Z"
    },
    "papermill": {
     "duration": 0.057673,
     "end_time": "2022-02-13T23:28:36.877714",
     "exception": false,
     "start_time": "2022-02-13T23:28:36.820041",
     "status": "completed"
    },
    "tags": []
   },
   "outputs": [
    {
     "name": "stdout",
     "output_type": "stream",
     "text": [
      "Accuracy score (p > 0.5) на отложенной части: 0.6885383806519453\n"
     ]
    }
   ],
   "source": [
    "valid_accuracy = accuracy_score(y_valid, y_pred > 0.5)\n",
    "print(\"Accuracy score (p > 0.5) на отложенной части:\", valid_accuracy)"
   ]
  },
  {
   "cell_type": "markdown",
   "id": "088180ae",
   "metadata": {
    "papermill": {
     "duration": 0.046013,
     "end_time": "2022-02-13T23:28:36.970038",
     "exception": false,
     "start_time": "2022-02-13T23:28:36.924025",
     "status": "completed"
    },
    "tags": []
   },
   "source": [
    "## <left>Посылка"
   ]
  },
  {
   "cell_type": "code",
   "execution_count": 13,
   "id": "dee44710",
   "metadata": {
    "ExecuteTime": {
     "end_time": "2023-04-09T22:07:03.096764Z",
     "start_time": "2023-04-09T22:07:02.615431Z"
    },
    "execution": {
     "iopub.execute_input": "2022-02-13T23:28:37.066588Z",
     "iopub.status.busy": "2022-02-13T23:28:37.065534Z",
     "iopub.status.idle": "2022-02-13T23:28:37.589671Z",
     "shell.execute_reply": "2022-02-13T23:28:37.589074Z",
     "shell.execute_reply.started": "2022-02-13T22:55:54.636469Z"
    },
    "papermill": {
     "duration": 0.573434,
     "end_time": "2022-02-13T23:28:37.589831",
     "exception": false,
     "start_time": "2022-02-13T23:28:37.016397",
     "status": "completed"
    },
    "tags": []
   },
   "outputs": [],
   "source": [
    "df_test_features = pd.read_csv(os.path.join(PATH_TO_DATA, \"test_data.csv\"), \n",
    "                                   index_col=\"match_id_hash\")\n",
    "\n",
    "X_test = df_test_features.values\n",
    "y_test_pred = rf_model.predict_proba(X_test)[:, 1]\n",
    "\n",
    "df_submission = pd.DataFrame({\"radiant_win_prob\": y_test_pred}, \n",
    "                                 index=df_test_features.index)"
   ]
  },
  {
   "cell_type": "code",
   "execution_count": 14,
   "id": "31fa687f",
   "metadata": {
    "ExecuteTime": {
     "end_time": "2023-04-09T22:07:03.711649Z",
     "start_time": "2023-04-09T22:07:03.678899Z"
    },
    "execution": {
     "iopub.execute_input": "2022-02-13T23:28:37.693733Z",
     "iopub.status.busy": "2022-02-13T23:28:37.693041Z",
     "iopub.status.idle": "2022-02-13T23:28:37.732667Z",
     "shell.execute_reply": "2022-02-13T23:28:37.731983Z",
     "shell.execute_reply.started": "2022-02-13T22:55:58.549750Z"
    },
    "papermill": {
     "duration": 0.09114,
     "end_time": "2022-02-13T23:28:37.732839",
     "exception": false,
     "start_time": "2022-02-13T23:28:37.641699",
     "status": "completed"
    },
    "tags": []
   },
   "outputs": [
    {
     "name": "stdout",
     "output_type": "stream",
     "text": [
      "Файл посылки сохранен, как: submission_2023-04-09_22-07-03.csv\n"
     ]
    }
   ],
   "source": [
    "submission_filename = \"submission_{}.csv\".format(\n",
    "    datetime.datetime.now().strftime(\"%Y-%m-%d_%H-%M-%S\"))\n",
    "df_submission.to_csv(submission_filename)\n",
    "print(\"Файл посылки сохранен, как: {}\".format(submission_filename))"
   ]
  },
  {
   "cell_type": "markdown",
   "id": "8b415d44",
   "metadata": {
    "papermill": {
     "duration": 0.046122,
     "end_time": "2022-02-13T23:28:37.825794",
     "exception": false,
     "start_time": "2022-02-13T23:28:37.779672",
     "status": "completed"
    },
    "tags": []
   },
   "source": [
    "## <left>Кросс-валидация"
   ]
  },
  {
   "cell_type": "markdown",
   "id": "e46de9ef",
   "metadata": {
    "papermill": {
     "duration": 0.047147,
     "end_time": "2022-02-13T23:28:37.919675",
     "exception": false,
     "start_time": "2022-02-13T23:28:37.872528",
     "status": "completed"
    },
    "tags": []
   },
   "source": [
    "Во многих случаях кросс-валидация оказывается лучше простого разбиения на test и train. Воспользуемся `ShuffleSplit` чтобы создать 5 70%/30% наборов данных."
   ]
  },
  {
   "cell_type": "code",
   "execution_count": 15,
   "id": "fea86d81",
   "metadata": {
    "ExecuteTime": {
     "end_time": "2023-04-09T22:07:04.978403Z",
     "start_time": "2023-04-09T22:07:04.973039Z"
    },
    "execution": {
     "iopub.execute_input": "2022-02-13T23:28:38.018868Z",
     "iopub.status.busy": "2022-02-13T23:28:38.018165Z",
     "iopub.status.idle": "2022-02-13T23:28:38.021030Z",
     "shell.execute_reply": "2022-02-13T23:28:38.020500Z",
     "shell.execute_reply.started": "2022-02-13T22:56:24.879618Z"
    },
    "papermill": {
     "duration": 0.054303,
     "end_time": "2022-02-13T23:28:38.021177",
     "exception": false,
     "start_time": "2022-02-13T23:28:37.966874",
     "status": "completed"
    },
    "tags": []
   },
   "outputs": [],
   "source": [
    "cv = ShuffleSplit(n_splits=5, test_size=0.3, random_state=SEED)"
   ]
  },
  {
   "cell_type": "code",
   "execution_count": 16,
   "id": "c6d0d2cb",
   "metadata": {
    "ExecuteTime": {
     "end_time": "2023-04-09T22:07:14.530794Z",
     "start_time": "2023-04-09T22:07:05.642156Z"
    },
    "execution": {
     "iopub.execute_input": "2022-02-13T23:28:38.124812Z",
     "iopub.status.busy": "2022-02-13T23:28:38.123342Z",
     "iopub.status.idle": "2022-02-13T23:29:32.720410Z",
     "shell.execute_reply": "2022-02-13T23:29:32.720941Z",
     "shell.execute_reply.started": "2022-02-13T22:56:42.398744Z"
    },
    "papermill": {
     "duration": 54.652614,
     "end_time": "2022-02-13T23:29:32.721125",
     "exception": false,
     "start_time": "2022-02-13T23:28:38.068511",
     "status": "completed"
    },
    "tags": []
   },
   "outputs": [
    {
     "name": "stdout",
     "output_type": "stream",
     "text": [
      "CPU times: user 6.95 s, sys: 1.57 s, total: 8.51 s\n",
      "Wall time: 8.88 s\n"
     ]
    }
   ],
   "source": [
    "%%time\n",
    "rf_model = RandomForestClassifier(n_estimators=300, max_depth=7, n_jobs=-1, random_state=SEED)\n",
    "cv_scores_rf = cross_val_score(rf_model, X, y, cv=cv, scoring=\"roc_auc\")"
   ]
  },
  {
   "cell_type": "code",
   "execution_count": 17,
   "id": "7fcb200c",
   "metadata": {
    "ExecuteTime": {
     "end_time": "2023-04-09T22:07:14.539869Z",
     "start_time": "2023-04-09T22:07:14.534258Z"
    },
    "execution": {
     "iopub.execute_input": "2022-02-13T23:29:32.819094Z",
     "iopub.status.busy": "2022-02-13T23:29:32.818432Z",
     "iopub.status.idle": "2022-02-13T23:29:32.823613Z",
     "shell.execute_reply": "2022-02-13T23:29:32.824240Z",
     "shell.execute_reply.started": "2022-02-13T22:57:33.757348Z"
    },
    "papermill": {
     "duration": 0.056037,
     "end_time": "2022-02-13T23:29:32.824411",
     "exception": false,
     "start_time": "2022-02-13T23:29:32.768374",
     "status": "completed"
    },
    "tags": []
   },
   "outputs": [
    {
     "data": {
      "text/plain": [
       "array([0.77543873, 0.77343884, 0.76649967, 0.7722681 , 0.77246001])"
      ]
     },
     "execution_count": 17,
     "metadata": {},
     "output_type": "execute_result"
    }
   ],
   "source": [
    "cv_scores_rf"
   ]
  },
  {
   "cell_type": "code",
   "execution_count": 18,
   "id": "dc35da83",
   "metadata": {
    "ExecuteTime": {
     "end_time": "2023-04-09T22:07:14.550622Z",
     "start_time": "2023-04-09T22:07:14.541601Z"
    },
    "execution": {
     "iopub.execute_input": "2022-02-13T23:29:32.923448Z",
     "iopub.status.busy": "2022-02-13T23:29:32.922737Z",
     "iopub.status.idle": "2022-02-13T23:29:32.928466Z",
     "shell.execute_reply": "2022-02-13T23:29:32.927601Z",
     "shell.execute_reply.started": "2022-02-13T22:57:38.647385Z"
    },
    "papermill": {
     "duration": 0.056776,
     "end_time": "2022-02-13T23:29:32.928669",
     "exception": false,
     "start_time": "2022-02-13T23:29:32.871893",
     "status": "completed"
    },
    "tags": []
   },
   "outputs": [
    {
     "name": "stdout",
     "output_type": "stream",
     "text": [
      "Среднее значение ROC-AUC на кросс-валидации: 0.7720210676055513\n"
     ]
    }
   ],
   "source": [
    "print(f\"Среднее значение ROC-AUC на кросс-валидации: {cv_scores_rf.mean()}\")"
   ]
  },
  {
   "cell_type": "markdown",
   "id": "b5bd877e",
   "metadata": {
    "papermill": {
     "duration": 0.04757,
     "end_time": "2022-02-13T23:29:33.025145",
     "exception": false,
     "start_time": "2022-02-13T23:29:32.977575",
     "status": "completed"
    },
    "tags": []
   },
   "source": [
    "## <left>Что есть в json файлах?"
   ]
  },
  {
   "cell_type": "markdown",
   "id": "37f436e9",
   "metadata": {
    "papermill": {
     "duration": 0.048776,
     "end_time": "2022-02-13T23:29:33.122475",
     "exception": false,
     "start_time": "2022-02-13T23:29:33.073699",
     "status": "completed"
    },
    "tags": []
   },
   "source": [
    "Описание сырых данных можно найти в `train_matches.jsonl` и `test_matches.jsonl`. Каждый файл содержит одну запись для каждого матча в [JSON](https://en.wikipedia.org/wiki/JSON) формате. Его легко превратить в питоновский объект при помощи метода `json.loads`."
   ]
  },
  {
   "cell_type": "code",
   "execution_count": 19,
   "id": "98d156b7",
   "metadata": {
    "ExecuteTime": {
     "end_time": "2023-04-09T22:07:20.754729Z",
     "start_time": "2023-04-09T22:07:20.706285Z"
    },
    "execution": {
     "iopub.execute_input": "2022-02-13T23:29:33.224143Z",
     "iopub.status.busy": "2022-02-13T23:29:33.223346Z",
     "iopub.status.idle": "2022-02-13T23:29:33.684926Z",
     "shell.execute_reply": "2022-02-13T23:29:33.684347Z",
     "shell.execute_reply.started": "2022-02-13T22:57:44.043572Z"
    },
    "papermill": {
     "duration": 0.514659,
     "end_time": "2022-02-13T23:29:33.685074",
     "exception": false,
     "start_time": "2022-02-13T23:29:33.170415",
     "status": "completed"
    },
    "tags": []
   },
   "outputs": [],
   "source": [
    "with open(os.path.join(PATH_TO_DATA, \"train_raw_data.jsonl\")) as fin:\n",
    "    # прочтем 419 строку\n",
    "    for i in range(419):\n",
    "        line = fin.readline()\n",
    "    \n",
    "    # переведем JSON в питоновский словарь \n",
    "    match = json.loads(line)"
   ]
  },
  {
   "cell_type": "code",
   "execution_count": 20,
   "id": "8480f166",
   "metadata": {
    "ExecuteTime": {
     "end_time": "2023-04-09T22:07:23.226947Z",
     "start_time": "2023-04-09T22:07:23.218575Z"
    },
    "execution": {
     "iopub.execute_input": "2022-02-13T23:29:33.789538Z",
     "iopub.status.busy": "2022-02-13T23:29:33.788717Z",
     "iopub.status.idle": "2022-02-13T23:29:33.792009Z",
     "shell.execute_reply": "2022-02-13T23:29:33.792529Z",
     "shell.execute_reply.started": "2022-02-13T22:57:45.161882Z"
    },
    "papermill": {
     "duration": 0.057975,
     "end_time": "2022-02-13T23:29:33.792713",
     "exception": false,
     "start_time": "2022-02-13T23:29:33.734738",
     "status": "completed"
    },
    "tags": []
   },
   "outputs": [
    {
     "data": {
      "text/plain": [
       "(0, 5, 5)"
      ]
     },
     "execution_count": 20,
     "metadata": {},
     "output_type": "execute_result"
    }
   ],
   "source": [
    "player = match[\"players\"][9]\n",
    "player[\"kills\"], player[\"deaths\"], player[\"assists\"]"
   ]
  },
  {
   "cell_type": "markdown",
   "id": "1978e793",
   "metadata": {
    "papermill": {
     "duration": 0.047795,
     "end_time": "2022-02-13T23:29:33.888962",
     "exception": false,
     "start_time": "2022-02-13T23:29:33.841167",
     "status": "completed"
    },
    "tags": []
   },
   "source": [
    "KDA - может быть неплохим признаком, этот показатель считается как:\n",
    "    \n",
    "<center>$KDA = \\frac{K + A}{D}$"
   ]
  },
  {
   "cell_type": "markdown",
   "id": "f606d088",
   "metadata": {
    "papermill": {
     "duration": 0.047726,
     "end_time": "2022-02-13T23:29:33.984909",
     "exception": false,
     "start_time": "2022-02-13T23:29:33.937183",
     "status": "completed"
    },
    "tags": []
   },
   "source": [
    "Информация о количестве использованных способностей:"
   ]
  },
  {
   "cell_type": "code",
   "execution_count": 21,
   "id": "d084ad3e",
   "metadata": {
    "ExecuteTime": {
     "end_time": "2023-04-09T22:07:28.721912Z",
     "start_time": "2023-04-09T22:07:28.714495Z"
    },
    "execution": {
     "iopub.execute_input": "2022-02-13T23:29:34.088460Z",
     "iopub.status.busy": "2022-02-13T23:29:34.087529Z",
     "iopub.status.idle": "2022-02-13T23:29:34.091718Z",
     "shell.execute_reply": "2022-02-13T23:29:34.091168Z",
     "shell.execute_reply.started": "2022-02-13T22:57:47.094707Z"
    },
    "papermill": {
     "duration": 0.058567,
     "end_time": "2022-02-13T23:29:34.091868",
     "exception": false,
     "start_time": "2022-02-13T23:29:34.033301",
     "status": "completed"
    },
    "tags": []
   },
   "outputs": [
    {
     "data": {
      "text/plain": [
       "{'treant_living_armor': 52, 'treant_leech_seed': 5, 'treant_overgrowth': 5}"
      ]
     },
     "execution_count": 21,
     "metadata": {},
     "output_type": "execute_result"
    }
   ],
   "source": [
    "player[\"ability_uses\"]"
   ]
  },
  {
   "cell_type": "code",
   "execution_count": 22,
   "id": "eb31203b",
   "metadata": {
    "ExecuteTime": {
     "end_time": "2023-04-09T22:07:36.764470Z",
     "start_time": "2023-04-09T22:07:36.226035Z"
    },
    "execution": {
     "iopub.execute_input": "2022-02-13T23:29:34.201476Z",
     "iopub.status.busy": "2022-02-13T23:29:34.200495Z",
     "iopub.status.idle": "2022-02-13T23:29:34.636952Z",
     "shell.execute_reply": "2022-02-13T23:29:34.637463Z",
     "shell.execute_reply.started": "2022-02-13T22:57:52.249048Z"
    },
    "papermill": {
     "duration": 0.497079,
     "end_time": "2022-02-13T23:29:34.637657",
     "exception": false,
     "start_time": "2022-02-13T23:29:34.140578",
     "status": "completed"
    },
    "tags": []
   },
   "outputs": [
    {
     "data": {
      "image/png": "[encoded data removed]",
      "text/plain": [
       "<Figure size 1200x800 with 1 Axes>"
      ]
     },
     "metadata": {},
     "output_type": "display_data"
    }
   ],
   "source": [
    "for i, player in enumerate(match[\"players\"]):\n",
    "    plt.plot(player[\"times\"], player[\"xp_t\"], label=str(i+1))\n",
    "\n",
    "plt.legend()\n",
    "plt.xlabel(\"Time, s\")\n",
    "plt.ylabel(\"XP\")\n",
    "plt.title(\"XP change for all players\");"
   ]
  },
  {
   "cell_type": "markdown",
   "id": "2d2d449e",
   "metadata": {
    "papermill": {
     "duration": 0.052753,
     "end_time": "2022-02-13T23:29:34.742623",
     "exception": false,
     "start_time": "2022-02-13T23:29:34.689870",
     "status": "completed"
    },
    "tags": []
   },
   "source": [
    "#### Сделаем чтение файла с сырыми данными и добавление новых признаков удобным"
   ]
  },
  {
   "cell_type": "markdown",
   "id": "b25a27fe",
   "metadata": {
    "papermill": {
     "duration": 0.051195,
     "end_time": "2022-02-13T23:29:34.845611",
     "exception": false,
     "start_time": "2022-02-13T23:29:34.794416",
     "status": "completed"
    },
    "tags": []
   },
   "source": [
    "В этот раз для чтение `json` файлов лучше использовать библиотеку `ujson`, иначе все будет слишком долго :("
   ]
  },
  {
   "cell_type": "code",
   "execution_count": 156,
   "id": "98f19215",
   "metadata": {
    "ExecuteTime": {
     "end_time": "2023-04-10T16:58:48.624703Z",
     "start_time": "2023-04-10T16:58:48.615627Z"
    },
    "execution": {
     "iopub.execute_input": "2022-02-13T23:29:34.952234Z",
     "iopub.status.busy": "2022-02-13T23:29:34.951534Z",
     "iopub.status.idle": "2022-02-13T23:29:34.966771Z",
     "shell.execute_reply": "2022-02-13T23:29:34.966081Z",
     "shell.execute_reply.started": "2022-02-13T22:57:54.823795Z"
    },
    "papermill": {
     "duration": 0.069503,
     "end_time": "2022-02-13T23:29:34.966941",
     "exception": false,
     "start_time": "2022-02-13T23:29:34.897438",
     "status": "completed"
    },
    "tags": []
   },
   "outputs": [
    {
     "name": "stdout",
     "output_type": "stream",
     "text": [
      "Подумайте об установке ujson, чтобы работать с JSON объектами быстрее\n"
     ]
    }
   ],
   "source": [
    "try:\n",
    "    import ujson as json\n",
    "except ModuleNotFoundError:\n",
    "    import json\n",
    "    print (\"Подумайте об установке ujson, чтобы работать с JSON объектами быстрее\")\n",
    "    \n",
    "try:\n",
    "    from tqdm.notebook import tqdm\n",
    "except ModuleNotFoundError:\n",
    "    tqdm_notebook = lambda x: x\n",
    "    print (\"Подумайте об установке tqdm, чтобы следить за прогрессом\")\n",
    "\n",
    "    \n",
    "def read_matches(matches_file, total_matches=31698, n_matches_to_read=None):\n",
    "    \"\"\"\n",
    "    Аргуент\n",
    "    -------\n",
    "    matches_file: JSON файл с сырыми данными\n",
    "    \n",
    "    Результат\n",
    "    ---------\n",
    "    Возвращает записи о каждом матче\n",
    "    \"\"\"\n",
    "    \n",
    "    if n_matches_to_read is None:\n",
    "        n_matches_to_read = total_matches\n",
    "        \n",
    "    c = 0\n",
    "    with open(matches_file) as fin:\n",
    "        for line in tqdm(fin, total=total_matches):\n",
    "            if c >= n_matches_to_read:\n",
    "                break\n",
    "            else:\n",
    "                c += 1\n",
    "                yield json.loads(line)"
   ]
  },
  {
   "cell_type": "markdown",
   "id": "5b19894e",
   "metadata": {
    "papermill": {
     "duration": 0.052275,
     "end_time": "2022-02-13T23:29:35.070860",
     "exception": false,
     "start_time": "2022-02-13T23:29:35.018585",
     "status": "completed"
    },
    "tags": []
   },
   "source": [
    "#### Чтение данных в цикле\n",
    "\n",
    "Чтение всех данных занимает 1-2 минуты, поэтому для начала можно попробовать следующее:\n",
    "\n",
    "1. Читать 10-50 игр\n",
    "2. Написать код для работы с этими JSON объектами\n",
    "3. Убедиться, что все работает\n",
    "4. Запустить код на всем датасете\n",
    "5. Сохранить результат в `pickle` файл, чтобы в следующий раз не переделывать все заново"
   ]
  },
  {
   "cell_type": "markdown",
   "id": "d505421f",
   "metadata": {
    "papermill": {
     "duration": 0.051565,
     "end_time": "2022-02-13T23:29:35.175139",
     "exception": false,
     "start_time": "2022-02-13T23:29:35.123574",
     "status": "completed"
    },
    "tags": []
   },
   "source": [
    "## <left>Feature engineering"
   ]
  },
  {
   "cell_type": "markdown",
   "id": "492077f7",
   "metadata": {
    "papermill": {
     "duration": 0.051315,
     "end_time": "2022-02-13T23:29:35.278664",
     "exception": false,
     "start_time": "2022-02-13T23:29:35.227349",
     "status": "completed"
    },
    "tags": []
   },
   "source": [
    "Напишем функцию, которая поможет нам легче добавлять новые признаки."
   ]
  },
  {
   "cell_type": "code",
   "execution_count": 133,
   "id": "b790061a",
   "metadata": {
    "ExecuteTime": {
     "end_time": "2023-04-10T16:28:07.427018Z",
     "start_time": "2023-04-10T16:28:07.421049Z"
    }
   },
   "outputs": [
    {
     "name": "stdout",
     "output_type": "stream",
     "text": [
      "d\n"
     ]
    }
   ],
   "source": [
    "i=5\n",
    "team = 'r' if i <=4 else 'd'\n",
    "print(team)"
   ]
  },
  {
   "cell_type": "code",
   "execution_count": 148,
   "id": "41e906e5",
   "metadata": {
    "ExecuteTime": {
     "end_time": "2023-04-10T16:44:39.376603Z",
     "start_time": "2023-04-10T16:44:39.356894Z"
    },
    "execution": {
     "iopub.execute_input": "2022-02-13T23:29:35.392115Z",
     "iopub.status.busy": "2022-02-13T23:29:35.391360Z",
     "iopub.status.idle": "2022-02-13T23:29:35.393224Z",
     "shell.execute_reply": "2022-02-13T23:29:35.393803Z",
     "shell.execute_reply.started": "2022-02-13T22:57:58.423089Z"
    },
    "papermill": {
     "duration": 0.063047,
     "end_time": "2022-02-13T23:29:35.393977",
     "exception": false,
     "start_time": "2022-02-13T23:29:35.330930",
     "status": "completed"
    },
    "tags": []
   },
   "outputs": [],
   "source": [
    "def add_new_features(df_features, matches_file):\n",
    "    \"\"\"\n",
    "    Аргуенты\n",
    "    -------\n",
    "    df_features: таблица с данными\n",
    "    matches_file: JSON файл с сырыми данными\n",
    "    \n",
    "    Результат\n",
    "    ---------\n",
    "    Добавляет новые признаки в таблицу\n",
    "    \"\"\"\n",
    "    \n",
    "    for match in read_matches(matches_file):\n",
    "        match_id_hash = match['match_id_hash']\n",
    "\n",
    "        # Посчитаем количество разрушенных вышек обеими командами\n",
    "        radiant_tower_kills = 0\n",
    "        dire_tower_kills = 0\n",
    "        for objective in match[\"objectives\"]:\n",
    "            if objective[\"type\"] == \"CHAT_MESSAGE_TOWER_KILL\":\n",
    "                if objective[\"team\"] == 2:\n",
    "                    radiant_tower_kills += 1\n",
    "                if objective[\"team\"] == 3:\n",
    "                    dire_tower_kills += 1\n",
    "\n",
    "        df_features.loc[match_id_hash, \"radiant_tower_kills\"] = radiant_tower_kills\n",
    "        df_features.loc[match_id_hash, \"dire_tower_kills\"] = dire_tower_kills\n",
    "        df_features.loc[match_id_hash, \"diff_tower_kills\"] = radiant_tower_kills - dire_tower_kills\n",
    "        \n",
    "        # ... (/¯◡ ‿ ◡)/¯☆*:・ﾟ добавляем новые признаки ...\n",
    "        r_healing = 0\n",
    "        d_healing = 0\n",
    "        r_gold_rem = 0\n",
    "        d_gold_rem = 0\n",
    "        r_damage = 0\n",
    "        d_damage = 0\n",
    "        \n",
    "        for i, player in enumerate(match['players']):\n",
    "            team = 'r' if i <=4 else 'd'\n",
    "            j = i+1 if i <=4 else i-4\n",
    "            \n",
    "            # количество использованных способностей\n",
    "            df_features.loc[match_id_hash, f\"{team}{j}_ability_uses\"] = sum(player['ability_uses'].values())\n",
    "            # количество лечений\n",
    "            df_features.loc[match_id_hash, f\"{team}{j}_healing\"] = sum(player['healing'].values())\n",
    "            #добавим остаток золота\n",
    "            df_features.loc[match_id_hash, f\"{team}{j}_gold_remaining\"] = sum(player['gold_reasons'].values())\n",
    "            #добавим количество ударов по героям\n",
    "            df_features.loc[match_id_hash, f\"{team}{j}_hero_hits\"] = sum(player['hero_hits'].values())\n",
    "            #добавим количество нанесенного урона\n",
    "            df_features.loc[match_id_hash, f\"{team}{j}_damage\"] = sum(player['damage'].values())\n",
    "            #доабавим множественные убийства\n",
    "            df_features.loc[match_id_hash, f\"{team}{j}_multi_kills\"] = sum(player['multi_kills'].values())\n",
    "    \n",
    "    # kda features\n",
    "    kda_d_kills = pd.Series(0, index = df_features.index)\n",
    "    kda_d_assists = pd.Series(0, index = df_features.index)\n",
    "    kda_d_deaths = pd.Series(0, index = df_features.index)\n",
    "    for i in range(1,6):\n",
    "        kda_d_kills += df_features[f'd{i}_kills']\n",
    "        kda_d_assists += df_features[f'd{i}_assists']\n",
    "        kda_d_deaths += df_features[f'd{i}_deaths']\n",
    "\n",
    "    kda_d_cum = (kda_d_kills+kda_d_assists)/kda_d_deaths.replace({0:1})\n",
    "    df_features['kda_d_cum'] = kda_d_cum\n",
    "\n",
    "    kda_r_kills = pd.Series(0, index = df_features.index)\n",
    "    kda_r_assists = pd.Series(0, index = df_features.index)\n",
    "    kda_r_deaths = pd.Series(0, index = df_features.index)\n",
    "    for i in range(1,6):\n",
    "        kda_r_kills += df_features[f'r{i}_kills']\n",
    "        kda_r_assists += df_features[f'r{i}_assists']\n",
    "        kda_r_deaths += df_features[f'r{i}_deaths']\n",
    "\n",
    "    kda_r_cum = (kda_r_kills+kda_r_assists)/kda_r_deaths.replace({0:1})\n",
    "    df_features['kda_r_cum'] = kda_r_cum\n",
    "\n",
    "    df_features['kda_norm_diff'] = ((kda_r_cum-kda_d_cum)/(kda_r_cum+kda_d_cum)).fillna(0)"
   ]
  },
  {
   "cell_type": "code",
   "execution_count": 145,
   "id": "dfedf725",
   "metadata": {
    "ExecuteTime": {
     "end_time": "2023-04-10T16:40:52.879347Z",
     "start_time": "2023-04-10T16:36:20.299219Z"
    },
    "execution": {
     "iopub.execute_input": "2022-02-13T23:29:35.500607Z",
     "iopub.status.busy": "2022-02-13T23:29:35.499947Z",
     "iopub.status.idle": "2022-02-13T23:31:15.695377Z",
     "shell.execute_reply": "2022-02-13T23:31:15.695887Z",
     "shell.execute_reply.started": "2022-02-13T22:58:02.081870Z"
    },
    "papermill": {
     "duration": 100.250385,
     "end_time": "2022-02-13T23:31:15.696073",
     "exception": false,
     "start_time": "2022-02-13T23:29:35.445688",
     "status": "completed"
    },
    "tags": []
   },
   "outputs": [
    {
     "data": {
      "application/vnd.jupyter.widget-view+json": {
       "model_id": "1ef65384c6774208a182c9f4d913c391",
       "version_major": 2,
       "version_minor": 0
      },
      "text/plain": [
       "  0%|          | 0/31698 [00:00<?, ?it/s]"
      ]
     },
     "metadata": {},
     "output_type": "display_data"
    }
   ],
   "source": [
    "# Скопируем таблицу с признаками\n",
    "df_train_features_extended = df_train_features.copy()\n",
    "\n",
    "# Добавим новые\n",
    "add_new_features(df_train_features_extended, \n",
    "                 os.path.join(PATH_TO_DATA, \n",
    "                              \"train_raw_data.jsonl\"))"
   ]
  },
  {
   "cell_type": "code",
   "execution_count": 26,
   "id": "99edce05",
   "metadata": {
    "ExecuteTime": {
     "end_time": "2023-04-09T22:09:25.117400Z",
     "start_time": "2023-04-09T22:09:25.091107Z"
    },
    "execution": {
     "iopub.execute_input": "2022-02-13T23:31:15.806982Z",
     "iopub.status.busy": "2022-02-13T23:31:15.805915Z",
     "iopub.status.idle": "2022-02-13T23:31:15.829554Z",
     "shell.execute_reply": "2022-02-13T23:31:15.830087Z",
     "shell.execute_reply.started": "2022-02-13T23:00:24.658661Z"
    },
    "papermill": {
     "duration": 0.08167,
     "end_time": "2022-02-13T23:31:15.830290",
     "exception": false,
     "start_time": "2022-02-13T23:31:15.748620",
     "status": "completed"
    },
    "tags": []
   },
   "outputs": [
    {
     "data": {
      "text/html": [
       "<div>\n",
       "<style scoped>\n",
       "    .dataframe tbody tr th:only-of-type {\n",
       "        vertical-align: middle;\n",
       "    }\n",
       "\n",
       "    .dataframe tbody tr th {\n",
       "        vertical-align: top;\n",
       "    }\n",
       "\n",
       "    .dataframe thead th {\n",
       "        text-align: right;\n",
       "    }\n",
       "</style>\n",
       "<table border=\"1\" class=\"dataframe\">\n",
       "  <thead>\n",
       "    <tr style=\"text-align: right;\">\n",
       "      <th></th>\n",
       "      <th>game_time</th>\n",
       "      <th>game_mode</th>\n",
       "      <th>lobby_type</th>\n",
       "      <th>objectives_len</th>\n",
       "      <th>chat_len</th>\n",
       "      <th>r1_hero_id</th>\n",
       "      <th>r1_kills</th>\n",
       "      <th>r1_deaths</th>\n",
       "      <th>r1_assists</th>\n",
       "      <th>r1_denies</th>\n",
       "      <th>...</th>\n",
       "      <th>d5_rune_pickups</th>\n",
       "      <th>d5_firstblood_claimed</th>\n",
       "      <th>d5_teamfight_participation</th>\n",
       "      <th>d5_towers_killed</th>\n",
       "      <th>d5_roshans_killed</th>\n",
       "      <th>d5_obs_placed</th>\n",
       "      <th>d5_sen_placed</th>\n",
       "      <th>radiant_tower_kills</th>\n",
       "      <th>dire_tower_kills</th>\n",
       "      <th>diff_tower_kills</th>\n",
       "    </tr>\n",
       "    <tr>\n",
       "      <th>match_id_hash</th>\n",
       "      <th></th>\n",
       "      <th></th>\n",
       "      <th></th>\n",
       "      <th></th>\n",
       "      <th></th>\n",
       "      <th></th>\n",
       "      <th></th>\n",
       "      <th></th>\n",
       "      <th></th>\n",
       "      <th></th>\n",
       "      <th></th>\n",
       "      <th></th>\n",
       "      <th></th>\n",
       "      <th></th>\n",
       "      <th></th>\n",
       "      <th></th>\n",
       "      <th></th>\n",
       "      <th></th>\n",
       "      <th></th>\n",
       "      <th></th>\n",
       "      <th></th>\n",
       "    </tr>\n",
       "  </thead>\n",
       "  <tbody>\n",
       "    <tr>\n",
       "      <th>b9c57c450ce74a2af79c9ce96fac144d</th>\n",
       "      <td>658</td>\n",
       "      <td>4</td>\n",
       "      <td>0</td>\n",
       "      <td>3</td>\n",
       "      <td>10</td>\n",
       "      <td>15</td>\n",
       "      <td>7</td>\n",
       "      <td>2</td>\n",
       "      <td>0</td>\n",
       "      <td>7</td>\n",
       "      <td>...</td>\n",
       "      <td>0</td>\n",
       "      <td>0</td>\n",
       "      <td>0.00</td>\n",
       "      <td>0</td>\n",
       "      <td>0</td>\n",
       "      <td>0</td>\n",
       "      <td>0</td>\n",
       "      <td>2.0</td>\n",
       "      <td>0.0</td>\n",
       "      <td>2.0</td>\n",
       "    </tr>\n",
       "    <tr>\n",
       "      <th>6db558535151ea18ca70a6892197db41</th>\n",
       "      <td>21</td>\n",
       "      <td>23</td>\n",
       "      <td>0</td>\n",
       "      <td>0</td>\n",
       "      <td>0</td>\n",
       "      <td>101</td>\n",
       "      <td>0</td>\n",
       "      <td>0</td>\n",
       "      <td>0</td>\n",
       "      <td>0</td>\n",
       "      <td>...</td>\n",
       "      <td>0</td>\n",
       "      <td>0</td>\n",
       "      <td>0.00</td>\n",
       "      <td>0</td>\n",
       "      <td>0</td>\n",
       "      <td>0</td>\n",
       "      <td>0</td>\n",
       "      <td>0.0</td>\n",
       "      <td>0.0</td>\n",
       "      <td>0.0</td>\n",
       "    </tr>\n",
       "    <tr>\n",
       "      <th>19c39fe2af2b547e48708ca005c6ae74</th>\n",
       "      <td>160</td>\n",
       "      <td>22</td>\n",
       "      <td>7</td>\n",
       "      <td>0</td>\n",
       "      <td>0</td>\n",
       "      <td>57</td>\n",
       "      <td>0</td>\n",
       "      <td>0</td>\n",
       "      <td>0</td>\n",
       "      <td>1</td>\n",
       "      <td>...</td>\n",
       "      <td>0</td>\n",
       "      <td>0</td>\n",
       "      <td>0.00</td>\n",
       "      <td>0</td>\n",
       "      <td>0</td>\n",
       "      <td>0</td>\n",
       "      <td>0</td>\n",
       "      <td>0.0</td>\n",
       "      <td>0.0</td>\n",
       "      <td>0.0</td>\n",
       "    </tr>\n",
       "    <tr>\n",
       "      <th>c96d629dc0c39f0c616d1949938a6ba6</th>\n",
       "      <td>1016</td>\n",
       "      <td>22</td>\n",
       "      <td>0</td>\n",
       "      <td>1</td>\n",
       "      <td>0</td>\n",
       "      <td>119</td>\n",
       "      <td>0</td>\n",
       "      <td>3</td>\n",
       "      <td>3</td>\n",
       "      <td>5</td>\n",
       "      <td>...</td>\n",
       "      <td>3</td>\n",
       "      <td>0</td>\n",
       "      <td>0.25</td>\n",
       "      <td>0</td>\n",
       "      <td>0</td>\n",
       "      <td>3</td>\n",
       "      <td>0</td>\n",
       "      <td>0.0</td>\n",
       "      <td>0.0</td>\n",
       "      <td>0.0</td>\n",
       "    </tr>\n",
       "    <tr>\n",
       "      <th>156c88bff4e9c4668b0f53df3d870f1b</th>\n",
       "      <td>582</td>\n",
       "      <td>22</td>\n",
       "      <td>7</td>\n",
       "      <td>2</td>\n",
       "      <td>2</td>\n",
       "      <td>12</td>\n",
       "      <td>3</td>\n",
       "      <td>1</td>\n",
       "      <td>2</td>\n",
       "      <td>9</td>\n",
       "      <td>...</td>\n",
       "      <td>0</td>\n",
       "      <td>1</td>\n",
       "      <td>0.50</td>\n",
       "      <td>0</td>\n",
       "      <td>0</td>\n",
       "      <td>3</td>\n",
       "      <td>0</td>\n",
       "      <td>0.0</td>\n",
       "      <td>1.0</td>\n",
       "      <td>-1.0</td>\n",
       "    </tr>\n",
       "  </tbody>\n",
       "</table>\n",
       "<p>5 rows × 248 columns</p>\n",
       "</div>"
      ],
      "text/plain": [
       "                                  game_time  game_mode  lobby_type  \\\n",
       "match_id_hash                                                        \n",
       "b9c57c450ce74a2af79c9ce96fac144d        658          4           0   \n",
       "6db558535151ea18ca70a6892197db41         21         23           0   \n",
       "19c39fe2af2b547e48708ca005c6ae74        160         22           7   \n",
       "c96d629dc0c39f0c616d1949938a6ba6       1016         22           0   \n",
       "156c88bff4e9c4668b0f53df3d870f1b        582         22           7   \n",
       "\n",
       "                                  objectives_len  chat_len  r1_hero_id  \\\n",
       "match_id_hash                                                            \n",
       "b9c57c450ce74a2af79c9ce96fac144d               3        10          15   \n",
       "6db558535151ea18ca70a6892197db41               0         0         101   \n",
       "19c39fe2af2b547e48708ca005c6ae74               0         0          57   \n",
       "c96d629dc0c39f0c616d1949938a6ba6               1         0         119   \n",
       "156c88bff4e9c4668b0f53df3d870f1b               2         2          12   \n",
       "\n",
       "                                  r1_kills  r1_deaths  r1_assists  r1_denies  \\\n",
       "match_id_hash                                                                  \n",
       "b9c57c450ce74a2af79c9ce96fac144d         7          2           0          7   \n",
       "6db558535151ea18ca70a6892197db41         0          0           0          0   \n",
       "19c39fe2af2b547e48708ca005c6ae74         0          0           0          1   \n",
       "c96d629dc0c39f0c616d1949938a6ba6         0          3           3          5   \n",
       "156c88bff4e9c4668b0f53df3d870f1b         3          1           2          9   \n",
       "\n",
       "                                  ...  d5_rune_pickups  d5_firstblood_claimed  \\\n",
       "match_id_hash                     ...                                           \n",
       "b9c57c450ce74a2af79c9ce96fac144d  ...                0                      0   \n",
       "6db558535151ea18ca70a6892197db41  ...                0                      0   \n",
       "19c39fe2af2b547e48708ca005c6ae74  ...                0                      0   \n",
       "c96d629dc0c39f0c616d1949938a6ba6  ...                3                      0   \n",
       "156c88bff4e9c4668b0f53df3d870f1b  ...                0                      1   \n",
       "\n",
       "                                  d5_teamfight_participation  \\\n",
       "match_id_hash                                                  \n",
       "b9c57c450ce74a2af79c9ce96fac144d                        0.00   \n",
       "6db558535151ea18ca70a6892197db41                        0.00   \n",
       "19c39fe2af2b547e48708ca005c6ae74                        0.00   \n",
       "c96d629dc0c39f0c616d1949938a6ba6                        0.25   \n",
       "156c88bff4e9c4668b0f53df3d870f1b                        0.50   \n",
       "\n",
       "                                  d5_towers_killed  d5_roshans_killed  \\\n",
       "match_id_hash                                                           \n",
       "b9c57c450ce74a2af79c9ce96fac144d                 0                  0   \n",
       "6db558535151ea18ca70a6892197db41                 0                  0   \n",
       "19c39fe2af2b547e48708ca005c6ae74                 0                  0   \n",
       "c96d629dc0c39f0c616d1949938a6ba6                 0                  0   \n",
       "156c88bff4e9c4668b0f53df3d870f1b                 0                  0   \n",
       "\n",
       "                                  d5_obs_placed  d5_sen_placed  \\\n",
       "match_id_hash                                                    \n",
       "b9c57c450ce74a2af79c9ce96fac144d              0              0   \n",
       "6db558535151ea18ca70a6892197db41              0              0   \n",
       "19c39fe2af2b547e48708ca005c6ae74              0              0   \n",
       "c96d629dc0c39f0c616d1949938a6ba6              3              0   \n",
       "156c88bff4e9c4668b0f53df3d870f1b              3              0   \n",
       "\n",
       "                                  radiant_tower_kills  dire_tower_kills  \\\n",
       "match_id_hash                                                             \n",
       "b9c57c450ce74a2af79c9ce96fac144d                  2.0               0.0   \n",
       "6db558535151ea18ca70a6892197db41                  0.0               0.0   \n",
       "19c39fe2af2b547e48708ca005c6ae74                  0.0               0.0   \n",
       "c96d629dc0c39f0c616d1949938a6ba6                  0.0               0.0   \n",
       "156c88bff4e9c4668b0f53df3d870f1b                  0.0               1.0   \n",
       "\n",
       "                                  diff_tower_kills  \n",
       "match_id_hash                                       \n",
       "b9c57c450ce74a2af79c9ce96fac144d               2.0  \n",
       "6db558535151ea18ca70a6892197db41               0.0  \n",
       "19c39fe2af2b547e48708ca005c6ae74               0.0  \n",
       "c96d629dc0c39f0c616d1949938a6ba6               0.0  \n",
       "156c88bff4e9c4668b0f53df3d870f1b              -1.0  \n",
       "\n",
       "[5 rows x 248 columns]"
      ]
     },
     "execution_count": 26,
     "metadata": {},
     "output_type": "execute_result"
    }
   ],
   "source": [
    "df_train_features_extended.head()"
   ]
  },
  {
   "cell_type": "code",
   "execution_count": 27,
   "id": "c20e77b3",
   "metadata": {
    "ExecuteTime": {
     "end_time": "2023-04-09T22:09:36.845044Z",
     "start_time": "2023-04-09T22:09:26.601682Z"
    },
    "execution": {
     "iopub.execute_input": "2022-02-13T23:31:15.940354Z",
     "iopub.status.busy": "2022-02-13T23:31:15.939295Z",
     "iopub.status.idle": "2022-02-13T23:32:55.255752Z",
     "shell.execute_reply": "2022-02-13T23:32:55.256364Z",
     "shell.execute_reply.started": "2022-02-13T23:00:39.716567Z"
    },
    "papermill": {
     "duration": 99.37327,
     "end_time": "2022-02-13T23:32:55.256572",
     "exception": false,
     "start_time": "2022-02-13T23:31:15.883302",
     "status": "completed"
    },
    "tags": []
   },
   "outputs": [
    {
     "name": "stdout",
     "output_type": "stream",
     "text": [
      "CPU times: user 94.6 ms, sys: 89.2 ms, total: 184 ms\n",
      "Wall time: 10.2 s\n"
     ]
    }
   ],
   "source": [
    "%%time\n",
    "cv_scores_base = cross_val_score(rf_model, X, y, cv=cv, scoring=\"roc_auc\", n_jobs=-1)\n",
    "cv_scores_extended = cross_val_score(rf_model, df_train_features_extended.values, y, \n",
    "                                     cv=cv, scoring=\"roc_auc\", n_jobs=-1)"
   ]
  },
  {
   "cell_type": "code",
   "execution_count": 28,
   "id": "8d9bb9f6",
   "metadata": {
    "ExecuteTime": {
     "end_time": "2023-04-09T22:09:38.619235Z",
     "start_time": "2023-04-09T22:09:38.610488Z"
    },
    "execution": {
     "iopub.execute_input": "2022-02-13T23:32:55.369159Z",
     "iopub.status.busy": "2022-02-13T23:32:55.368145Z",
     "iopub.status.idle": "2022-02-13T23:32:55.371820Z",
     "shell.execute_reply": "2022-02-13T23:32:55.372356Z",
     "shell.execute_reply.started": "2022-02-13T23:02:14.824997Z"
    },
    "papermill": {
     "duration": 0.062721,
     "end_time": "2022-02-13T23:32:55.372536",
     "exception": false,
     "start_time": "2022-02-13T23:32:55.309815",
     "status": "completed"
    },
    "tags": []
   },
   "outputs": [
    {
     "name": "stdout",
     "output_type": "stream",
     "text": [
      "ROC-AUC на кросс-валидации для базовых признаков: 0.7720210676055513\n",
      "ROC-AUC на кросс-валидации для новых признаков: 0.778796825263235\n"
     ]
    }
   ],
   "source": [
    "print(f\"ROC-AUC на кросс-валидации для базовых признаков: {cv_scores_base.mean()}\")\n",
    "print(f\"ROC-AUC на кросс-валидации для новых признаков: {cv_scores_extended.mean()}\")"
   ]
  },
  {
   "cell_type": "markdown",
   "id": "1d649aba",
   "metadata": {
    "papermill": {
     "duration": 0.053505,
     "end_time": "2022-02-13T23:32:55.479766",
     "exception": false,
     "start_time": "2022-02-13T23:32:55.426261",
     "status": "completed"
    },
    "tags": []
   },
   "source": [
    "Видно, что случайный лес стал работать немного лучше при добавлении новых признаков. A еще нужно, наверное, как-то по-умному закодировать категориальные признаки."
   ]
  },
  {
   "cell_type": "markdown",
   "id": "bd85d17d",
   "metadata": {
    "papermill": {
     "duration": 0.053776,
     "end_time": "2022-02-13T23:32:55.587047",
     "exception": false,
     "start_time": "2022-02-13T23:32:55.533271",
     "status": "completed"
    },
    "tags": []
   },
   "source": [
    "Дальше дело за малым. Добавляйте новые признаки, пробуйте другие методы, которые мы изучили, а также что-то интересное, что мы не прошли. Удачи!"
   ]
  },
  {
   "cell_type": "markdown",
   "id": "222bd1d6",
   "metadata": {},
   "source": [
    "### lightgbm"
   ]
  },
  {
   "cell_type": "code",
   "execution_count": 29,
   "id": "94ad33ad",
   "metadata": {
    "ExecuteTime": {
     "end_time": "2023-04-09T22:18:43.186255Z",
     "start_time": "2023-04-09T22:18:43.141730Z"
    }
   },
   "outputs": [],
   "source": [
    "#попробуем использовать другую модель классификатора\n",
    "\n",
    "import lightgbm\n",
    "lgbm = lightgbm.LGBMClassifier(random_state=SEED)"
   ]
  },
  {
   "cell_type": "code",
   "execution_count": 30,
   "id": "c9071670",
   "metadata": {
    "ExecuteTime": {
     "end_time": "2023-04-09T22:19:39.932655Z",
     "start_time": "2023-04-09T22:19:33.211643Z"
    }
   },
   "outputs": [],
   "source": [
    "cv_scores_extended = cross_val_score(lgbm, df_train_features_extended.values, y, \n",
    "                                     cv=cv, scoring=\"roc_auc\", n_jobs=30)"
   ]
  },
  {
   "cell_type": "code",
   "execution_count": 31,
   "id": "055f9a64",
   "metadata": {
    "ExecuteTime": {
     "end_time": "2023-04-09T22:20:26.154796Z",
     "start_time": "2023-04-09T22:20:26.147422Z"
    },
    "scrolled": false
   },
   "outputs": [
    {
     "name": "stdout",
     "output_type": "stream",
     "text": [
      "ROC-AUC на кросс-валидации для новых признаков: 0.7929817434119115\n"
     ]
    }
   ],
   "source": [
    "print(f\"ROC-AUC на кросс-валидации для новых признаков: {cv_scores_extended.mean()}\")"
   ]
  },
  {
   "cell_type": "markdown",
   "id": "a8768502",
   "metadata": {},
   "source": [
    "### KDA"
   ]
  },
  {
   "cell_type": "code",
   "execution_count": 45,
   "id": "9384ace3",
   "metadata": {
    "ExecuteTime": {
     "end_time": "2023-04-09T22:43:33.338890Z",
     "start_time": "2023-04-09T22:43:33.325491Z"
    }
   },
   "outputs": [
    {
     "data": {
      "text/plain": [
       "['game_time',\n",
       " 'game_mode',\n",
       " 'lobby_type',\n",
       " 'objectives_len',\n",
       " 'chat_len',\n",
       " 'r1_hero_id',\n",
       " 'r1_kills',\n",
       " 'r1_deaths',\n",
       " 'r1_assists',\n",
       " 'r1_denies',\n",
       " 'r1_gold',\n",
       " 'r1_lh',\n",
       " 'r1_xp',\n",
       " 'r1_health',\n",
       " 'r1_max_health',\n",
       " 'r1_max_mana',\n",
       " 'r1_level',\n",
       " 'r1_x',\n",
       " 'r1_y',\n",
       " 'r1_stuns',\n",
       " 'r1_creeps_stacked',\n",
       " 'r1_camps_stacked',\n",
       " 'r1_rune_pickups',\n",
       " 'r1_firstblood_claimed',\n",
       " 'r1_teamfight_participation',\n",
       " 'r1_towers_killed',\n",
       " 'r1_roshans_killed',\n",
       " 'r1_obs_placed',\n",
       " 'r1_sen_placed',\n",
       " 'r2_hero_id',\n",
       " 'r2_kills',\n",
       " 'r2_deaths',\n",
       " 'r2_assists',\n",
       " 'r2_denies',\n",
       " 'r2_gold',\n",
       " 'r2_lh',\n",
       " 'r2_xp',\n",
       " 'r2_health',\n",
       " 'r2_max_health',\n",
       " 'r2_max_mana',\n",
       " 'r2_level',\n",
       " 'r2_x',\n",
       " 'r2_y',\n",
       " 'r2_stuns',\n",
       " 'r2_creeps_stacked',\n",
       " 'r2_camps_stacked',\n",
       " 'r2_rune_pickups',\n",
       " 'r2_firstblood_claimed',\n",
       " 'r2_teamfight_participation',\n",
       " 'r2_towers_killed',\n",
       " 'r2_roshans_killed',\n",
       " 'r2_obs_placed',\n",
       " 'r2_sen_placed',\n",
       " 'r3_hero_id',\n",
       " 'r3_kills',\n",
       " 'r3_deaths',\n",
       " 'r3_assists',\n",
       " 'r3_denies',\n",
       " 'r3_gold',\n",
       " 'r3_lh',\n",
       " 'r3_xp',\n",
       " 'r3_health',\n",
       " 'r3_max_health',\n",
       " 'r3_max_mana',\n",
       " 'r3_level',\n",
       " 'r3_x',\n",
       " 'r3_y',\n",
       " 'r3_stuns',\n",
       " 'r3_creeps_stacked',\n",
       " 'r3_camps_stacked',\n",
       " 'r3_rune_pickups',\n",
       " 'r3_firstblood_claimed',\n",
       " 'r3_teamfight_participation',\n",
       " 'r3_towers_killed',\n",
       " 'r3_roshans_killed',\n",
       " 'r3_obs_placed',\n",
       " 'r3_sen_placed',\n",
       " 'r4_hero_id',\n",
       " 'r4_kills',\n",
       " 'r4_deaths',\n",
       " 'r4_assists',\n",
       " 'r4_denies',\n",
       " 'r4_gold',\n",
       " 'r4_lh',\n",
       " 'r4_xp',\n",
       " 'r4_health',\n",
       " 'r4_max_health',\n",
       " 'r4_max_mana',\n",
       " 'r4_level',\n",
       " 'r4_x',\n",
       " 'r4_y',\n",
       " 'r4_stuns',\n",
       " 'r4_creeps_stacked',\n",
       " 'r4_camps_stacked',\n",
       " 'r4_rune_pickups',\n",
       " 'r4_firstblood_claimed',\n",
       " 'r4_teamfight_participation',\n",
       " 'r4_towers_killed',\n",
       " 'r4_roshans_killed',\n",
       " 'r4_obs_placed',\n",
       " 'r4_sen_placed',\n",
       " 'r5_hero_id',\n",
       " 'r5_kills',\n",
       " 'r5_deaths',\n",
       " 'r5_assists',\n",
       " 'r5_denies',\n",
       " 'r5_gold',\n",
       " 'r5_lh',\n",
       " 'r5_xp',\n",
       " 'r5_health',\n",
       " 'r5_max_health',\n",
       " 'r5_max_mana',\n",
       " 'r5_level',\n",
       " 'r5_x',\n",
       " 'r5_y',\n",
       " 'r5_stuns',\n",
       " 'r5_creeps_stacked',\n",
       " 'r5_camps_stacked',\n",
       " 'r5_rune_pickups',\n",
       " 'r5_firstblood_claimed',\n",
       " 'r5_teamfight_participation',\n",
       " 'r5_towers_killed',\n",
       " 'r5_roshans_killed',\n",
       " 'r5_obs_placed',\n",
       " 'r5_sen_placed',\n",
       " 'd1_hero_id',\n",
       " 'd1_kills',\n",
       " 'd1_deaths',\n",
       " 'd1_assists',\n",
       " 'd1_denies',\n",
       " 'd1_gold',\n",
       " 'd1_lh',\n",
       " 'd1_xp',\n",
       " 'd1_health',\n",
       " 'd1_max_health',\n",
       " 'd1_max_mana',\n",
       " 'd1_level',\n",
       " 'd1_x',\n",
       " 'd1_y',\n",
       " 'd1_stuns',\n",
       " 'd1_creeps_stacked',\n",
       " 'd1_camps_stacked',\n",
       " 'd1_rune_pickups',\n",
       " 'd1_firstblood_claimed',\n",
       " 'd1_teamfight_participation',\n",
       " 'd1_towers_killed',\n",
       " 'd1_roshans_killed',\n",
       " 'd1_obs_placed',\n",
       " 'd1_sen_placed',\n",
       " 'd2_hero_id',\n",
       " 'd2_kills',\n",
       " 'd2_deaths',\n",
       " 'd2_assists',\n",
       " 'd2_denies',\n",
       " 'd2_gold',\n",
       " 'd2_lh',\n",
       " 'd2_xp',\n",
       " 'd2_health',\n",
       " 'd2_max_health',\n",
       " 'd2_max_mana',\n",
       " 'd2_level',\n",
       " 'd2_x',\n",
       " 'd2_y',\n",
       " 'd2_stuns',\n",
       " 'd2_creeps_stacked',\n",
       " 'd2_camps_stacked',\n",
       " 'd2_rune_pickups',\n",
       " 'd2_firstblood_claimed',\n",
       " 'd2_teamfight_participation',\n",
       " 'd2_towers_killed',\n",
       " 'd2_roshans_killed',\n",
       " 'd2_obs_placed',\n",
       " 'd2_sen_placed',\n",
       " 'd3_hero_id',\n",
       " 'd3_kills',\n",
       " 'd3_deaths',\n",
       " 'd3_assists',\n",
       " 'd3_denies',\n",
       " 'd3_gold',\n",
       " 'd3_lh',\n",
       " 'd3_xp',\n",
       " 'd3_health',\n",
       " 'd3_max_health',\n",
       " 'd3_max_mana',\n",
       " 'd3_level',\n",
       " 'd3_x',\n",
       " 'd3_y',\n",
       " 'd3_stuns',\n",
       " 'd3_creeps_stacked',\n",
       " 'd3_camps_stacked',\n",
       " 'd3_rune_pickups',\n",
       " 'd3_firstblood_claimed',\n",
       " 'd3_teamfight_participation',\n",
       " 'd3_towers_killed',\n",
       " 'd3_roshans_killed',\n",
       " 'd3_obs_placed',\n",
       " 'd3_sen_placed',\n",
       " 'd4_hero_id',\n",
       " 'd4_kills',\n",
       " 'd4_deaths',\n",
       " 'd4_assists',\n",
       " 'd4_denies',\n",
       " 'd4_gold',\n",
       " 'd4_lh',\n",
       " 'd4_xp',\n",
       " 'd4_health',\n",
       " 'd4_max_health',\n",
       " 'd4_max_mana',\n",
       " 'd4_level',\n",
       " 'd4_x',\n",
       " 'd4_y',\n",
       " 'd4_stuns',\n",
       " 'd4_creeps_stacked',\n",
       " 'd4_camps_stacked',\n",
       " 'd4_rune_pickups',\n",
       " 'd4_firstblood_claimed',\n",
       " 'd4_teamfight_participation',\n",
       " 'd4_towers_killed',\n",
       " 'd4_roshans_killed',\n",
       " 'd4_obs_placed',\n",
       " 'd4_sen_placed',\n",
       " 'd5_hero_id',\n",
       " 'd5_kills',\n",
       " 'd5_deaths',\n",
       " 'd5_assists',\n",
       " 'd5_denies',\n",
       " 'd5_gold',\n",
       " 'd5_lh',\n",
       " 'd5_xp',\n",
       " 'd5_health',\n",
       " 'd5_max_health',\n",
       " 'd5_max_mana',\n",
       " 'd5_level',\n",
       " 'd5_x',\n",
       " 'd5_y',\n",
       " 'd5_stuns',\n",
       " 'd5_creeps_stacked',\n",
       " 'd5_camps_stacked',\n",
       " 'd5_rune_pickups',\n",
       " 'd5_firstblood_claimed',\n",
       " 'd5_teamfight_participation',\n",
       " 'd5_towers_killed',\n",
       " 'd5_roshans_killed',\n",
       " 'd5_obs_placed',\n",
       " 'd5_sen_placed',\n",
       " 'radiant_tower_kills',\n",
       " 'dire_tower_kills',\n",
       " 'diff_tower_kills']"
      ]
     },
     "execution_count": 45,
     "metadata": {},
     "output_type": "execute_result"
    }
   ],
   "source": [
    "df_train_features_extended.columns.to_list()"
   ]
  },
  {
   "cell_type": "code",
   "execution_count": 129,
   "id": "a49a5365",
   "metadata": {
    "ExecuteTime": {
     "end_time": "2023-04-10T16:19:24.701302Z",
     "start_time": "2023-04-10T16:19:24.624387Z"
    }
   },
   "outputs": [
    {
     "data": {
      "text/html": [
       "<div>\n",
       "<style scoped>\n",
       "    .dataframe tbody tr th:only-of-type {\n",
       "        vertical-align: middle;\n",
       "    }\n",
       "\n",
       "    .dataframe tbody tr th {\n",
       "        vertical-align: top;\n",
       "    }\n",
       "\n",
       "    .dataframe thead th {\n",
       "        text-align: right;\n",
       "    }\n",
       "</style>\n",
       "<table border=\"1\" class=\"dataframe\">\n",
       "  <thead>\n",
       "    <tr style=\"text-align: right;\">\n",
       "      <th></th>\n",
       "      <th>game_time</th>\n",
       "      <th>game_mode</th>\n",
       "      <th>lobby_type</th>\n",
       "      <th>objectives_len</th>\n",
       "      <th>chat_len</th>\n",
       "      <th>r1_hero_id</th>\n",
       "      <th>r1_kills</th>\n",
       "      <th>r1_deaths</th>\n",
       "      <th>r1_assists</th>\n",
       "      <th>r1_denies</th>\n",
       "      <th>...</th>\n",
       "      <th>d5_towers_killed</th>\n",
       "      <th>d5_roshans_killed</th>\n",
       "      <th>d5_obs_placed</th>\n",
       "      <th>d5_sen_placed</th>\n",
       "      <th>radiant_tower_kills</th>\n",
       "      <th>dire_tower_kills</th>\n",
       "      <th>diff_tower_kills</th>\n",
       "      <th>kda_d_cum</th>\n",
       "      <th>kda_r_cum</th>\n",
       "      <th>kda_norm_diff</th>\n",
       "    </tr>\n",
       "    <tr>\n",
       "      <th>match_id_hash</th>\n",
       "      <th></th>\n",
       "      <th></th>\n",
       "      <th></th>\n",
       "      <th></th>\n",
       "      <th></th>\n",
       "      <th></th>\n",
       "      <th></th>\n",
       "      <th></th>\n",
       "      <th></th>\n",
       "      <th></th>\n",
       "      <th></th>\n",
       "      <th></th>\n",
       "      <th></th>\n",
       "      <th></th>\n",
       "      <th></th>\n",
       "      <th></th>\n",
       "      <th></th>\n",
       "      <th></th>\n",
       "      <th></th>\n",
       "      <th></th>\n",
       "      <th></th>\n",
       "    </tr>\n",
       "  </thead>\n",
       "  <tbody>\n",
       "    <tr>\n",
       "      <th>b9c57c450ce74a2af79c9ce96fac144d</th>\n",
       "      <td>658</td>\n",
       "      <td>4</td>\n",
       "      <td>0</td>\n",
       "      <td>3</td>\n",
       "      <td>10</td>\n",
       "      <td>15</td>\n",
       "      <td>7</td>\n",
       "      <td>2</td>\n",
       "      <td>0</td>\n",
       "      <td>7</td>\n",
       "      <td>...</td>\n",
       "      <td>0</td>\n",
       "      <td>0</td>\n",
       "      <td>0</td>\n",
       "      <td>0</td>\n",
       "      <td>2.0</td>\n",
       "      <td>0.0</td>\n",
       "      <td>2.0</td>\n",
       "      <td>0.375000</td>\n",
       "      <td>7.500000</td>\n",
       "      <td>0.904762</td>\n",
       "    </tr>\n",
       "    <tr>\n",
       "      <th>6db558535151ea18ca70a6892197db41</th>\n",
       "      <td>21</td>\n",
       "      <td>23</td>\n",
       "      <td>0</td>\n",
       "      <td>0</td>\n",
       "      <td>0</td>\n",
       "      <td>101</td>\n",
       "      <td>0</td>\n",
       "      <td>0</td>\n",
       "      <td>0</td>\n",
       "      <td>0</td>\n",
       "      <td>...</td>\n",
       "      <td>0</td>\n",
       "      <td>0</td>\n",
       "      <td>0</td>\n",
       "      <td>0</td>\n",
       "      <td>0.0</td>\n",
       "      <td>0.0</td>\n",
       "      <td>0.0</td>\n",
       "      <td>0.000000</td>\n",
       "      <td>0.000000</td>\n",
       "      <td>0.000000</td>\n",
       "    </tr>\n",
       "    <tr>\n",
       "      <th>19c39fe2af2b547e48708ca005c6ae74</th>\n",
       "      <td>160</td>\n",
       "      <td>22</td>\n",
       "      <td>7</td>\n",
       "      <td>0</td>\n",
       "      <td>0</td>\n",
       "      <td>57</td>\n",
       "      <td>0</td>\n",
       "      <td>0</td>\n",
       "      <td>0</td>\n",
       "      <td>1</td>\n",
       "      <td>...</td>\n",
       "      <td>0</td>\n",
       "      <td>0</td>\n",
       "      <td>0</td>\n",
       "      <td>0</td>\n",
       "      <td>0.0</td>\n",
       "      <td>0.0</td>\n",
       "      <td>0.0</td>\n",
       "      <td>0.000000</td>\n",
       "      <td>0.000000</td>\n",
       "      <td>0.000000</td>\n",
       "    </tr>\n",
       "    <tr>\n",
       "      <th>c96d629dc0c39f0c616d1949938a6ba6</th>\n",
       "      <td>1016</td>\n",
       "      <td>22</td>\n",
       "      <td>0</td>\n",
       "      <td>1</td>\n",
       "      <td>0</td>\n",
       "      <td>119</td>\n",
       "      <td>0</td>\n",
       "      <td>3</td>\n",
       "      <td>3</td>\n",
       "      <td>5</td>\n",
       "      <td>...</td>\n",
       "      <td>0</td>\n",
       "      <td>0</td>\n",
       "      <td>3</td>\n",
       "      <td>0</td>\n",
       "      <td>0.0</td>\n",
       "      <td>0.0</td>\n",
       "      <td>0.0</td>\n",
       "      <td>2.400000</td>\n",
       "      <td>1.750000</td>\n",
       "      <td>-0.156627</td>\n",
       "    </tr>\n",
       "    <tr>\n",
       "      <th>156c88bff4e9c4668b0f53df3d870f1b</th>\n",
       "      <td>582</td>\n",
       "      <td>22</td>\n",
       "      <td>7</td>\n",
       "      <td>2</td>\n",
       "      <td>2</td>\n",
       "      <td>12</td>\n",
       "      <td>3</td>\n",
       "      <td>1</td>\n",
       "      <td>2</td>\n",
       "      <td>9</td>\n",
       "      <td>...</td>\n",
       "      <td>0</td>\n",
       "      <td>0</td>\n",
       "      <td>3</td>\n",
       "      <td>0</td>\n",
       "      <td>0.0</td>\n",
       "      <td>1.0</td>\n",
       "      <td>-1.0</td>\n",
       "      <td>3.333333</td>\n",
       "      <td>1.300000</td>\n",
       "      <td>-0.438849</td>\n",
       "    </tr>\n",
       "    <tr>\n",
       "      <th>...</th>\n",
       "      <td>...</td>\n",
       "      <td>...</td>\n",
       "      <td>...</td>\n",
       "      <td>...</td>\n",
       "      <td>...</td>\n",
       "      <td>...</td>\n",
       "      <td>...</td>\n",
       "      <td>...</td>\n",
       "      <td>...</td>\n",
       "      <td>...</td>\n",
       "      <td>...</td>\n",
       "      <td>...</td>\n",
       "      <td>...</td>\n",
       "      <td>...</td>\n",
       "      <td>...</td>\n",
       "      <td>...</td>\n",
       "      <td>...</td>\n",
       "      <td>...</td>\n",
       "      <td>...</td>\n",
       "      <td>...</td>\n",
       "      <td>...</td>\n",
       "    </tr>\n",
       "    <tr>\n",
       "      <th>b794aa55646841a03c7783226e6f6bc8</th>\n",
       "      <td>2666</td>\n",
       "      <td>22</td>\n",
       "      <td>0</td>\n",
       "      <td>23</td>\n",
       "      <td>8</td>\n",
       "      <td>99</td>\n",
       "      <td>9</td>\n",
       "      <td>11</td>\n",
       "      <td>9</td>\n",
       "      <td>3</td>\n",
       "      <td>...</td>\n",
       "      <td>2</td>\n",
       "      <td>2</td>\n",
       "      <td>0</td>\n",
       "      <td>0</td>\n",
       "      <td>4.0</td>\n",
       "      <td>8.0</td>\n",
       "      <td>-4.0</td>\n",
       "      <td>3.647059</td>\n",
       "      <td>2.195122</td>\n",
       "      <td>-0.248527</td>\n",
       "    </tr>\n",
       "    <tr>\n",
       "      <th>308faee28efee2e66b39f9f2ba6ea9cf</th>\n",
       "      <td>2525</td>\n",
       "      <td>22</td>\n",
       "      <td>0</td>\n",
       "      <td>15</td>\n",
       "      <td>5</td>\n",
       "      <td>22</td>\n",
       "      <td>3</td>\n",
       "      <td>9</td>\n",
       "      <td>14</td>\n",
       "      <td>3</td>\n",
       "      <td>...</td>\n",
       "      <td>0</td>\n",
       "      <td>0</td>\n",
       "      <td>15</td>\n",
       "      <td>6</td>\n",
       "      <td>6.0</td>\n",
       "      <td>4.0</td>\n",
       "      <td>2.0</td>\n",
       "      <td>1.178571</td>\n",
       "      <td>3.315789</td>\n",
       "      <td>0.475533</td>\n",
       "    </tr>\n",
       "    <tr>\n",
       "      <th>6066cc7417b43c749d551e123d00f0c8</th>\n",
       "      <td>1002</td>\n",
       "      <td>4</td>\n",
       "      <td>0</td>\n",
       "      <td>4</td>\n",
       "      <td>0</td>\n",
       "      <td>1</td>\n",
       "      <td>1</td>\n",
       "      <td>2</td>\n",
       "      <td>1</td>\n",
       "      <td>0</td>\n",
       "      <td>...</td>\n",
       "      <td>0</td>\n",
       "      <td>0</td>\n",
       "      <td>0</td>\n",
       "      <td>0</td>\n",
       "      <td>2.0</td>\n",
       "      <td>1.0</td>\n",
       "      <td>1.0</td>\n",
       "      <td>6.428571</td>\n",
       "      <td>0.944444</td>\n",
       "      <td>-0.743811</td>\n",
       "    </tr>\n",
       "    <tr>\n",
       "      <th>bc7a87ed5f9c2bca55f9f7a93da0b0c5</th>\n",
       "      <td>377</td>\n",
       "      <td>22</td>\n",
       "      <td>7</td>\n",
       "      <td>1</td>\n",
       "      <td>0</td>\n",
       "      <td>14</td>\n",
       "      <td>0</td>\n",
       "      <td>2</td>\n",
       "      <td>1</td>\n",
       "      <td>1</td>\n",
       "      <td>...</td>\n",
       "      <td>0</td>\n",
       "      <td>0</td>\n",
       "      <td>0</td>\n",
       "      <td>0</td>\n",
       "      <td>0.0</td>\n",
       "      <td>0.0</td>\n",
       "      <td>0.0</td>\n",
       "      <td>1.500000</td>\n",
       "      <td>1.666667</td>\n",
       "      <td>0.052632</td>\n",
       "    </tr>\n",
       "    <tr>\n",
       "      <th>e2ca68ac1a6847f4a37f6c9c8ee8695b</th>\n",
       "      <td>643</td>\n",
       "      <td>22</td>\n",
       "      <td>7</td>\n",
       "      <td>1</td>\n",
       "      <td>23</td>\n",
       "      <td>63</td>\n",
       "      <td>1</td>\n",
       "      <td>4</td>\n",
       "      <td>0</td>\n",
       "      <td>2</td>\n",
       "      <td>...</td>\n",
       "      <td>0</td>\n",
       "      <td>0</td>\n",
       "      <td>1</td>\n",
       "      <td>0</td>\n",
       "      <td>0.0</td>\n",
       "      <td>0.0</td>\n",
       "      <td>0.0</td>\n",
       "      <td>7.250000</td>\n",
       "      <td>0.350000</td>\n",
       "      <td>-0.907895</td>\n",
       "    </tr>\n",
       "  </tbody>\n",
       "</table>\n",
       "<p>31698 rows × 251 columns</p>\n",
       "</div>"
      ],
      "text/plain": [
       "                                  game_time  game_mode  lobby_type  \\\n",
       "match_id_hash                                                        \n",
       "b9c57c450ce74a2af79c9ce96fac144d        658          4           0   \n",
       "6db558535151ea18ca70a6892197db41         21         23           0   \n",
       "19c39fe2af2b547e48708ca005c6ae74        160         22           7   \n",
       "c96d629dc0c39f0c616d1949938a6ba6       1016         22           0   \n",
       "156c88bff4e9c4668b0f53df3d870f1b        582         22           7   \n",
       "...                                     ...        ...         ...   \n",
       "b794aa55646841a03c7783226e6f6bc8       2666         22           0   \n",
       "308faee28efee2e66b39f9f2ba6ea9cf       2525         22           0   \n",
       "6066cc7417b43c749d551e123d00f0c8       1002          4           0   \n",
       "bc7a87ed5f9c2bca55f9f7a93da0b0c5        377         22           7   \n",
       "e2ca68ac1a6847f4a37f6c9c8ee8695b        643         22           7   \n",
       "\n",
       "                                  objectives_len  chat_len  r1_hero_id  \\\n",
       "match_id_hash                                                            \n",
       "b9c57c450ce74a2af79c9ce96fac144d               3        10          15   \n",
       "6db558535151ea18ca70a6892197db41               0         0         101   \n",
       "19c39fe2af2b547e48708ca005c6ae74               0         0          57   \n",
       "c96d629dc0c39f0c616d1949938a6ba6               1         0         119   \n",
       "156c88bff4e9c4668b0f53df3d870f1b               2         2          12   \n",
       "...                                          ...       ...         ...   \n",
       "b794aa55646841a03c7783226e6f6bc8              23         8          99   \n",
       "308faee28efee2e66b39f9f2ba6ea9cf              15         5          22   \n",
       "6066cc7417b43c749d551e123d00f0c8               4         0           1   \n",
       "bc7a87ed5f9c2bca55f9f7a93da0b0c5               1         0          14   \n",
       "e2ca68ac1a6847f4a37f6c9c8ee8695b               1        23          63   \n",
       "\n",
       "                                  r1_kills  r1_deaths  r1_assists  r1_denies  \\\n",
       "match_id_hash                                                                  \n",
       "b9c57c450ce74a2af79c9ce96fac144d         7          2           0          7   \n",
       "6db558535151ea18ca70a6892197db41         0          0           0          0   \n",
       "19c39fe2af2b547e48708ca005c6ae74         0          0           0          1   \n",
       "c96d629dc0c39f0c616d1949938a6ba6         0          3           3          5   \n",
       "156c88bff4e9c4668b0f53df3d870f1b         3          1           2          9   \n",
       "...                                    ...        ...         ...        ...   \n",
       "b794aa55646841a03c7783226e6f6bc8         9         11           9          3   \n",
       "308faee28efee2e66b39f9f2ba6ea9cf         3          9          14          3   \n",
       "6066cc7417b43c749d551e123d00f0c8         1          2           1          0   \n",
       "bc7a87ed5f9c2bca55f9f7a93da0b0c5         0          2           1          1   \n",
       "e2ca68ac1a6847f4a37f6c9c8ee8695b         1          4           0          2   \n",
       "\n",
       "                                  ...  d5_towers_killed  d5_roshans_killed  \\\n",
       "match_id_hash                     ...                                        \n",
       "b9c57c450ce74a2af79c9ce96fac144d  ...                 0                  0   \n",
       "6db558535151ea18ca70a6892197db41  ...                 0                  0   \n",
       "19c39fe2af2b547e48708ca005c6ae74  ...                 0                  0   \n",
       "c96d629dc0c39f0c616d1949938a6ba6  ...                 0                  0   \n",
       "156c88bff4e9c4668b0f53df3d870f1b  ...                 0                  0   \n",
       "...                               ...               ...                ...   \n",
       "b794aa55646841a03c7783226e6f6bc8  ...                 2                  2   \n",
       "308faee28efee2e66b39f9f2ba6ea9cf  ...                 0                  0   \n",
       "6066cc7417b43c749d551e123d00f0c8  ...                 0                  0   \n",
       "bc7a87ed5f9c2bca55f9f7a93da0b0c5  ...                 0                  0   \n",
       "e2ca68ac1a6847f4a37f6c9c8ee8695b  ...                 0                  0   \n",
       "\n",
       "                                  d5_obs_placed  d5_sen_placed  \\\n",
       "match_id_hash                                                    \n",
       "b9c57c450ce74a2af79c9ce96fac144d              0              0   \n",
       "6db558535151ea18ca70a6892197db41              0              0   \n",
       "19c39fe2af2b547e48708ca005c6ae74              0              0   \n",
       "c96d629dc0c39f0c616d1949938a6ba6              3              0   \n",
       "156c88bff4e9c4668b0f53df3d870f1b              3              0   \n",
       "...                                         ...            ...   \n",
       "b794aa55646841a03c7783226e6f6bc8              0              0   \n",
       "308faee28efee2e66b39f9f2ba6ea9cf             15              6   \n",
       "6066cc7417b43c749d551e123d00f0c8              0              0   \n",
       "bc7a87ed5f9c2bca55f9f7a93da0b0c5              0              0   \n",
       "e2ca68ac1a6847f4a37f6c9c8ee8695b              1              0   \n",
       "\n",
       "                                  radiant_tower_kills  dire_tower_kills  \\\n",
       "match_id_hash                                                             \n",
       "b9c57c450ce74a2af79c9ce96fac144d                  2.0               0.0   \n",
       "6db558535151ea18ca70a6892197db41                  0.0               0.0   \n",
       "19c39fe2af2b547e48708ca005c6ae74                  0.0               0.0   \n",
       "c96d629dc0c39f0c616d1949938a6ba6                  0.0               0.0   \n",
       "156c88bff4e9c4668b0f53df3d870f1b                  0.0               1.0   \n",
       "...                                               ...               ...   \n",
       "b794aa55646841a03c7783226e6f6bc8                  4.0               8.0   \n",
       "308faee28efee2e66b39f9f2ba6ea9cf                  6.0               4.0   \n",
       "6066cc7417b43c749d551e123d00f0c8                  2.0               1.0   \n",
       "bc7a87ed5f9c2bca55f9f7a93da0b0c5                  0.0               0.0   \n",
       "e2ca68ac1a6847f4a37f6c9c8ee8695b                  0.0               0.0   \n",
       "\n",
       "                                  diff_tower_kills  kda_d_cum  kda_r_cum  \\\n",
       "match_id_hash                                                              \n",
       "b9c57c450ce74a2af79c9ce96fac144d               2.0   0.375000   7.500000   \n",
       "6db558535151ea18ca70a6892197db41               0.0   0.000000   0.000000   \n",
       "19c39fe2af2b547e48708ca005c6ae74               0.0   0.000000   0.000000   \n",
       "c96d629dc0c39f0c616d1949938a6ba6               0.0   2.400000   1.750000   \n",
       "156c88bff4e9c4668b0f53df3d870f1b              -1.0   3.333333   1.300000   \n",
       "...                                            ...        ...        ...   \n",
       "b794aa55646841a03c7783226e6f6bc8              -4.0   3.647059   2.195122   \n",
       "308faee28efee2e66b39f9f2ba6ea9cf               2.0   1.178571   3.315789   \n",
       "6066cc7417b43c749d551e123d00f0c8               1.0   6.428571   0.944444   \n",
       "bc7a87ed5f9c2bca55f9f7a93da0b0c5               0.0   1.500000   1.666667   \n",
       "e2ca68ac1a6847f4a37f6c9c8ee8695b               0.0   7.250000   0.350000   \n",
       "\n",
       "                                  kda_norm_diff  \n",
       "match_id_hash                                    \n",
       "b9c57c450ce74a2af79c9ce96fac144d       0.904762  \n",
       "6db558535151ea18ca70a6892197db41       0.000000  \n",
       "19c39fe2af2b547e48708ca005c6ae74       0.000000  \n",
       "c96d629dc0c39f0c616d1949938a6ba6      -0.156627  \n",
       "156c88bff4e9c4668b0f53df3d870f1b      -0.438849  \n",
       "...                                         ...  \n",
       "b794aa55646841a03c7783226e6f6bc8      -0.248527  \n",
       "308faee28efee2e66b39f9f2ba6ea9cf       0.475533  \n",
       "6066cc7417b43c749d551e123d00f0c8      -0.743811  \n",
       "bc7a87ed5f9c2bca55f9f7a93da0b0c5       0.052632  \n",
       "e2ca68ac1a6847f4a37f6c9c8ee8695b      -0.907895  \n",
       "\n",
       "[31698 rows x 251 columns]"
      ]
     },
     "execution_count": 129,
     "metadata": {},
     "output_type": "execute_result"
    }
   ],
   "source": [
    "df_train_features_extended"
   ]
  },
  {
   "cell_type": "code",
   "execution_count": 52,
   "id": "60985caa",
   "metadata": {
    "ExecuteTime": {
     "end_time": "2023-04-09T22:51:31.707391Z",
     "start_time": "2023-04-09T22:51:31.699337Z"
    },
    "execution": {
     "iopub.execute_input": "2022-02-13T23:29:33.789538Z",
     "iopub.status.busy": "2022-02-13T23:29:33.788717Z",
     "iopub.status.idle": "2022-02-13T23:29:33.792009Z",
     "shell.execute_reply": "2022-02-13T23:29:33.792529Z",
     "shell.execute_reply.started": "2022-02-13T22:57:45.161882Z"
    },
    "papermill": {
     "duration": 0.057975,
     "end_time": "2022-02-13T23:29:33.792713",
     "exception": false,
     "start_time": "2022-02-13T23:29:33.734738",
     "status": "completed"
    },
    "tags": []
   },
   "outputs": [],
   "source": [
    "kda_r1 = (df_train_features_extended.r1_kills+df_train_features_extended.r1_assists) \\\n",
    "    /df_train_features_extended.r1_deaths.replace({0:1})"
   ]
  },
  {
   "cell_type": "code",
   "execution_count": 53,
   "id": "b91f3f90",
   "metadata": {
    "ExecuteTime": {
     "end_time": "2023-04-09T22:51:34.257853Z",
     "start_time": "2023-04-09T22:51:34.076322Z"
    }
   },
   "outputs": [
    {
     "data": {
      "text/plain": [
       "<AxesSubplot:>"
      ]
     },
     "execution_count": 53,
     "metadata": {},
     "output_type": "execute_result"
    },
    {
     "data": {
      "image/png": "[encoded data removed]",
      "text/plain": [
       "<Figure size 1200x800 with 1 Axes>"
      ]
     },
     "metadata": {},
     "output_type": "display_data"
    }
   ],
   "source": [
    "sns.boxplot(\n",
    "    x=y,\n",
    "    y=kda_r1\n",
    ")"
   ]
  },
  {
   "cell_type": "markdown",
   "id": "b26e0348",
   "metadata": {},
   "source": [
    "Видно, что игра первого игрока r1 имеет корреляцию с выигрышем команды radiant. Посмотрим на сумму kda"
   ]
  },
  {
   "cell_type": "code",
   "execution_count": 54,
   "id": "f31e6325",
   "metadata": {
    "ExecuteTime": {
     "end_time": "2023-04-09T22:54:01.658903Z",
     "start_time": "2023-04-09T22:54:01.641288Z"
    },
    "scrolled": false
   },
   "outputs": [],
   "source": [
    "kda_r = pd.Series(0, index = df_train_features_extended.index)\n",
    "for i in range(1,6):\n",
    "    kda_r += (df_train_features_extended[f'r{i}_kills']+df_train_features_extended[f'r{i}_assists']) \\\n",
    "        /df_train_features_extended[f'r{i}_deaths'].replace({0:1})"
   ]
  },
  {
   "cell_type": "code",
   "execution_count": 55,
   "id": "7e202f15",
   "metadata": {
    "ExecuteTime": {
     "end_time": "2023-04-09T22:54:13.225716Z",
     "start_time": "2023-04-09T22:54:13.065961Z"
    }
   },
   "outputs": [
    {
     "data": {
      "text/plain": [
       "<AxesSubplot:>"
      ]
     },
     "execution_count": 55,
     "metadata": {},
     "output_type": "execute_result"
    },
    {
     "data": {
      "image/png": "[encoded data removed]",
      "text/plain": [
       "<Figure size 1200x800 with 1 Axes>"
      ]
     },
     "metadata": {},
     "output_type": "display_data"
    }
   ],
   "source": [
    "sns.boxplot(\n",
    "    x=y,\n",
    "    y=kda_r\n",
    ")"
   ]
  },
  {
   "cell_type": "code",
   "execution_count": 60,
   "id": "3a97523d",
   "metadata": {
    "ExecuteTime": {
     "end_time": "2023-04-09T23:09:30.330715Z",
     "start_time": "2023-04-09T23:09:30.308175Z"
    }
   },
   "outputs": [
    {
     "data": {
      "text/plain": [
       "0.6597404560876485"
      ]
     },
     "execution_count": 60,
     "metadata": {},
     "output_type": "execute_result"
    }
   ],
   "source": [
    "# скор, если делать классификатор чисто по одной переменной\n",
    "roc_auc_score(y, kda_r/kda_r.max())"
   ]
  },
  {
   "cell_type": "markdown",
   "id": "fe2d5201",
   "metadata": {},
   "source": [
    "Ещё лучше) Теперь попробуем посмотреть на кумулятивную kda"
   ]
  },
  {
   "cell_type": "code",
   "execution_count": 61,
   "id": "6aae1129",
   "metadata": {
    "ExecuteTime": {
     "end_time": "2023-04-09T23:10:05.675592Z",
     "start_time": "2023-04-09T23:10:05.498059Z"
    }
   },
   "outputs": [
    {
     "data": {
      "text/plain": [
       "<AxesSubplot:>"
      ]
     },
     "execution_count": 61,
     "metadata": {},
     "output_type": "execute_result"
    },
    {
     "data": {
      "image/png": "[encoded data removed]",
      "text/plain": [
       "<Figure size 1200x800 with 1 Axes>"
      ]
     },
     "metadata": {},
     "output_type": "display_data"
    }
   ],
   "source": [
    "kda_r_kills = pd.Series(0, index = df_train_features_extended.index)\n",
    "kda_r_assists = pd.Series(0, index = df_train_features_extended.index)\n",
    "kda_r_deaths = pd.Series(0, index = df_train_features_extended.index)\n",
    "for i in range(1,6):\n",
    "    kda_r_kills += df_train_features_extended[f'r{i}_kills']\n",
    "    kda_r_assists += df_train_features_extended[f'r{i}_assists']\n",
    "    kda_r_deaths += df_train_features_extended[f'r{i}_deaths']\n",
    "\n",
    "kda_r_cum = (kda_r_kills+kda_r_assists)/kda_r_deaths.replace({0:1})\n",
    "\n",
    "sns.boxplot(\n",
    "    x=y,\n",
    "    y=kda_r_cum\n",
    ")"
   ]
  },
  {
   "cell_type": "code",
   "execution_count": 62,
   "id": "33c91947",
   "metadata": {
    "ExecuteTime": {
     "end_time": "2023-04-09T23:10:11.508175Z",
     "start_time": "2023-04-09T23:10:11.487424Z"
    }
   },
   "outputs": [
    {
     "data": {
      "text/plain": [
       "0.6955645921654104"
      ]
     },
     "execution_count": 62,
     "metadata": {},
     "output_type": "execute_result"
    }
   ],
   "source": [
    "# скор, если делать классификатор чисто по одной переменной\n",
    "roc_auc_score(y, kda_r_cum/kda_r_cum.max())"
   ]
  },
  {
   "cell_type": "markdown",
   "id": "0b64de2e",
   "metadata": {},
   "source": [
    "**Кумулятивный kda работает получше**"
   ]
  },
  {
   "cell_type": "markdown",
   "id": "8cb23a0d",
   "metadata": {},
   "source": [
    "Сделаем аналогично для kda другой команды"
   ]
  },
  {
   "cell_type": "code",
   "execution_count": 63,
   "id": "ae86bea4",
   "metadata": {
    "ExecuteTime": {
     "end_time": "2023-04-09T23:12:05.035958Z",
     "start_time": "2023-04-09T23:12:04.854400Z"
    }
   },
   "outputs": [
    {
     "data": {
      "text/plain": [
       "<AxesSubplot:>"
      ]
     },
     "execution_count": 63,
     "metadata": {},
     "output_type": "execute_result"
    },
    {
     "data": {
      "image/png": "[encoded data removed]",
      "text/plain": [
       "<Figure size 1200x800 with 1 Axes>"
      ]
     },
     "metadata": {},
     "output_type": "display_data"
    }
   ],
   "source": [
    "kda_d_kills = pd.Series(0, index = df_train_features_extended.index)\n",
    "kda_d_assists = pd.Series(0, index = df_train_features_extended.index)\n",
    "kda_d_deaths = pd.Series(0, index = df_train_features_extended.index)\n",
    "for i in range(1,6):\n",
    "    kda_d_kills += df_train_features_extended[f'd{i}_kills']\n",
    "    kda_d_assists += df_train_features_extended[f'd{i}_assists']\n",
    "    kda_d_deaths += df_train_features_extended[f'd{i}_deaths']\n",
    "\n",
    "kda_d_cum = (kda_d_kills+kda_d_assists)/kda_d_deaths.replace({0:1})\n",
    "\n",
    "sns.boxplot(\n",
    "    x=y,\n",
    "    y=kda_d_cum\n",
    ")"
   ]
  },
  {
   "cell_type": "code",
   "execution_count": 65,
   "id": "8e79de0d",
   "metadata": {
    "ExecuteTime": {
     "end_time": "2023-04-09T23:12:57.517249Z",
     "start_time": "2023-04-09T23:12:57.497796Z"
    }
   },
   "outputs": [
    {
     "data": {
      "text/plain": [
       "0.7052674080568502"
      ]
     },
     "execution_count": 65,
     "metadata": {},
     "output_type": "execute_result"
    }
   ],
   "source": [
    "# скор, если делать классификатор чисто по одной переменной\n",
    "roc_auc_score(y, 1-kda_d_cum/kda_d_cum.max())"
   ]
  },
  {
   "cell_type": "markdown",
   "id": "365bf811",
   "metadata": {},
   "source": [
    "Попробуем посмотреть отношение kda"
   ]
  },
  {
   "cell_type": "code",
   "execution_count": 75,
   "id": "f2a9c366",
   "metadata": {
    "ExecuteTime": {
     "end_time": "2023-04-09T23:16:32.305843Z",
     "start_time": "2023-04-09T23:16:32.121812Z"
    }
   },
   "outputs": [
    {
     "data": {
      "text/plain": [
       "<AxesSubplot:>"
      ]
     },
     "execution_count": 75,
     "metadata": {},
     "output_type": "execute_result"
    },
    {
     "data": {
      "image/png": "[encoded data removed]",
      "text/plain": [
       "<Figure size 1200x800 with 1 Axes>"
      ]
     },
     "metadata": {},
     "output_type": "display_data"
    }
   ],
   "source": [
    "kda_ratio = kda_r_cum/kda_d_cum.replace({0: 0.1})\n",
    "\n",
    "sns.boxplot(\n",
    "    x=y,\n",
    "    y=kda_ratio\n",
    ")"
   ]
  },
  {
   "cell_type": "code",
   "execution_count": 76,
   "id": "fd60fbbd",
   "metadata": {
    "ExecuteTime": {
     "end_time": "2023-04-09T23:16:37.132215Z",
     "start_time": "2023-04-09T23:16:37.112147Z"
    }
   },
   "outputs": [
    {
     "data": {
      "text/plain": [
       "0.7027059806297989"
      ]
     },
     "execution_count": 76,
     "metadata": {},
     "output_type": "execute_result"
    }
   ],
   "source": [
    "# скор, если делать классификатор чисто по одной переменной\n",
    "roc_auc_score(y, kda_ratio)"
   ]
  },
  {
   "cell_type": "markdown",
   "id": "43b29a62",
   "metadata": {},
   "source": [
    "Отношение не очень хорошо работает"
   ]
  },
  {
   "cell_type": "code",
   "execution_count": 77,
   "id": "9e55553c",
   "metadata": {
    "ExecuteTime": {
     "end_time": "2023-04-09T23:17:57.582038Z",
     "start_time": "2023-04-09T23:17:57.413885Z"
    }
   },
   "outputs": [
    {
     "data": {
      "text/plain": [
       "<AxesSubplot:>"
      ]
     },
     "execution_count": 77,
     "metadata": {},
     "output_type": "execute_result"
    },
    {
     "data": {
      "image/png": "[encoded data removed]",
      "text/plain": [
       "<Figure size 1200x800 with 1 Axes>"
      ]
     },
     "metadata": {},
     "output_type": "display_data"
    }
   ],
   "source": [
    "kda_ratio = kda_r_cum/kda_d_cum.replace({0: 0.1})\n",
    "\n",
    "sns.boxplot(\n",
    "    x=y,\n",
    "    y=(kda_r_cum-kda_d_cum)/(kda_r_cum+kda_d_cum)\n",
    ")"
   ]
  },
  {
   "cell_type": "code",
   "execution_count": 79,
   "id": "487a1b85",
   "metadata": {
    "ExecuteTime": {
     "end_time": "2023-04-09T23:18:54.910091Z",
     "start_time": "2023-04-09T23:18:54.885933Z"
    }
   },
   "outputs": [
    {
     "data": {
      "text/plain": [
       "0.7216151985200512"
      ]
     },
     "execution_count": 79,
     "metadata": {},
     "output_type": "execute_result"
    }
   ],
   "source": [
    "# скор, если делать классификатор чисто по одной переменной\n",
    "roc_auc_score(y, ((kda_r_cum-kda_d_cum)/(kda_r_cum+kda_d_cum)).fillna(0))"
   ]
  },
  {
   "cell_type": "markdown",
   "id": "9bfc73c7",
   "metadata": {},
   "source": [
    "Разность отнормировання на сумму работает получше"
   ]
  },
  {
   "cell_type": "code",
   "execution_count": 81,
   "id": "880f5bca",
   "metadata": {
    "ExecuteTime": {
     "end_time": "2023-04-09T23:31:50.457774Z",
     "start_time": "2023-04-09T23:30:51.202050Z"
    },
    "execution": {
     "iopub.execute_input": "2022-02-13T23:29:35.500607Z",
     "iopub.status.busy": "2022-02-13T23:29:35.499947Z",
     "iopub.status.idle": "2022-02-13T23:31:15.695377Z",
     "shell.execute_reply": "2022-02-13T23:31:15.695887Z",
     "shell.execute_reply.started": "2022-02-13T22:58:02.081870Z"
    },
    "papermill": {
     "duration": 100.250385,
     "end_time": "2022-02-13T23:31:15.696073",
     "exception": false,
     "start_time": "2022-02-13T23:29:35.445688",
     "status": "completed"
    },
    "tags": []
   },
   "outputs": [
    {
     "data": {
      "application/vnd.jupyter.widget-view+json": {
       "model_id": "ac1a1bb3230c41a3abd3c94fe992b48d",
       "version_major": 2,
       "version_minor": 0
      },
      "text/plain": [
       "  0%|          | 0/31698 [00:00<?, ?it/s]"
      ]
     },
     "metadata": {},
     "output_type": "display_data"
    }
   ],
   "source": [
    "# Скопируем таблицу с признаками\n",
    "df_train_features_extended = df_train_features.copy()\n",
    "\n",
    "# Добавим новые\n",
    "add_new_features(df_train_features_extended, \n",
    "                 os.path.join(PATH_TO_DATA, \n",
    "                              \"train_raw_data.jsonl\"))"
   ]
  },
  {
   "cell_type": "code",
   "execution_count": 82,
   "id": "36b8e091",
   "metadata": {
    "ExecuteTime": {
     "end_time": "2023-04-09T23:31:50.464279Z",
     "start_time": "2023-04-09T23:31:50.460451Z"
    }
   },
   "outputs": [],
   "source": [
    "lgbm = lightgbm.LGBMClassifier(random_state=SEED)"
   ]
  },
  {
   "cell_type": "code",
   "execution_count": 83,
   "id": "4fca1457",
   "metadata": {
    "ExecuteTime": {
     "end_time": "2023-04-09T23:31:57.517988Z",
     "start_time": "2023-04-09T23:31:50.465716Z"
    }
   },
   "outputs": [],
   "source": [
    "cv_scores_extended = cross_val_score(lgbm, df_train_features_extended.values, y, \n",
    "                                     cv=cv, scoring=\"roc_auc\", n_jobs=30)"
   ]
  },
  {
   "cell_type": "code",
   "execution_count": 84,
   "id": "ce9a29a4",
   "metadata": {
    "ExecuteTime": {
     "end_time": "2023-04-09T23:31:57.528589Z",
     "start_time": "2023-04-09T23:31:57.522229Z"
    },
    "scrolled": false
   },
   "outputs": [
    {
     "name": "stdout",
     "output_type": "stream",
     "text": [
      "ROC-AUC на кросс-валидации для новых признаков: 0.7948199308498245\n"
     ]
    }
   ],
   "source": [
    "print(f\"ROC-AUC на кросс-валидации для новых признаков: {cv_scores_extended.mean()}\")"
   ]
  },
  {
   "cell_type": "markdown",
   "id": "f9c73b23",
   "metadata": {},
   "source": [
    "### XP"
   ]
  },
  {
   "cell_type": "markdown",
   "id": "6e0c2648",
   "metadata": {},
   "source": [
    "Посмотрим, насколько влияет отнормированная прокачка первого игрока"
   ]
  },
  {
   "cell_type": "code",
   "execution_count": 105,
   "id": "a28d7deb",
   "metadata": {
    "ExecuteTime": {
     "end_time": "2023-04-10T15:49:32.798912Z",
     "start_time": "2023-04-10T15:49:32.770881Z"
    },
    "scrolled": true
   },
   "outputs": [
    {
     "data": {
      "text/html": [
       "<div>\n",
       "<style scoped>\n",
       "    .dataframe tbody tr th:only-of-type {\n",
       "        vertical-align: middle;\n",
       "    }\n",
       "\n",
       "    .dataframe tbody tr th {\n",
       "        vertical-align: top;\n",
       "    }\n",
       "\n",
       "    .dataframe thead th {\n",
       "        text-align: right;\n",
       "    }\n",
       "</style>\n",
       "<table border=\"1\" class=\"dataframe\">\n",
       "  <thead>\n",
       "    <tr style=\"text-align: right;\">\n",
       "      <th></th>\n",
       "      <th>game_time</th>\n",
       "      <th>game_mode</th>\n",
       "      <th>lobby_type</th>\n",
       "      <th>objectives_len</th>\n",
       "      <th>chat_len</th>\n",
       "      <th>r1_hero_id</th>\n",
       "      <th>r1_kills</th>\n",
       "      <th>r1_deaths</th>\n",
       "      <th>r1_assists</th>\n",
       "      <th>r1_denies</th>\n",
       "      <th>r1_gold</th>\n",
       "      <th>r1_lh</th>\n",
       "      <th>r1_xp</th>\n",
       "      <th>r1_health</th>\n",
       "      <th>r1_max_health</th>\n",
       "      <th>r1_max_mana</th>\n",
       "      <th>r1_level</th>\n",
       "      <th>r1_x</th>\n",
       "      <th>r1_y</th>\n",
       "      <th>r1_stuns</th>\n",
       "    </tr>\n",
       "    <tr>\n",
       "      <th>match_id_hash</th>\n",
       "      <th></th>\n",
       "      <th></th>\n",
       "      <th></th>\n",
       "      <th></th>\n",
       "      <th></th>\n",
       "      <th></th>\n",
       "      <th></th>\n",
       "      <th></th>\n",
       "      <th></th>\n",
       "      <th></th>\n",
       "      <th></th>\n",
       "      <th></th>\n",
       "      <th></th>\n",
       "      <th></th>\n",
       "      <th></th>\n",
       "      <th></th>\n",
       "      <th></th>\n",
       "      <th></th>\n",
       "      <th></th>\n",
       "      <th></th>\n",
       "    </tr>\n",
       "  </thead>\n",
       "  <tbody>\n",
       "    <tr>\n",
       "      <th>d464de7959de7b1038bc053a63aa64d7</th>\n",
       "      <td>0</td>\n",
       "      <td>23</td>\n",
       "      <td>0</td>\n",
       "      <td>17</td>\n",
       "      <td>44</td>\n",
       "      <td>10</td>\n",
       "      <td>8</td>\n",
       "      <td>2</td>\n",
       "      <td>6</td>\n",
       "      <td>5</td>\n",
       "      <td>22214</td>\n",
       "      <td>67</td>\n",
       "      <td>27552</td>\n",
       "      <td>2285</td>\n",
       "      <td>2285</td>\n",
       "      <td>1332.93870</td>\n",
       "      <td>25</td>\n",
       "      <td>166</td>\n",
       "      <td>172</td>\n",
       "      <td>5.165406</td>\n",
       "    </tr>\n",
       "    <tr>\n",
       "      <th>16bf0141245691f8aa1c7702c7a62a59</th>\n",
       "      <td>0</td>\n",
       "      <td>22</td>\n",
       "      <td>0</td>\n",
       "      <td>21</td>\n",
       "      <td>12</td>\n",
       "      <td>14</td>\n",
       "      <td>5</td>\n",
       "      <td>4</td>\n",
       "      <td>9</td>\n",
       "      <td>1</td>\n",
       "      <td>11355</td>\n",
       "      <td>10</td>\n",
       "      <td>8212</td>\n",
       "      <td>2140</td>\n",
       "      <td>2140</td>\n",
       "      <td>1088.93860</td>\n",
       "      <td>13</td>\n",
       "      <td>180</td>\n",
       "      <td>158</td>\n",
       "      <td>32.293156</td>\n",
       "    </tr>\n",
       "    <tr>\n",
       "      <th>9d7ce9819d6204edd7fd7aab576e9b27</th>\n",
       "      <td>0</td>\n",
       "      <td>22</td>\n",
       "      <td>7</td>\n",
       "      <td>21</td>\n",
       "      <td>12</td>\n",
       "      <td>21</td>\n",
       "      <td>6</td>\n",
       "      <td>7</td>\n",
       "      <td>6</td>\n",
       "      <td>8</td>\n",
       "      <td>12940</td>\n",
       "      <td>134</td>\n",
       "      <td>17224</td>\n",
       "      <td>1660</td>\n",
       "      <td>1660</td>\n",
       "      <td>1454.93880</td>\n",
       "      <td>20</td>\n",
       "      <td>72</td>\n",
       "      <td>78</td>\n",
       "      <td>42.496426</td>\n",
       "    </tr>\n",
       "    <tr>\n",
       "      <th>924ea902cc80bea694154846f2b60d81</th>\n",
       "      <td>0</td>\n",
       "      <td>22</td>\n",
       "      <td>7</td>\n",
       "      <td>22</td>\n",
       "      <td>102</td>\n",
       "      <td>10</td>\n",
       "      <td>10</td>\n",
       "      <td>0</td>\n",
       "      <td>5</td>\n",
       "      <td>59</td>\n",
       "      <td>15756</td>\n",
       "      <td>147</td>\n",
       "      <td>12246</td>\n",
       "      <td>960</td>\n",
       "      <td>960</td>\n",
       "      <td>770.93823</td>\n",
       "      <td>16</td>\n",
       "      <td>178</td>\n",
       "      <td>166</td>\n",
       "      <td>0.533203</td>\n",
       "    </tr>\n",
       "    <tr>\n",
       "      <th>2eb2ce35ed3dc6249b32082d052cb9dc</th>\n",
       "      <td>0</td>\n",
       "      <td>22</td>\n",
       "      <td>7</td>\n",
       "      <td>19</td>\n",
       "      <td>1</td>\n",
       "      <td>98</td>\n",
       "      <td>8</td>\n",
       "      <td>6</td>\n",
       "      <td>9</td>\n",
       "      <td>12</td>\n",
       "      <td>18386</td>\n",
       "      <td>187</td>\n",
       "      <td>24433</td>\n",
       "      <td>2095</td>\n",
       "      <td>2095</td>\n",
       "      <td>1915.93930</td>\n",
       "      <td>24</td>\n",
       "      <td>168</td>\n",
       "      <td>174</td>\n",
       "      <td>0.000000</td>\n",
       "    </tr>\n",
       "    <tr>\n",
       "      <th>1801fa71983a9aff5a8f477983871541</th>\n",
       "      <td>0</td>\n",
       "      <td>22</td>\n",
       "      <td>7</td>\n",
       "      <td>21</td>\n",
       "      <td>31</td>\n",
       "      <td>53</td>\n",
       "      <td>8</td>\n",
       "      <td>10</td>\n",
       "      <td>15</td>\n",
       "      <td>2</td>\n",
       "      <td>14311</td>\n",
       "      <td>112</td>\n",
       "      <td>10711</td>\n",
       "      <td>1200</td>\n",
       "      <td>1200</td>\n",
       "      <td>1178.93860</td>\n",
       "      <td>15</td>\n",
       "      <td>168</td>\n",
       "      <td>174</td>\n",
       "      <td>0.000000</td>\n",
       "    </tr>\n",
       "    <tr>\n",
       "      <th>f9c159f8dcc5621769f47e6edc9db5b9</th>\n",
       "      <td>0</td>\n",
       "      <td>22</td>\n",
       "      <td>7</td>\n",
       "      <td>21</td>\n",
       "      <td>17</td>\n",
       "      <td>119</td>\n",
       "      <td>4</td>\n",
       "      <td>7</td>\n",
       "      <td>16</td>\n",
       "      <td>3</td>\n",
       "      <td>10949</td>\n",
       "      <td>15</td>\n",
       "      <td>11905</td>\n",
       "      <td>1260</td>\n",
       "      <td>1260</td>\n",
       "      <td>1296.93870</td>\n",
       "      <td>16</td>\n",
       "      <td>170</td>\n",
       "      <td>160</td>\n",
       "      <td>74.047935</td>\n",
       "    </tr>\n",
       "    <tr>\n",
       "      <th>42eec2fb2b810502f7c0ba48395600e1</th>\n",
       "      <td>0</td>\n",
       "      <td>22</td>\n",
       "      <td>7</td>\n",
       "      <td>23</td>\n",
       "      <td>13</td>\n",
       "      <td>86</td>\n",
       "      <td>6</td>\n",
       "      <td>9</td>\n",
       "      <td>11</td>\n",
       "      <td>1</td>\n",
       "      <td>9407</td>\n",
       "      <td>27</td>\n",
       "      <td>16734</td>\n",
       "      <td>1835</td>\n",
       "      <td>1835</td>\n",
       "      <td>1233.93870</td>\n",
       "      <td>19</td>\n",
       "      <td>74</td>\n",
       "      <td>88</td>\n",
       "      <td>44.320896</td>\n",
       "    </tr>\n",
       "    <tr>\n",
       "      <th>a2cf3c288fd289e9fd9259b0672f8119</th>\n",
       "      <td>0</td>\n",
       "      <td>22</td>\n",
       "      <td>0</td>\n",
       "      <td>26</td>\n",
       "      <td>13</td>\n",
       "      <td>35</td>\n",
       "      <td>17</td>\n",
       "      <td>2</td>\n",
       "      <td>10</td>\n",
       "      <td>31</td>\n",
       "      <td>26761</td>\n",
       "      <td>305</td>\n",
       "      <td>27136</td>\n",
       "      <td>1920</td>\n",
       "      <td>1920</td>\n",
       "      <td>1334.93870</td>\n",
       "      <td>25</td>\n",
       "      <td>158</td>\n",
       "      <td>170</td>\n",
       "      <td>0.033437</td>\n",
       "    </tr>\n",
       "    <tr>\n",
       "      <th>bdcf25c4ca853c5c79fd8ad486a0ac34</th>\n",
       "      <td>0</td>\n",
       "      <td>22</td>\n",
       "      <td>7</td>\n",
       "      <td>24</td>\n",
       "      <td>20</td>\n",
       "      <td>5</td>\n",
       "      <td>1</td>\n",
       "      <td>12</td>\n",
       "      <td>5</td>\n",
       "      <td>0</td>\n",
       "      <td>10012</td>\n",
       "      <td>75</td>\n",
       "      <td>11272</td>\n",
       "      <td>1530</td>\n",
       "      <td>1530</td>\n",
       "      <td>746.93823</td>\n",
       "      <td>15</td>\n",
       "      <td>76</td>\n",
       "      <td>76</td>\n",
       "      <td>36.710293</td>\n",
       "    </tr>\n",
       "    <tr>\n",
       "      <th>09b06773d4ba11e858e1042194985488</th>\n",
       "      <td>0</td>\n",
       "      <td>22</td>\n",
       "      <td>7</td>\n",
       "      <td>18</td>\n",
       "      <td>4</td>\n",
       "      <td>101</td>\n",
       "      <td>1</td>\n",
       "      <td>2</td>\n",
       "      <td>8</td>\n",
       "      <td>0</td>\n",
       "      <td>6468</td>\n",
       "      <td>4</td>\n",
       "      <td>4180</td>\n",
       "      <td>1000</td>\n",
       "      <td>1000</td>\n",
       "      <td>1008.93850</td>\n",
       "      <td>8</td>\n",
       "      <td>160</td>\n",
       "      <td>170</td>\n",
       "      <td>0.000000</td>\n",
       "    </tr>\n",
       "    <tr>\n",
       "      <th>ac92f34c19c068773fcf27ea6ba514dc</th>\n",
       "      <td>0</td>\n",
       "      <td>22</td>\n",
       "      <td>7</td>\n",
       "      <td>18</td>\n",
       "      <td>28</td>\n",
       "      <td>104</td>\n",
       "      <td>6</td>\n",
       "      <td>1</td>\n",
       "      <td>12</td>\n",
       "      <td>18</td>\n",
       "      <td>11990</td>\n",
       "      <td>74</td>\n",
       "      <td>9615</td>\n",
       "      <td>1466</td>\n",
       "      <td>1860</td>\n",
       "      <td>794.93823</td>\n",
       "      <td>14</td>\n",
       "      <td>176</td>\n",
       "      <td>170</td>\n",
       "      <td>0.000000</td>\n",
       "    </tr>\n",
       "    <tr>\n",
       "      <th>0c1d5f10a55ac235ea796d8359c8f03b</th>\n",
       "      <td>0</td>\n",
       "      <td>22</td>\n",
       "      <td>7</td>\n",
       "      <td>19</td>\n",
       "      <td>19</td>\n",
       "      <td>44</td>\n",
       "      <td>9</td>\n",
       "      <td>5</td>\n",
       "      <td>9</td>\n",
       "      <td>8</td>\n",
       "      <td>14401</td>\n",
       "      <td>97</td>\n",
       "      <td>11724</td>\n",
       "      <td>1240</td>\n",
       "      <td>1240</td>\n",
       "      <td>506.93800</td>\n",
       "      <td>16</td>\n",
       "      <td>164</td>\n",
       "      <td>166</td>\n",
       "      <td>0.000000</td>\n",
       "    </tr>\n",
       "    <tr>\n",
       "      <th>f8bb9eb724fe1fc6823cb48bcdd383d7</th>\n",
       "      <td>0</td>\n",
       "      <td>22</td>\n",
       "      <td>7</td>\n",
       "      <td>24</td>\n",
       "      <td>18</td>\n",
       "      <td>11</td>\n",
       "      <td>8</td>\n",
       "      <td>7</td>\n",
       "      <td>8</td>\n",
       "      <td>23</td>\n",
       "      <td>22327</td>\n",
       "      <td>284</td>\n",
       "      <td>26328</td>\n",
       "      <td>2100</td>\n",
       "      <td>2100</td>\n",
       "      <td>866.93835</td>\n",
       "      <td>24</td>\n",
       "      <td>72</td>\n",
       "      <td>78</td>\n",
       "      <td>0.000000</td>\n",
       "    </tr>\n",
       "    <tr>\n",
       "      <th>87d1ce73a40e9fe16ff600cc3d0663c7</th>\n",
       "      <td>0</td>\n",
       "      <td>22</td>\n",
       "      <td>7</td>\n",
       "      <td>25</td>\n",
       "      <td>8</td>\n",
       "      <td>41</td>\n",
       "      <td>5</td>\n",
       "      <td>4</td>\n",
       "      <td>12</td>\n",
       "      <td>29</td>\n",
       "      <td>20670</td>\n",
       "      <td>282</td>\n",
       "      <td>20910</td>\n",
       "      <td>2080</td>\n",
       "      <td>2080</td>\n",
       "      <td>770.93823</td>\n",
       "      <td>22</td>\n",
       "      <td>78</td>\n",
       "      <td>104</td>\n",
       "      <td>14.372685</td>\n",
       "    </tr>\n",
       "    <tr>\n",
       "      <th>5a22abffd910b17ff5bc1517475ff0db</th>\n",
       "      <td>0</td>\n",
       "      <td>23</td>\n",
       "      <td>0</td>\n",
       "      <td>21</td>\n",
       "      <td>2</td>\n",
       "      <td>17</td>\n",
       "      <td>3</td>\n",
       "      <td>1</td>\n",
       "      <td>12</td>\n",
       "      <td>4</td>\n",
       "      <td>20817</td>\n",
       "      <td>72</td>\n",
       "      <td>25557</td>\n",
       "      <td>2175</td>\n",
       "      <td>2175</td>\n",
       "      <td>2287.93970</td>\n",
       "      <td>24</td>\n",
       "      <td>174</td>\n",
       "      <td>174</td>\n",
       "      <td>5.931872</td>\n",
       "    </tr>\n",
       "    <tr>\n",
       "      <th>c42dcffb66e8aeb5098690d8f1811a25</th>\n",
       "      <td>0</td>\n",
       "      <td>4</td>\n",
       "      <td>0</td>\n",
       "      <td>22</td>\n",
       "      <td>15</td>\n",
       "      <td>10</td>\n",
       "      <td>4</td>\n",
       "      <td>8</td>\n",
       "      <td>7</td>\n",
       "      <td>3</td>\n",
       "      <td>18601</td>\n",
       "      <td>136</td>\n",
       "      <td>17218</td>\n",
       "      <td>1320</td>\n",
       "      <td>1320</td>\n",
       "      <td>998.93850</td>\n",
       "      <td>20</td>\n",
       "      <td>74</td>\n",
       "      <td>76</td>\n",
       "      <td>12.110905</td>\n",
       "    </tr>\n",
       "  </tbody>\n",
       "</table>\n",
       "</div>"
      ],
      "text/plain": [
       "                                  game_time  game_mode  lobby_type  \\\n",
       "match_id_hash                                                        \n",
       "d464de7959de7b1038bc053a63aa64d7          0         23           0   \n",
       "16bf0141245691f8aa1c7702c7a62a59          0         22           0   \n",
       "9d7ce9819d6204edd7fd7aab576e9b27          0         22           7   \n",
       "924ea902cc80bea694154846f2b60d81          0         22           7   \n",
       "2eb2ce35ed3dc6249b32082d052cb9dc          0         22           7   \n",
       "1801fa71983a9aff5a8f477983871541          0         22           7   \n",
       "f9c159f8dcc5621769f47e6edc9db5b9          0         22           7   \n",
       "42eec2fb2b810502f7c0ba48395600e1          0         22           7   \n",
       "a2cf3c288fd289e9fd9259b0672f8119          0         22           0   \n",
       "bdcf25c4ca853c5c79fd8ad486a0ac34          0         22           7   \n",
       "09b06773d4ba11e858e1042194985488          0         22           7   \n",
       "ac92f34c19c068773fcf27ea6ba514dc          0         22           7   \n",
       "0c1d5f10a55ac235ea796d8359c8f03b          0         22           7   \n",
       "f8bb9eb724fe1fc6823cb48bcdd383d7          0         22           7   \n",
       "87d1ce73a40e9fe16ff600cc3d0663c7          0         22           7   \n",
       "5a22abffd910b17ff5bc1517475ff0db          0         23           0   \n",
       "c42dcffb66e8aeb5098690d8f1811a25          0          4           0   \n",
       "\n",
       "                                  objectives_len  chat_len  r1_hero_id  \\\n",
       "match_id_hash                                                            \n",
       "d464de7959de7b1038bc053a63aa64d7              17        44          10   \n",
       "16bf0141245691f8aa1c7702c7a62a59              21        12          14   \n",
       "9d7ce9819d6204edd7fd7aab576e9b27              21        12          21   \n",
       "924ea902cc80bea694154846f2b60d81              22       102          10   \n",
       "2eb2ce35ed3dc6249b32082d052cb9dc              19         1          98   \n",
       "1801fa71983a9aff5a8f477983871541              21        31          53   \n",
       "f9c159f8dcc5621769f47e6edc9db5b9              21        17         119   \n",
       "42eec2fb2b810502f7c0ba48395600e1              23        13          86   \n",
       "a2cf3c288fd289e9fd9259b0672f8119              26        13          35   \n",
       "bdcf25c4ca853c5c79fd8ad486a0ac34              24        20           5   \n",
       "09b06773d4ba11e858e1042194985488              18         4         101   \n",
       "ac92f34c19c068773fcf27ea6ba514dc              18        28         104   \n",
       "0c1d5f10a55ac235ea796d8359c8f03b              19        19          44   \n",
       "f8bb9eb724fe1fc6823cb48bcdd383d7              24        18          11   \n",
       "87d1ce73a40e9fe16ff600cc3d0663c7              25         8          41   \n",
       "5a22abffd910b17ff5bc1517475ff0db              21         2          17   \n",
       "c42dcffb66e8aeb5098690d8f1811a25              22        15          10   \n",
       "\n",
       "                                  r1_kills  r1_deaths  r1_assists  r1_denies  \\\n",
       "match_id_hash                                                                  \n",
       "d464de7959de7b1038bc053a63aa64d7         8          2           6          5   \n",
       "16bf0141245691f8aa1c7702c7a62a59         5          4           9          1   \n",
       "9d7ce9819d6204edd7fd7aab576e9b27         6          7           6          8   \n",
       "924ea902cc80bea694154846f2b60d81        10          0           5         59   \n",
       "2eb2ce35ed3dc6249b32082d052cb9dc         8          6           9         12   \n",
       "1801fa71983a9aff5a8f477983871541         8         10          15          2   \n",
       "f9c159f8dcc5621769f47e6edc9db5b9         4          7          16          3   \n",
       "42eec2fb2b810502f7c0ba48395600e1         6          9          11          1   \n",
       "a2cf3c288fd289e9fd9259b0672f8119        17          2          10         31   \n",
       "bdcf25c4ca853c5c79fd8ad486a0ac34         1         12           5          0   \n",
       "09b06773d4ba11e858e1042194985488         1          2           8          0   \n",
       "ac92f34c19c068773fcf27ea6ba514dc         6          1          12         18   \n",
       "0c1d5f10a55ac235ea796d8359c8f03b         9          5           9          8   \n",
       "f8bb9eb724fe1fc6823cb48bcdd383d7         8          7           8         23   \n",
       "87d1ce73a40e9fe16ff600cc3d0663c7         5          4          12         29   \n",
       "5a22abffd910b17ff5bc1517475ff0db         3          1          12          4   \n",
       "c42dcffb66e8aeb5098690d8f1811a25         4          8           7          3   \n",
       "\n",
       "                                  r1_gold  r1_lh  r1_xp  r1_health  \\\n",
       "match_id_hash                                                        \n",
       "d464de7959de7b1038bc053a63aa64d7    22214     67  27552       2285   \n",
       "16bf0141245691f8aa1c7702c7a62a59    11355     10   8212       2140   \n",
       "9d7ce9819d6204edd7fd7aab576e9b27    12940    134  17224       1660   \n",
       "924ea902cc80bea694154846f2b60d81    15756    147  12246        960   \n",
       "2eb2ce35ed3dc6249b32082d052cb9dc    18386    187  24433       2095   \n",
       "1801fa71983a9aff5a8f477983871541    14311    112  10711       1200   \n",
       "f9c159f8dcc5621769f47e6edc9db5b9    10949     15  11905       1260   \n",
       "42eec2fb2b810502f7c0ba48395600e1     9407     27  16734       1835   \n",
       "a2cf3c288fd289e9fd9259b0672f8119    26761    305  27136       1920   \n",
       "bdcf25c4ca853c5c79fd8ad486a0ac34    10012     75  11272       1530   \n",
       "09b06773d4ba11e858e1042194985488     6468      4   4180       1000   \n",
       "ac92f34c19c068773fcf27ea6ba514dc    11990     74   9615       1466   \n",
       "0c1d5f10a55ac235ea796d8359c8f03b    14401     97  11724       1240   \n",
       "f8bb9eb724fe1fc6823cb48bcdd383d7    22327    284  26328       2100   \n",
       "87d1ce73a40e9fe16ff600cc3d0663c7    20670    282  20910       2080   \n",
       "5a22abffd910b17ff5bc1517475ff0db    20817     72  25557       2175   \n",
       "c42dcffb66e8aeb5098690d8f1811a25    18601    136  17218       1320   \n",
       "\n",
       "                                  r1_max_health  r1_max_mana  r1_level  r1_x  \\\n",
       "match_id_hash                                                                  \n",
       "d464de7959de7b1038bc053a63aa64d7           2285   1332.93870        25   166   \n",
       "16bf0141245691f8aa1c7702c7a62a59           2140   1088.93860        13   180   \n",
       "9d7ce9819d6204edd7fd7aab576e9b27           1660   1454.93880        20    72   \n",
       "924ea902cc80bea694154846f2b60d81            960    770.93823        16   178   \n",
       "2eb2ce35ed3dc6249b32082d052cb9dc           2095   1915.93930        24   168   \n",
       "1801fa71983a9aff5a8f477983871541           1200   1178.93860        15   168   \n",
       "f9c159f8dcc5621769f47e6edc9db5b9           1260   1296.93870        16   170   \n",
       "42eec2fb2b810502f7c0ba48395600e1           1835   1233.93870        19    74   \n",
       "a2cf3c288fd289e9fd9259b0672f8119           1920   1334.93870        25   158   \n",
       "bdcf25c4ca853c5c79fd8ad486a0ac34           1530    746.93823        15    76   \n",
       "09b06773d4ba11e858e1042194985488           1000   1008.93850         8   160   \n",
       "ac92f34c19c068773fcf27ea6ba514dc           1860    794.93823        14   176   \n",
       "0c1d5f10a55ac235ea796d8359c8f03b           1240    506.93800        16   164   \n",
       "f8bb9eb724fe1fc6823cb48bcdd383d7           2100    866.93835        24    72   \n",
       "87d1ce73a40e9fe16ff600cc3d0663c7           2080    770.93823        22    78   \n",
       "5a22abffd910b17ff5bc1517475ff0db           2175   2287.93970        24   174   \n",
       "c42dcffb66e8aeb5098690d8f1811a25           1320    998.93850        20    74   \n",
       "\n",
       "                                  r1_y   r1_stuns  \n",
       "match_id_hash                                      \n",
       "d464de7959de7b1038bc053a63aa64d7   172   5.165406  \n",
       "16bf0141245691f8aa1c7702c7a62a59   158  32.293156  \n",
       "9d7ce9819d6204edd7fd7aab576e9b27    78  42.496426  \n",
       "924ea902cc80bea694154846f2b60d81   166   0.533203  \n",
       "2eb2ce35ed3dc6249b32082d052cb9dc   174   0.000000  \n",
       "1801fa71983a9aff5a8f477983871541   174   0.000000  \n",
       "f9c159f8dcc5621769f47e6edc9db5b9   160  74.047935  \n",
       "42eec2fb2b810502f7c0ba48395600e1    88  44.320896  \n",
       "a2cf3c288fd289e9fd9259b0672f8119   170   0.033437  \n",
       "bdcf25c4ca853c5c79fd8ad486a0ac34    76  36.710293  \n",
       "09b06773d4ba11e858e1042194985488   170   0.000000  \n",
       "ac92f34c19c068773fcf27ea6ba514dc   170   0.000000  \n",
       "0c1d5f10a55ac235ea796d8359c8f03b   166   0.000000  \n",
       "f8bb9eb724fe1fc6823cb48bcdd383d7    78   0.000000  \n",
       "87d1ce73a40e9fe16ff600cc3d0663c7   104  14.372685  \n",
       "5a22abffd910b17ff5bc1517475ff0db   174   5.931872  \n",
       "c42dcffb66e8aeb5098690d8f1811a25    76  12.110905  "
      ]
     },
     "execution_count": 105,
     "metadata": {},
     "output_type": "execute_result"
    }
   ],
   "source": [
    "# у нас есть данные с логами на начало игры, кажется на эти данные можно забить\n",
    "df_train_features_extended[df_train_features_extended.game_time==0].iloc[:, :20]"
   ]
  },
  {
   "cell_type": "code",
   "execution_count": 124,
   "id": "6cb364ae",
   "metadata": {
    "ExecuteTime": {
     "end_time": "2023-04-10T15:57:12.095754Z",
     "start_time": "2023-04-10T15:57:11.939228Z"
    }
   },
   "outputs": [
    {
     "data": {
      "text/plain": [
       "<AxesSubplot:>"
      ]
     },
     "execution_count": 124,
     "metadata": {},
     "output_type": "execute_result"
    },
    {
     "data": {
      "image/png": "[encoded data removed]",
      "text/plain": [
       "<Figure size 400x400 with 1 Axes>"
      ]
     },
     "metadata": {},
     "output_type": "display_data"
    }
   ],
   "source": [
    "r1_xp = (df_train_features_extended['r1_xp']/df_train_features_extended.game_time).fillna(1).replace({np.inf:1})\n",
    "\n",
    "fig, ax = plt.subplots(figsize=(4,4))\n",
    "sns.boxplot(\n",
    "    x=y,\n",
    "    y=r1_xp,\n",
    "    ax=ax\n",
    ")"
   ]
  },
  {
   "cell_type": "code",
   "execution_count": 117,
   "id": "23cf9efa",
   "metadata": {
    "ExecuteTime": {
     "end_time": "2023-04-10T15:55:08.243794Z",
     "start_time": "2023-04-10T15:55:08.235204Z"
    }
   },
   "outputs": [
    {
     "data": {
      "text/plain": [
       "17"
      ]
     },
     "execution_count": 117,
     "metadata": {},
     "output_type": "execute_result"
    }
   ],
   "source": [
    "(r1_xp/r1_xp.max()).isna().sum()"
   ]
  },
  {
   "cell_type": "code",
   "execution_count": 126,
   "id": "cb1c28f8",
   "metadata": {
    "ExecuteTime": {
     "end_time": "2023-04-10T15:57:20.405697Z",
     "start_time": "2023-04-10T15:57:20.380498Z"
    },
    "scrolled": true
   },
   "outputs": [
    {
     "data": {
      "text/plain": [
       "0.5362767584891326"
      ]
     },
     "execution_count": 126,
     "metadata": {},
     "output_type": "execute_result"
    }
   ],
   "source": [
    "# скор, если делать классификатор чисто по одной переменной\n",
    "roc_auc_score(y, r1_xp/r1_xp.max())"
   ]
  },
  {
   "cell_type": "markdown",
   "id": "26d7eb13",
   "metadata": {},
   "source": [
    "Возьмём сумму прокачек"
   ]
  },
  {
   "cell_type": "code",
   "execution_count": 127,
   "id": "2965b20a",
   "metadata": {
    "ExecuteTime": {
     "end_time": "2023-04-10T15:59:11.441665Z",
     "start_time": "2023-04-10T15:59:11.283574Z"
    }
   },
   "outputs": [
    {
     "data": {
      "text/plain": [
       "<AxesSubplot:>"
      ]
     },
     "execution_count": 127,
     "metadata": {},
     "output_type": "execute_result"
    },
    {
     "data": {
      "image/png": "[encoded data removed]",
      "text/plain": [
       "<Figure size 400x400 with 1 Axes>"
      ]
     },
     "metadata": {},
     "output_type": "display_data"
    }
   ],
   "source": [
    "r_xps = pd.Series(0, index = df_train_features_extended.index)\n",
    "for i in range(1,6):\n",
    "    r_xps += df_train_features_extended[f'r{i}_xp']\n",
    "r_xps = (r_xps/df_train_features_extended.game_time).fillna(1).replace({np.inf:1})\n",
    "\n",
    "fig, ax = plt.subplots(figsize=(4,4))\n",
    "sns.boxplot(\n",
    "    x=y,\n",
    "    y=r_xps,\n",
    "    ax=ax\n",
    ")"
   ]
  },
  {
   "cell_type": "code",
   "execution_count": 128,
   "id": "19fa6fcb",
   "metadata": {
    "ExecuteTime": {
     "end_time": "2023-04-10T16:00:01.596292Z",
     "start_time": "2023-04-10T16:00:01.573787Z"
    },
    "scrolled": true
   },
   "outputs": [
    {
     "data": {
      "text/plain": [
       "0.5564308990743773"
      ]
     },
     "execution_count": 128,
     "metadata": {},
     "output_type": "execute_result"
    }
   ],
   "source": [
    "# скор, если делать классификатор чисто по одной переменной\n",
    "roc_auc_score(y, r_xps/r_xps.max())"
   ]
  },
  {
   "cell_type": "markdown",
   "id": "455e881e",
   "metadata": {},
   "source": [
    "### test pile of features"
   ]
  },
  {
   "cell_type": "code",
   "execution_count": 147,
   "id": "eaea6f7a",
   "metadata": {
    "ExecuteTime": {
     "end_time": "2023-04-10T16:43:13.899812Z",
     "start_time": "2023-04-10T16:43:13.844204Z"
    }
   },
   "outputs": [
    {
     "data": {
      "text/html": [
       "<div>\n",
       "<style scoped>\n",
       "    .dataframe tbody tr th:only-of-type {\n",
       "        vertical-align: middle;\n",
       "    }\n",
       "\n",
       "    .dataframe tbody tr th {\n",
       "        vertical-align: top;\n",
       "    }\n",
       "\n",
       "    .dataframe thead th {\n",
       "        text-align: right;\n",
       "    }\n",
       "</style>\n",
       "<table border=\"1\" class=\"dataframe\">\n",
       "  <thead>\n",
       "    <tr style=\"text-align: right;\">\n",
       "      <th></th>\n",
       "      <th>game_time</th>\n",
       "      <th>game_mode</th>\n",
       "      <th>lobby_type</th>\n",
       "      <th>objectives_len</th>\n",
       "      <th>chat_len</th>\n",
       "      <th>r1_hero_id</th>\n",
       "      <th>r1_kills</th>\n",
       "      <th>r1_deaths</th>\n",
       "      <th>r1_assists</th>\n",
       "      <th>r1_denies</th>\n",
       "      <th>...</th>\n",
       "      <th>d9_multi_kills</th>\n",
       "      <th>d10_ability_uses</th>\n",
       "      <th>d10_healing</th>\n",
       "      <th>d10_gold_remaining</th>\n",
       "      <th>d10_hero_hits</th>\n",
       "      <th>d10_damage</th>\n",
       "      <th>d10_multi_kills</th>\n",
       "      <th>kda_d_cum</th>\n",
       "      <th>kda_r_cum</th>\n",
       "      <th>kda_norm_diff</th>\n",
       "    </tr>\n",
       "    <tr>\n",
       "      <th>match_id_hash</th>\n",
       "      <th></th>\n",
       "      <th></th>\n",
       "      <th></th>\n",
       "      <th></th>\n",
       "      <th></th>\n",
       "      <th></th>\n",
       "      <th></th>\n",
       "      <th></th>\n",
       "      <th></th>\n",
       "      <th></th>\n",
       "      <th></th>\n",
       "      <th></th>\n",
       "      <th></th>\n",
       "      <th></th>\n",
       "      <th></th>\n",
       "      <th></th>\n",
       "      <th></th>\n",
       "      <th></th>\n",
       "      <th></th>\n",
       "      <th></th>\n",
       "      <th></th>\n",
       "    </tr>\n",
       "  </thead>\n",
       "  <tbody>\n",
       "    <tr>\n",
       "      <th>b9c57c450ce74a2af79c9ce96fac144d</th>\n",
       "      <td>658</td>\n",
       "      <td>4</td>\n",
       "      <td>0</td>\n",
       "      <td>3</td>\n",
       "      <td>10</td>\n",
       "      <td>15</td>\n",
       "      <td>7</td>\n",
       "      <td>2</td>\n",
       "      <td>0</td>\n",
       "      <td>7</td>\n",
       "      <td>...</td>\n",
       "      <td>0.0</td>\n",
       "      <td>7.0</td>\n",
       "      <td>245.0</td>\n",
       "      <td>1818.0</td>\n",
       "      <td>18.0</td>\n",
       "      <td>2308.0</td>\n",
       "      <td>0.0</td>\n",
       "      <td>0.375000</td>\n",
       "      <td>7.500000</td>\n",
       "      <td>0.904762</td>\n",
       "    </tr>\n",
       "    <tr>\n",
       "      <th>6db558535151ea18ca70a6892197db41</th>\n",
       "      <td>21</td>\n",
       "      <td>23</td>\n",
       "      <td>0</td>\n",
       "      <td>0</td>\n",
       "      <td>0</td>\n",
       "      <td>101</td>\n",
       "      <td>0</td>\n",
       "      <td>0</td>\n",
       "      <td>0</td>\n",
       "      <td>0</td>\n",
       "      <td>...</td>\n",
       "      <td>0.0</td>\n",
       "      <td>0.0</td>\n",
       "      <td>0.0</td>\n",
       "      <td>640.0</td>\n",
       "      <td>0.0</td>\n",
       "      <td>0.0</td>\n",
       "      <td>0.0</td>\n",
       "      <td>0.000000</td>\n",
       "      <td>0.000000</td>\n",
       "      <td>0.000000</td>\n",
       "    </tr>\n",
       "    <tr>\n",
       "      <th>19c39fe2af2b547e48708ca005c6ae74</th>\n",
       "      <td>160</td>\n",
       "      <td>22</td>\n",
       "      <td>7</td>\n",
       "      <td>0</td>\n",
       "      <td>0</td>\n",
       "      <td>57</td>\n",
       "      <td>0</td>\n",
       "      <td>0</td>\n",
       "      <td>0</td>\n",
       "      <td>1</td>\n",
       "      <td>...</td>\n",
       "      <td>0.0</td>\n",
       "      <td>2.0</td>\n",
       "      <td>0.0</td>\n",
       "      <td>774.0</td>\n",
       "      <td>0.0</td>\n",
       "      <td>4496.0</td>\n",
       "      <td>0.0</td>\n",
       "      <td>0.000000</td>\n",
       "      <td>0.000000</td>\n",
       "      <td>0.000000</td>\n",
       "    </tr>\n",
       "    <tr>\n",
       "      <th>c96d629dc0c39f0c616d1949938a6ba6</th>\n",
       "      <td>1016</td>\n",
       "      <td>22</td>\n",
       "      <td>0</td>\n",
       "      <td>1</td>\n",
       "      <td>0</td>\n",
       "      <td>119</td>\n",
       "      <td>0</td>\n",
       "      <td>3</td>\n",
       "      <td>3</td>\n",
       "      <td>5</td>\n",
       "      <td>...</td>\n",
       "      <td>0.0</td>\n",
       "      <td>32.0</td>\n",
       "      <td>75.0</td>\n",
       "      <td>1759.0</td>\n",
       "      <td>36.0</td>\n",
       "      <td>4682.0</td>\n",
       "      <td>0.0</td>\n",
       "      <td>2.400000</td>\n",
       "      <td>1.750000</td>\n",
       "      <td>-0.156627</td>\n",
       "    </tr>\n",
       "    <tr>\n",
       "      <th>156c88bff4e9c4668b0f53df3d870f1b</th>\n",
       "      <td>582</td>\n",
       "      <td>22</td>\n",
       "      <td>7</td>\n",
       "      <td>2</td>\n",
       "      <td>2</td>\n",
       "      <td>12</td>\n",
       "      <td>3</td>\n",
       "      <td>1</td>\n",
       "      <td>2</td>\n",
       "      <td>9</td>\n",
       "      <td>...</td>\n",
       "      <td>0.0</td>\n",
       "      <td>19.0</td>\n",
       "      <td>0.0</td>\n",
       "      <td>1256.0</td>\n",
       "      <td>70.0</td>\n",
       "      <td>2156.0</td>\n",
       "      <td>0.0</td>\n",
       "      <td>3.333333</td>\n",
       "      <td>1.300000</td>\n",
       "      <td>-0.438849</td>\n",
       "    </tr>\n",
       "    <tr>\n",
       "      <th>...</th>\n",
       "      <td>...</td>\n",
       "      <td>...</td>\n",
       "      <td>...</td>\n",
       "      <td>...</td>\n",
       "      <td>...</td>\n",
       "      <td>...</td>\n",
       "      <td>...</td>\n",
       "      <td>...</td>\n",
       "      <td>...</td>\n",
       "      <td>...</td>\n",
       "      <td>...</td>\n",
       "      <td>...</td>\n",
       "      <td>...</td>\n",
       "      <td>...</td>\n",
       "      <td>...</td>\n",
       "      <td>...</td>\n",
       "      <td>...</td>\n",
       "      <td>...</td>\n",
       "      <td>...</td>\n",
       "      <td>...</td>\n",
       "      <td>...</td>\n",
       "    </tr>\n",
       "    <tr>\n",
       "      <th>b794aa55646841a03c7783226e6f6bc8</th>\n",
       "      <td>2666</td>\n",
       "      <td>22</td>\n",
       "      <td>0</td>\n",
       "      <td>23</td>\n",
       "      <td>8</td>\n",
       "      <td>99</td>\n",
       "      <td>9</td>\n",
       "      <td>11</td>\n",
       "      <td>9</td>\n",
       "      <td>3</td>\n",
       "      <td>...</td>\n",
       "      <td>3.0</td>\n",
       "      <td>105.0</td>\n",
       "      <td>11777.0</td>\n",
       "      <td>13234.0</td>\n",
       "      <td>204.0</td>\n",
       "      <td>122171.0</td>\n",
       "      <td>0.0</td>\n",
       "      <td>3.647059</td>\n",
       "      <td>2.195122</td>\n",
       "      <td>-0.248527</td>\n",
       "    </tr>\n",
       "    <tr>\n",
       "      <th>308faee28efee2e66b39f9f2ba6ea9cf</th>\n",
       "      <td>2525</td>\n",
       "      <td>22</td>\n",
       "      <td>0</td>\n",
       "      <td>15</td>\n",
       "      <td>5</td>\n",
       "      <td>22</td>\n",
       "      <td>3</td>\n",
       "      <td>9</td>\n",
       "      <td>14</td>\n",
       "      <td>3</td>\n",
       "      <td>...</td>\n",
       "      <td>0.0</td>\n",
       "      <td>91.0</td>\n",
       "      <td>680.0</td>\n",
       "      <td>3791.0</td>\n",
       "      <td>60.0</td>\n",
       "      <td>20769.0</td>\n",
       "      <td>0.0</td>\n",
       "      <td>1.178571</td>\n",
       "      <td>3.315789</td>\n",
       "      <td>0.475533</td>\n",
       "    </tr>\n",
       "    <tr>\n",
       "      <th>6066cc7417b43c749d551e123d00f0c8</th>\n",
       "      <td>1002</td>\n",
       "      <td>4</td>\n",
       "      <td>0</td>\n",
       "      <td>4</td>\n",
       "      <td>0</td>\n",
       "      <td>1</td>\n",
       "      <td>1</td>\n",
       "      <td>2</td>\n",
       "      <td>1</td>\n",
       "      <td>0</td>\n",
       "      <td>...</td>\n",
       "      <td>1.0</td>\n",
       "      <td>38.0</td>\n",
       "      <td>1952.0</td>\n",
       "      <td>6477.0</td>\n",
       "      <td>82.0</td>\n",
       "      <td>42011.0</td>\n",
       "      <td>0.0</td>\n",
       "      <td>6.428571</td>\n",
       "      <td>0.944444</td>\n",
       "      <td>-0.743811</td>\n",
       "    </tr>\n",
       "    <tr>\n",
       "      <th>bc7a87ed5f9c2bca55f9f7a93da0b0c5</th>\n",
       "      <td>377</td>\n",
       "      <td>22</td>\n",
       "      <td>7</td>\n",
       "      <td>1</td>\n",
       "      <td>0</td>\n",
       "      <td>14</td>\n",
       "      <td>0</td>\n",
       "      <td>2</td>\n",
       "      <td>1</td>\n",
       "      <td>1</td>\n",
       "      <td>...</td>\n",
       "      <td>0.0</td>\n",
       "      <td>3.0</td>\n",
       "      <td>85.0</td>\n",
       "      <td>3223.0</td>\n",
       "      <td>26.0</td>\n",
       "      <td>7248.0</td>\n",
       "      <td>0.0</td>\n",
       "      <td>1.500000</td>\n",
       "      <td>1.666667</td>\n",
       "      <td>0.052632</td>\n",
       "    </tr>\n",
       "    <tr>\n",
       "      <th>e2ca68ac1a6847f4a37f6c9c8ee8695b</th>\n",
       "      <td>643</td>\n",
       "      <td>22</td>\n",
       "      <td>7</td>\n",
       "      <td>1</td>\n",
       "      <td>23</td>\n",
       "      <td>63</td>\n",
       "      <td>1</td>\n",
       "      <td>4</td>\n",
       "      <td>0</td>\n",
       "      <td>2</td>\n",
       "      <td>...</td>\n",
       "      <td>0.0</td>\n",
       "      <td>33.0</td>\n",
       "      <td>480.0</td>\n",
       "      <td>5056.0</td>\n",
       "      <td>91.0</td>\n",
       "      <td>35427.0</td>\n",
       "      <td>0.0</td>\n",
       "      <td>7.250000</td>\n",
       "      <td>0.350000</td>\n",
       "      <td>-0.907895</td>\n",
       "    </tr>\n",
       "  </tbody>\n",
       "</table>\n",
       "<p>31698 rows × 311 columns</p>\n",
       "</div>"
      ],
      "text/plain": [
       "                                  game_time  game_mode  lobby_type  \\\n",
       "match_id_hash                                                        \n",
       "b9c57c450ce74a2af79c9ce96fac144d        658          4           0   \n",
       "6db558535151ea18ca70a6892197db41         21         23           0   \n",
       "19c39fe2af2b547e48708ca005c6ae74        160         22           7   \n",
       "c96d629dc0c39f0c616d1949938a6ba6       1016         22           0   \n",
       "156c88bff4e9c4668b0f53df3d870f1b        582         22           7   \n",
       "...                                     ...        ...         ...   \n",
       "b794aa55646841a03c7783226e6f6bc8       2666         22           0   \n",
       "308faee28efee2e66b39f9f2ba6ea9cf       2525         22           0   \n",
       "6066cc7417b43c749d551e123d00f0c8       1002          4           0   \n",
       "bc7a87ed5f9c2bca55f9f7a93da0b0c5        377         22           7   \n",
       "e2ca68ac1a6847f4a37f6c9c8ee8695b        643         22           7   \n",
       "\n",
       "                                  objectives_len  chat_len  r1_hero_id  \\\n",
       "match_id_hash                                                            \n",
       "b9c57c450ce74a2af79c9ce96fac144d               3        10          15   \n",
       "6db558535151ea18ca70a6892197db41               0         0         101   \n",
       "19c39fe2af2b547e48708ca005c6ae74               0         0          57   \n",
       "c96d629dc0c39f0c616d1949938a6ba6               1         0         119   \n",
       "156c88bff4e9c4668b0f53df3d870f1b               2         2          12   \n",
       "...                                          ...       ...         ...   \n",
       "b794aa55646841a03c7783226e6f6bc8              23         8          99   \n",
       "308faee28efee2e66b39f9f2ba6ea9cf              15         5          22   \n",
       "6066cc7417b43c749d551e123d00f0c8               4         0           1   \n",
       "bc7a87ed5f9c2bca55f9f7a93da0b0c5               1         0          14   \n",
       "e2ca68ac1a6847f4a37f6c9c8ee8695b               1        23          63   \n",
       "\n",
       "                                  r1_kills  r1_deaths  r1_assists  r1_denies  \\\n",
       "match_id_hash                                                                  \n",
       "b9c57c450ce74a2af79c9ce96fac144d         7          2           0          7   \n",
       "6db558535151ea18ca70a6892197db41         0          0           0          0   \n",
       "19c39fe2af2b547e48708ca005c6ae74         0          0           0          1   \n",
       "c96d629dc0c39f0c616d1949938a6ba6         0          3           3          5   \n",
       "156c88bff4e9c4668b0f53df3d870f1b         3          1           2          9   \n",
       "...                                    ...        ...         ...        ...   \n",
       "b794aa55646841a03c7783226e6f6bc8         9         11           9          3   \n",
       "308faee28efee2e66b39f9f2ba6ea9cf         3          9          14          3   \n",
       "6066cc7417b43c749d551e123d00f0c8         1          2           1          0   \n",
       "bc7a87ed5f9c2bca55f9f7a93da0b0c5         0          2           1          1   \n",
       "e2ca68ac1a6847f4a37f6c9c8ee8695b         1          4           0          2   \n",
       "\n",
       "                                  ...  d9_multi_kills  d10_ability_uses  \\\n",
       "match_id_hash                     ...                                     \n",
       "b9c57c450ce74a2af79c9ce96fac144d  ...             0.0               7.0   \n",
       "6db558535151ea18ca70a6892197db41  ...             0.0               0.0   \n",
       "19c39fe2af2b547e48708ca005c6ae74  ...             0.0               2.0   \n",
       "c96d629dc0c39f0c616d1949938a6ba6  ...             0.0              32.0   \n",
       "156c88bff4e9c4668b0f53df3d870f1b  ...             0.0              19.0   \n",
       "...                               ...             ...               ...   \n",
       "b794aa55646841a03c7783226e6f6bc8  ...             3.0             105.0   \n",
       "308faee28efee2e66b39f9f2ba6ea9cf  ...             0.0              91.0   \n",
       "6066cc7417b43c749d551e123d00f0c8  ...             1.0              38.0   \n",
       "bc7a87ed5f9c2bca55f9f7a93da0b0c5  ...             0.0               3.0   \n",
       "e2ca68ac1a6847f4a37f6c9c8ee8695b  ...             0.0              33.0   \n",
       "\n",
       "                                  d10_healing  d10_gold_remaining  \\\n",
       "match_id_hash                                                       \n",
       "b9c57c450ce74a2af79c9ce96fac144d        245.0              1818.0   \n",
       "6db558535151ea18ca70a6892197db41          0.0               640.0   \n",
       "19c39fe2af2b547e48708ca005c6ae74          0.0               774.0   \n",
       "c96d629dc0c39f0c616d1949938a6ba6         75.0              1759.0   \n",
       "156c88bff4e9c4668b0f53df3d870f1b          0.0              1256.0   \n",
       "...                                       ...                 ...   \n",
       "b794aa55646841a03c7783226e6f6bc8      11777.0             13234.0   \n",
       "308faee28efee2e66b39f9f2ba6ea9cf        680.0              3791.0   \n",
       "6066cc7417b43c749d551e123d00f0c8       1952.0              6477.0   \n",
       "bc7a87ed5f9c2bca55f9f7a93da0b0c5         85.0              3223.0   \n",
       "e2ca68ac1a6847f4a37f6c9c8ee8695b        480.0              5056.0   \n",
       "\n",
       "                                  d10_hero_hits  d10_damage  d10_multi_kills  \\\n",
       "match_id_hash                                                                  \n",
       "b9c57c450ce74a2af79c9ce96fac144d           18.0      2308.0              0.0   \n",
       "6db558535151ea18ca70a6892197db41            0.0         0.0              0.0   \n",
       "19c39fe2af2b547e48708ca005c6ae74            0.0      4496.0              0.0   \n",
       "c96d629dc0c39f0c616d1949938a6ba6           36.0      4682.0              0.0   \n",
       "156c88bff4e9c4668b0f53df3d870f1b           70.0      2156.0              0.0   \n",
       "...                                         ...         ...              ...   \n",
       "b794aa55646841a03c7783226e6f6bc8          204.0    122171.0              0.0   \n",
       "308faee28efee2e66b39f9f2ba6ea9cf           60.0     20769.0              0.0   \n",
       "6066cc7417b43c749d551e123d00f0c8           82.0     42011.0              0.0   \n",
       "bc7a87ed5f9c2bca55f9f7a93da0b0c5           26.0      7248.0              0.0   \n",
       "e2ca68ac1a6847f4a37f6c9c8ee8695b           91.0     35427.0              0.0   \n",
       "\n",
       "                                  kda_d_cum  kda_r_cum  kda_norm_diff  \n",
       "match_id_hash                                                          \n",
       "b9c57c450ce74a2af79c9ce96fac144d   0.375000   7.500000       0.904762  \n",
       "6db558535151ea18ca70a6892197db41   0.000000   0.000000       0.000000  \n",
       "19c39fe2af2b547e48708ca005c6ae74   0.000000   0.000000       0.000000  \n",
       "c96d629dc0c39f0c616d1949938a6ba6   2.400000   1.750000      -0.156627  \n",
       "156c88bff4e9c4668b0f53df3d870f1b   3.333333   1.300000      -0.438849  \n",
       "...                                     ...        ...            ...  \n",
       "b794aa55646841a03c7783226e6f6bc8   3.647059   2.195122      -0.248527  \n",
       "308faee28efee2e66b39f9f2ba6ea9cf   1.178571   3.315789       0.475533  \n",
       "6066cc7417b43c749d551e123d00f0c8   6.428571   0.944444      -0.743811  \n",
       "bc7a87ed5f9c2bca55f9f7a93da0b0c5   1.500000   1.666667       0.052632  \n",
       "e2ca68ac1a6847f4a37f6c9c8ee8695b   7.250000   0.350000      -0.907895  \n",
       "\n",
       "[31698 rows x 311 columns]"
      ]
     },
     "execution_count": 147,
     "metadata": {},
     "output_type": "execute_result"
    }
   ],
   "source": [
    "df_train_features_extended"
   ]
  },
  {
   "cell_type": "code",
   "execution_count": 149,
   "id": "b7fc2a6d",
   "metadata": {
    "ExecuteTime": {
     "end_time": "2023-04-10T16:52:15.788115Z",
     "start_time": "2023-04-10T16:44:45.215635Z"
    }
   },
   "outputs": [
    {
     "data": {
      "text/html": [
       "<style>#sk-container-id-2 {color: black;background-color: white;}#sk-container-id-2 pre{padding: 0;}#sk-container-id-2 div.sk-toggleable {background-color: white;}#sk-container-id-2 label.sk-toggleable__label {cursor: pointer;display: block;width: 100%;margin-bottom: 0;padding: 0.3em;box-sizing: border-box;text-align: center;}#sk-container-id-2 label.sk-toggleable__label-arrow:before {content: \"▸\";float: left;margin-right: 0.25em;color: #696969;}#sk-container-id-2 label.sk-toggleable__label-arrow:hover:before {color: black;}#sk-container-id-2 div.sk-estimator:hover label.sk-toggleable__label-arrow:before {color: black;}#sk-container-id-2 div.sk-toggleable__content {max-height: 0;max-width: 0;overflow: hidden;text-align: left;background-color: #f0f8ff;}#sk-container-id-2 div.sk-toggleable__content pre {margin: 0.2em;color: black;border-radius: 0.25em;background-color: #f0f8ff;}#sk-container-id-2 input.sk-toggleable__control:checked~div.sk-toggleable__content {max-height: 200px;max-width: 100%;overflow: auto;}#sk-container-id-2 input.sk-toggleable__control:checked~label.sk-toggleable__label-arrow:before {content: \"▾\";}#sk-container-id-2 div.sk-estimator input.sk-toggleable__control:checked~label.sk-toggleable__label {background-color: #d4ebff;}#sk-container-id-2 div.sk-label input.sk-toggleable__control:checked~label.sk-toggleable__label {background-color: #d4ebff;}#sk-container-id-2 input.sk-hidden--visually {border: 0;clip: rect(1px 1px 1px 1px);clip: rect(1px, 1px, 1px, 1px);height: 1px;margin: -1px;overflow: hidden;padding: 0;position: absolute;width: 1px;}#sk-container-id-2 div.sk-estimator {font-family: monospace;background-color: #f0f8ff;border: 1px dotted black;border-radius: 0.25em;box-sizing: border-box;margin-bottom: 0.5em;}#sk-container-id-2 div.sk-estimator:hover {background-color: #d4ebff;}#sk-container-id-2 div.sk-parallel-item::after {content: \"\";width: 100%;border-bottom: 1px solid gray;flex-grow: 1;}#sk-container-id-2 div.sk-label:hover label.sk-toggleable__label {background-color: #d4ebff;}#sk-container-id-2 div.sk-serial::before {content: \"\";position: absolute;border-left: 1px solid gray;box-sizing: border-box;top: 0;bottom: 0;left: 50%;z-index: 0;}#sk-container-id-2 div.sk-serial {display: flex;flex-direction: column;align-items: center;background-color: white;padding-right: 0.2em;padding-left: 0.2em;position: relative;}#sk-container-id-2 div.sk-item {position: relative;z-index: 1;}#sk-container-id-2 div.sk-parallel {display: flex;align-items: stretch;justify-content: center;background-color: white;position: relative;}#sk-container-id-2 div.sk-item::before, #sk-container-id-2 div.sk-parallel-item::before {content: \"\";position: absolute;border-left: 1px solid gray;box-sizing: border-box;top: 0;bottom: 0;left: 50%;z-index: -1;}#sk-container-id-2 div.sk-parallel-item {display: flex;flex-direction: column;z-index: 1;position: relative;background-color: white;}#sk-container-id-2 div.sk-parallel-item:first-child::after {align-self: flex-end;width: 50%;}#sk-container-id-2 div.sk-parallel-item:last-child::after {align-self: flex-start;width: 50%;}#sk-container-id-2 div.sk-parallel-item:only-child::after {width: 0;}#sk-container-id-2 div.sk-dashed-wrapped {border: 1px dashed gray;margin: 0 0.4em 0.5em 0.4em;box-sizing: border-box;padding-bottom: 0.4em;background-color: white;}#sk-container-id-2 div.sk-label label {font-family: monospace;font-weight: bold;display: inline-block;line-height: 1.2em;}#sk-container-id-2 div.sk-label-container {text-align: center;}#sk-container-id-2 div.sk-container {/* jupyter's `normalize.less` sets `[hidden] { display: none; }` but bootstrap.min.css set `[hidden] { display: none !important; }` so we also need the `!important` here to be able to override the default hidden behavior on the sphinx rendered scikit-learn.org. See: https://github.com/scikit-learn/scikit-learn/issues/21755 */display: inline-block !important;position: relative;}#sk-container-id-2 div.sk-text-repr-fallback {display: none;}</style><div id=\"sk-container-id-2\" class=\"sk-top-container\"><div class=\"sk-text-repr-fallback\"><pre>GridSearchCV(cv=ShuffleSplit(n_splits=5, random_state=10801, test_size=0.3, train_size=None),\n",
       "             estimator=LGBMClassifier(random_state=10801), n_jobs=20,\n",
       "             param_grid={&#x27;max_depth&#x27;: [-1, 15, 20, 30, 50],\n",
       "                         &#x27;n_estimators&#x27;: [50, 100, 200, 300, 400],\n",
       "                         &#x27;num_leaves&#x27;: [20, 31, 40, 50]},\n",
       "             scoring=&#x27;roc_auc&#x27;)</pre><b>In a Jupyter environment, please rerun this cell to show the HTML representation or trust the notebook. <br />On GitHub, the HTML representation is unable to render, please try loading this page with nbviewer.org.</b></div><div class=\"sk-container\" hidden><div class=\"sk-item sk-dashed-wrapped\"><div class=\"sk-label-container\"><div class=\"sk-label sk-toggleable\"><input class=\"sk-toggleable__control sk-hidden--visually\" id=\"sk-estimator-id-2\" type=\"checkbox\" ><label for=\"sk-estimator-id-2\" class=\"sk-toggleable__label sk-toggleable__label-arrow\">GridSearchCV</label><div class=\"sk-toggleable__content\"><pre>GridSearchCV(cv=ShuffleSplit(n_splits=5, random_state=10801, test_size=0.3, train_size=None),\n",
       "             estimator=LGBMClassifier(random_state=10801), n_jobs=20,\n",
       "             param_grid={&#x27;max_depth&#x27;: [-1, 15, 20, 30, 50],\n",
       "                         &#x27;n_estimators&#x27;: [50, 100, 200, 300, 400],\n",
       "                         &#x27;num_leaves&#x27;: [20, 31, 40, 50]},\n",
       "             scoring=&#x27;roc_auc&#x27;)</pre></div></div></div><div class=\"sk-parallel\"><div class=\"sk-parallel-item\"><div class=\"sk-item\"><div class=\"sk-label-container\"><div class=\"sk-label sk-toggleable\"><input class=\"sk-toggleable__control sk-hidden--visually\" id=\"sk-estimator-id-3\" type=\"checkbox\" ><label for=\"sk-estimator-id-3\" class=\"sk-toggleable__label sk-toggleable__label-arrow\">estimator: LGBMClassifier</label><div class=\"sk-toggleable__content\"><pre>LGBMClassifier(random_state=10801)</pre></div></div></div><div class=\"sk-serial\"><div class=\"sk-item\"><div class=\"sk-estimator sk-toggleable\"><input class=\"sk-toggleable__control sk-hidden--visually\" id=\"sk-estimator-id-4\" type=\"checkbox\" ><label for=\"sk-estimator-id-4\" class=\"sk-toggleable__label sk-toggleable__label-arrow\">LGBMClassifier</label><div class=\"sk-toggleable__content\"><pre>LGBMClassifier(random_state=10801)</pre></div></div></div></div></div></div></div></div></div></div>"
      ],
      "text/plain": [
       "GridSearchCV(cv=ShuffleSplit(n_splits=5, random_state=10801, test_size=0.3, train_size=None),\n",
       "             estimator=LGBMClassifier(random_state=10801), n_jobs=20,\n",
       "             param_grid={'max_depth': [-1, 15, 20, 30, 50],\n",
       "                         'n_estimators': [50, 100, 200, 300, 400],\n",
       "                         'num_leaves': [20, 31, 40, 50]},\n",
       "             scoring='roc_auc')"
      ]
     },
     "execution_count": 149,
     "metadata": {},
     "output_type": "execute_result"
    }
   ],
   "source": [
    "params = {\"num_leaves\": [20, 31, 40, 50], 'max_depth': [-1,15, 20, 30, 50], 'n_estimators': [50, 100, 200, 300, 400]}\n",
    "\n",
    "\n",
    "lgbm_model = lgbm\n",
    "\n",
    "rf_search = GridSearchCV(lgbm_model, params, scoring = 'roc_auc', cv = cv, n_jobs=20)\n",
    "\n",
    "rf_search.fit(df_train_features_extended.values, y)"
   ]
  },
  {
   "cell_type": "code",
   "execution_count": 150,
   "id": "ed03090d",
   "metadata": {
    "ExecuteTime": {
     "end_time": "2023-04-10T16:53:38.028006Z",
     "start_time": "2023-04-10T16:53:38.018517Z"
    }
   },
   "outputs": [
    {
     "data": {
      "text/plain": [
       "0.7981139587975513"
      ]
     },
     "execution_count": 150,
     "metadata": {},
     "output_type": "execute_result"
    }
   ],
   "source": [
    "max(rf_search.cv_results_['mean_test_score'])"
   ]
  },
  {
   "cell_type": "code",
   "execution_count": 151,
   "id": "8f8f5c48",
   "metadata": {
    "ExecuteTime": {
     "end_time": "2023-04-10T16:53:46.506575Z",
     "start_time": "2023-04-10T16:53:46.499223Z"
    },
    "scrolled": true
   },
   "outputs": [
    {
     "data": {
      "text/plain": [
       "{'max_depth': -1, 'n_estimators': 200, 'num_leaves': 31}"
      ]
     },
     "execution_count": 151,
     "metadata": {},
     "output_type": "execute_result"
    },
    {
     "name": "stdout",
     "output_type": "stream",
     "text": [
      "[LightGBM] [Warning] Accuracy may be bad since you didn't set num_leaves and 2^max_depth > num_leaves\n",
      "[LightGBM] [Warning] Accuracy may be bad since you didn't set num_leaves and 2^max_depth > num_leaves\n",
      "[LightGBM] [Warning] Accuracy may be bad since you didn't set num_leaves and 2^max_depth > num_leaves\n",
      "[LightGBM] [Warning] Accuracy may be bad since you didn't set num_leaves and 2^max_depth > num_leaves\n",
      "[LightGBM] [Warning] Accuracy may be bad since you didn't set num_leaves and 2^max_depth > num_leaves\n",
      "[LightGBM] [Warning] Accuracy may be bad since you didn't set num_leaves and 2^max_depth > num_leaves\n",
      "[LightGBM] [Warning] Accuracy may be bad since you didn't set num_leaves and 2^max_depth > num_leaves\n",
      "[LightGBM] [Warning] Accuracy may be bad since you didn't set num_leaves and 2^max_depth > num_leaves\n",
      "[LightGBM] [Warning] Accuracy may be bad since you didn't set num_leaves and 2^max_depth > num_leaves\n",
      "[LightGBM] [Warning] Accuracy may be bad since you didn't set num_leaves and 2^max_depth > num_leaves\n",
      "[LightGBM] [Warning] Accuracy may be bad since you didn't set num_leaves and 2^max_depth > num_leaves\n",
      "[LightGBM] [Warning] Accuracy may be bad since you didn't set num_leaves and 2^max_depth > num_leaves\n",
      "[LightGBM] [Warning] Accuracy may be bad since you didn't set num_leaves and 2^max_depth > num_leaves\n",
      "[LightGBM] [Warning] Accuracy may be bad since you didn't set num_leaves and 2^max_depth > num_leaves\n",
      "[LightGBM] [Warning] Accuracy may be bad since you didn't set num_leaves and 2^max_depth > num_leaves\n",
      "[LightGBM] [Warning] Accuracy may be bad since you didn't set num_leaves and 2^max_depth > num_leaves\n",
      "[LightGBM] [Warning] Accuracy may be bad since you didn't set num_leaves and 2^max_depth > num_leaves\n",
      "[LightGBM] [Warning] Accuracy may be bad since you didn't set num_leaves and 2^max_depth > num_leaves\n",
      "[LightGBM] [Warning] Accuracy may be bad since you didn't set num_leaves and 2^max_depth > num_leaves\n",
      "[LightGBM] [Warning] Accuracy may be bad since you didn't set num_leaves and 2^max_depth > num_leaves\n",
      "[LightGBM] [Warning] Accuracy may be bad since you didn't set num_leaves and 2^max_depth > num_leaves\n",
      "[LightGBM] [Warning] Accuracy may be bad since you didn't set num_leaves and 2^max_depth > num_leaves\n",
      "[LightGBM] [Warning] Accuracy may be bad since you didn't set num_leaves and 2^max_depth > num_leaves\n",
      "[LightGBM] [Warning] Accuracy may be bad since you didn't set num_leaves and 2^max_depth > num_leaves\n",
      "[LightGBM] [Warning] Accuracy may be bad since you didn't set num_leaves and 2^max_depth > num_leaves\n",
      "[LightGBM] [Warning] Accuracy may be bad since you didn't set num_leaves and 2^max_depth > num_leaves\n",
      "[LightGBM] [Warning] Accuracy may be bad since you didn't set num_leaves and 2^max_depth > num_leaves\n",
      "[LightGBM] [Warning] Accuracy may be bad since you didn't set num_leaves and 2^max_depth > num_leaves\n",
      "[LightGBM] [Warning] Accuracy may be bad since you didn't set num_leaves and 2^max_depth > num_leaves\n",
      "[LightGBM] [Warning] Accuracy may be bad since you didn't set num_leaves and 2^max_depth > num_leaves\n",
      "[LightGBM] [Warning] Accuracy may be bad since you didn't set num_leaves and 2^max_depth > num_leaves\n",
      "[LightGBM] [Warning] Accuracy may be bad since you didn't set num_leaves and 2^max_depth > num_leaves\n",
      "[LightGBM] [Warning] Accuracy may be bad since you didn't set num_leaves and 2^max_depth > num_leaves\n",
      "[LightGBM] [Warning] Accuracy may be bad since you didn't set num_leaves and 2^max_depth > num_leaves\n",
      "[LightGBM] [Warning] Accuracy may be bad since you didn't set num_leaves and 2^max_depth > num_leaves\n",
      "[LightGBM] [Warning] Accuracy may be bad since you didn't set num_leaves and 2^max_depth > num_leaves\n",
      "[LightGBM] [Warning] Accuracy may be bad since you didn't set num_leaves and 2^max_depth > num_leaves\n",
      "[LightGBM] [Warning] Accuracy may be bad since you didn't set num_leaves and 2^max_depth > num_leaves\n",
      "[LightGBM] [Warning] Accuracy may be bad since you didn't set num_leaves and 2^max_depth > num_leaves\n",
      "[LightGBM] [Warning] Accuracy may be bad since you didn't set num_leaves and 2^max_depth > num_leaves\n",
      "[LightGBM] [Warning] Accuracy may be bad since you didn't set num_leaves and 2^max_depth > num_leaves\n",
      "[LightGBM] [Warning] Accuracy may be bad since you didn't set num_leaves and 2^max_depth > num_leaves\n",
      "[LightGBM] [Warning] Accuracy may be bad since you didn't set num_leaves and 2^max_depth > num_leaves\n",
      "[LightGBM] [Warning] Accuracy may be bad since you didn't set num_leaves and 2^max_depth > num_leaves\n",
      "[LightGBM] [Warning] Accuracy may be bad since you didn't set num_leaves and 2^max_depth > num_leaves\n",
      "[LightGBM] [Warning] Accuracy may be bad since you didn't set num_leaves and 2^max_depth > num_leaves\n",
      "[LightGBM] [Warning] Accuracy may be bad since you didn't set num_leaves and 2^max_depth > num_leaves\n",
      "[LightGBM] [Warning] Accuracy may be bad since you didn't set num_leaves and 2^max_depth > num_leaves\n",
      "[LightGBM] [Warning] Accuracy may be bad since you didn't set num_leaves and 2^max_depth > num_leaves\n",
      "[LightGBM] [Warning] Accuracy may be bad since you didn't set num_leaves and 2^max_depth > num_leaves\n",
      "[LightGBM] [Warning] Accuracy may be bad since you didn't set num_leaves and 2^max_depth > num_leaves\n",
      "[LightGBM] [Warning] Accuracy may be bad since you didn't set num_leaves and 2^max_depth > num_leaves\n",
      "[LightGBM] [Warning] Accuracy may be bad since you didn't set num_leaves and 2^max_depth > num_leaves\n",
      "[LightGBM] [Warning] Accuracy may be bad since you didn't set num_leaves and 2^max_depth > num_leaves\n",
      "[LightGBM] [Warning] Accuracy may be bad since you didn't set num_leaves and 2^max_depth > num_leaves\n",
      "[LightGBM] [Warning] Accuracy may be bad since you didn't set num_leaves and 2^max_depth > num_leaves\n",
      "[LightGBM] [Warning] Accuracy may be bad since you didn't set num_leaves and 2^max_depth > num_leaves\n",
      "[LightGBM] [Warning] Accuracy may be bad since you didn't set num_leaves and 2^max_depth > num_leaves\n",
      "[LightGBM] [Warning] Accuracy may be bad since you didn't set num_leaves and 2^max_depth > num_leaves\n",
      "[LightGBM] [Warning] Accuracy may be bad since you didn't set num_leaves and 2^max_depth > num_leaves\n",
      "[LightGBM] [Warning] Accuracy may be bad since you didn't set num_leaves and 2^max_depth > num_leaves\n",
      "[LightGBM] [Warning] Accuracy may be bad since you didn't set num_leaves and 2^max_depth > num_leaves\n",
      "[LightGBM] [Warning] Accuracy may be bad since you didn't set num_leaves and 2^max_depth > num_leaves\n",
      "[LightGBM] [Warning] Accuracy may be bad since you didn't set num_leaves and 2^max_depth > num_leaves\n",
      "[LightGBM] [Warning] Accuracy may be bad since you didn't set num_leaves and 2^max_depth > num_leaves\n",
      "[LightGBM] [Warning] Accuracy may be bad since you didn't set num_leaves and 2^max_depth > num_leaves\n",
      "[LightGBM] [Warning] Accuracy may be bad since you didn't set num_leaves and 2^max_depth > num_leaves\n",
      "[LightGBM] [Warning] Accuracy may be bad since you didn't set num_leaves and 2^max_depth > num_leaves\n",
      "[LightGBM] [Warning] Accuracy may be bad since you didn't set num_leaves and 2^max_depth > num_leaves\n",
      "[LightGBM] [Warning] Accuracy may be bad since you didn't set num_leaves and 2^max_depth > num_leaves\n",
      "[LightGBM] [Warning] Accuracy may be bad since you didn't set num_leaves and 2^max_depth > num_leaves\n",
      "[LightGBM] [Warning] Accuracy may be bad since you didn't set num_leaves and 2^max_depth > num_leaves\n",
      "[LightGBM] [Warning] Accuracy may be bad since you didn't set num_leaves and 2^max_depth > num_leaves\n",
      "[LightGBM] [Warning] Accuracy may be bad since you didn't set num_leaves and 2^max_depth > num_leaves\n",
      "[LightGBM] [Warning] Accuracy may be bad since you didn't set num_leaves and 2^max_depth > num_leaves\n",
      "[LightGBM] [Warning] Accuracy may be bad since you didn't set num_leaves and 2^max_depth > num_leaves\n",
      "[LightGBM] [Warning] Accuracy may be bad since you didn't set num_leaves and 2^max_depth > num_leaves\n",
      "[LightGBM] [Warning] Accuracy may be bad since you didn't set num_leaves and 2^max_depth > num_leaves\n",
      "[LightGBM] [Warning] Accuracy may be bad since you didn't set num_leaves and 2^max_depth > num_leaves\n",
      "[LightGBM] [Warning] Accuracy may be bad since you didn't set num_leaves and 2^max_depth > num_leaves\n"
     ]
    }
   ],
   "source": [
    "rf_search.best_params_"
   ]
  },
  {
   "cell_type": "markdown",
   "id": "c1bb036f",
   "metadata": {},
   "source": [
    "## Submission"
   ]
  },
  {
   "cell_type": "code",
   "execution_count": 154,
   "id": "eb37fd80",
   "metadata": {
    "ExecuteTime": {
     "end_time": "2023-04-10T16:57:50.173673Z",
     "start_time": "2023-04-10T16:57:47.998235Z"
    },
    "execution": {
     "iopub.execute_input": "2022-02-13T23:29:35.500607Z",
     "iopub.status.busy": "2022-02-13T23:29:35.499947Z",
     "iopub.status.idle": "2022-02-13T23:31:15.695377Z",
     "shell.execute_reply": "2022-02-13T23:31:15.695887Z",
     "shell.execute_reply.started": "2022-02-13T22:58:02.081870Z"
    },
    "papermill": {
     "duration": 100.250385,
     "end_time": "2022-02-13T23:31:15.696073",
     "exception": false,
     "start_time": "2022-02-13T23:29:35.445688",
     "status": "completed"
    },
    "tags": []
   },
   "outputs": [],
   "source": [
    "model = lightgbm.LGBMClassifier(\n",
    "    random_state=SEED, n_jobs=20, max_depth = -1,\n",
    "    n_estimators = 200, num_leaves = 31).fit(df_train_features_extended.values, y)"
   ]
  },
  {
   "cell_type": "code",
   "execution_count": 157,
   "id": "f6dc7c60",
   "metadata": {
    "ExecuteTime": {
     "end_time": "2023-04-10T17:00:18.750198Z",
     "start_time": "2023-04-10T16:58:55.647164Z"
    },
    "execution": {
     "iopub.execute_input": "2022-02-13T23:28:37.066588Z",
     "iopub.status.busy": "2022-02-13T23:28:37.065534Z",
     "iopub.status.idle": "2022-02-13T23:28:37.589671Z",
     "shell.execute_reply": "2022-02-13T23:28:37.589074Z",
     "shell.execute_reply.started": "2022-02-13T22:55:54.636469Z"
    },
    "papermill": {
     "duration": 0.573434,
     "end_time": "2022-02-13T23:28:37.589831",
     "exception": false,
     "start_time": "2022-02-13T23:28:37.016397",
     "status": "completed"
    },
    "tags": []
   },
   "outputs": [
    {
     "data": {
      "application/vnd.jupyter.widget-view+json": {
       "model_id": "3e31e73681aa42199d3cf1a72fa5de13",
       "version_major": 2,
       "version_minor": 0
      },
      "text/plain": [
       "  0%|          | 0/31698 [00:00<?, ?it/s]"
      ]
     },
     "metadata": {},
     "output_type": "display_data"
    }
   ],
   "source": [
    "df_test_features = pd.read_csv(os.path.join(PATH_TO_DATA, \"test_data.csv\"), \n",
    "                                   index_col=\"match_id_hash\")\n",
    "\n",
    "df_test_features_extended = df_test_features.copy()\n",
    "\n",
    "# Добавим новые\n",
    "add_new_features(df_test_features_extended, \n",
    "                 os.path.join(PATH_TO_DATA, \n",
    "                              \"test_raw_data.jsonl\"))\n",
    "X_test = df_test_features_extended.values\n",
    "y_test_pred = model.predict_proba(X_test)[:, 1]\n",
    "\n",
    "df_submission = pd.DataFrame({\"radiant_win_prob\": y_test_pred}, \n",
    "                                 index=df_test_features.index)"
   ]
  },
  {
   "cell_type": "code",
   "execution_count": 158,
   "id": "9aa784d3",
   "metadata": {
    "ExecuteTime": {
     "end_time": "2023-04-10T17:00:18.779252Z",
     "start_time": "2023-04-10T17:00:18.753247Z"
    },
    "execution": {
     "iopub.execute_input": "2022-02-13T23:28:37.693733Z",
     "iopub.status.busy": "2022-02-13T23:28:37.693041Z",
     "iopub.status.idle": "2022-02-13T23:28:37.732667Z",
     "shell.execute_reply": "2022-02-13T23:28:37.731983Z",
     "shell.execute_reply.started": "2022-02-13T22:55:58.549750Z"
    },
    "papermill": {
     "duration": 0.09114,
     "end_time": "2022-02-13T23:28:37.732839",
     "exception": false,
     "start_time": "2022-02-13T23:28:37.641699",
     "status": "completed"
    },
    "tags": []
   },
   "outputs": [
    {
     "name": "stdout",
     "output_type": "stream",
     "text": [
      "Файл посылки сохранен, как: submission_2023-04-10_17-00-18.csv\n"
     ]
    }
   ],
   "source": [
    "submission_filename = \"submission_{}.csv\".format(\n",
    "    datetime.datetime.now().strftime(\"%Y-%m-%d_%H-%M-%S\"))\n",
    "df_submission.to_csv(submission_filename)\n",
    "print(\"Файл посылки сохранен, как: {}\".format(submission_filename))"
   ]
  }
 ],
 "metadata": {
  "kernelspec": {
   "display_name": "QA3.10-common",
   "language": "python",
   "name": "qa3.10-common"
  },
  "language_info": {
   "codemirror_mode": {
    "name": "ipython",
    "version": 3
   },
   "file_extension": ".py",
   "mimetype": "text/x-python",
   "name": "python",
   "nbconvert_exporter": "python",
   "pygments_lexer": "ipython3",
   "version": "3.10.7"
  },
  "papermill": {
   "default_parameters": {},
   "duration": 284.624138,
   "end_time": "2022-02-13T23:32:56.553845",
   "environment_variables": {},
   "exception": null,
   "input_path": "__notebook__.ipynb",
   "output_path": "__notebook__.ipynb",
   "parameters": {},
   "start_time": "2022-02-13T23:28:11.929707",
   "version": "2.3.3"
  },
  "toc": {
   "base_numbering": 1,
   "nav_menu": {},
   "number_sections": true,
   "sideBar": true,
   "skip_h1_title": false,
   "title_cell": "Table of Contents",
   "title_sidebar": "Contents",
   "toc_cell": true,
   "toc_position": {
    "height": "calc(100% - 180px)",
    "left": "10px",
    "top": "150px",
    "width": "295.675px"
   },
   "toc_section_display": true,
   "toc_window_display": true
  },
  "widgets": {
   "application/vnd.jupyter.widget-state+json": {
    "state": {
     "0d846e978a8143a2ba494b58420ed067": {
      "model_module": "@jupyter-widgets/controls",
      "model_module_version": "1.5.0",
      "model_name": "DescriptionStyleModel",
      "state": {
       "_model_module": "@jupyter-widgets/controls",
       "_model_module_version": "1.5.0",
       "_model_name": "DescriptionStyleModel",
       "_view_count": null,
       "_view_module": "@jupyter-widgets/base",
       "_view_module_version": "1.2.0",
       "_view_name": "StyleView",
       "description_width": ""
      }
     },
     "0f8b8404bb734f6db3a2c56c3c7ddc6e": {
      "model_module": "@jupyter-widgets/controls",
      "model_module_version": "1.5.0",
      "model_name": "HTMLModel",
      "state": {
       "_dom_classes": [],
       "_model_module": "@jupyter-widgets/controls",
       "_model_module_version": "1.5.0",
       "_model_name": "HTMLModel",
       "_view_count": null,
       "_view_module": "@jupyter-widgets/controls",
       "_view_module_version": "1.5.0",
       "_view_name": "HTMLView",
       "description": "",
       "description_tooltip": null,
       "layout": "IPY_MODEL_59ddf819389045a094a711175442dbbe",
       "placeholder": "​",
       "style": "IPY_MODEL_b3c47a606fc044ddb919678e9db33628",
       "value": " 31698/31698 [01:40&lt;00:00, 330.36it/s]"
      }
     },
     "3a6bb37584384e4383e29e115a610a9c": {
      "model_module": "@jupyter-widgets/controls",
      "model_module_version": "1.5.0",
      "model_name": "FloatProgressModel",
      "state": {
       "_dom_classes": [],
       "_model_module": "@jupyter-widgets/controls",
       "_model_module_version": "1.5.0",
       "_model_name": "FloatProgressModel",
       "_view_count": null,
       "_view_module": "@jupyter-widgets/controls",
       "_view_module_version": "1.5.0",
       "_view_name": "ProgressView",
       "bar_style": "success",
       "description": "",
       "description_tooltip": null,
       "layout": "IPY_MODEL_bb3a69bae1bf4f5f9967c6a0650ad8a7",
       "max": 31698,
       "min": 0,
       "orientation": "horizontal",
       "style": "IPY_MODEL_fdeafc39a9f24ec592cf3b625746cc77",
       "value": 31698
      }
     },
     "59ddf819389045a094a711175442dbbe": {
      "model_module": "@jupyter-widgets/base",
      "model_module_version": "1.2.0",
      "model_name": "LayoutModel",
      "state": {
       "_model_module": "@jupyter-widgets/base",
       "_model_module_version": "1.2.0",
       "_model_name": "LayoutModel",
       "_view_count": null,
       "_view_module": "@jupyter-widgets/base",
       "_view_module_version": "1.2.0",
       "_view_name": "LayoutView",
       "align_content": null,
       "align_items": null,
       "align_self": null,
       "border": null,
       "bottom": null,
       "display": null,
       "flex": null,
       "flex_flow": null,
       "grid_area": null,
       "grid_auto_columns": null,
       "grid_auto_flow": null,
       "grid_auto_rows": null,
       "grid_column": null,
       "grid_gap": null,
       "grid_row": null,
       "grid_template_areas": null,
       "grid_template_columns": null,
       "grid_template_rows": null,
       "height": null,
       "justify_content": null,
       "justify_items": null,
       "left": null,
       "margin": null,
       "max_height": null,
       "max_width": null,
       "min_height": null,
       "min_width": null,
       "object_fit": null,
       "object_position": null,
       "order": null,
       "overflow": null,
       "overflow_x": null,
       "overflow_y": null,
       "padding": null,
       "right": null,
       "top": null,
       "visibility": null,
       "width": null
      }
     },
     "87bfa925a1994dd9ad3d09fd2e7bce9d": {
      "model_module": "@jupyter-widgets/controls",
      "model_module_version": "1.5.0",
      "model_name": "HBoxModel",
      "state": {
       "_dom_classes": [],
       "_model_module": "@jupyter-widgets/controls",
       "_model_module_version": "1.5.0",
       "_model_name": "HBoxModel",
       "_view_count": null,
       "_view_module": "@jupyter-widgets/controls",
       "_view_module_version": "1.5.0",
       "_view_name": "HBoxView",
       "box_style": "",
       "children": [
        "IPY_MODEL_c1ea357b70b94a698befc40b4e7d7383",
        "IPY_MODEL_3a6bb37584384e4383e29e115a610a9c",
        "IPY_MODEL_0f8b8404bb734f6db3a2c56c3c7ddc6e"
       ],
       "layout": "IPY_MODEL_9689ed38e7c7461fa9c7467a1ce4a958"
      }
     },
     "9689ed38e7c7461fa9c7467a1ce4a958": {
      "model_module": "@jupyter-widgets/base",
      "model_module_version": "1.2.0",
      "model_name": "LayoutModel",
      "state": {
       "_model_module": "@jupyter-widgets/base",
       "_model_module_version": "1.2.0",
       "_model_name": "LayoutModel",
       "_view_count": null,
       "_view_module": "@jupyter-widgets/base",
       "_view_module_version": "1.2.0",
       "_view_name": "LayoutView",
       "align_content": null,
       "align_items": null,
       "align_self": null,
       "border": null,
       "bottom": null,
       "display": null,
       "flex": null,
       "flex_flow": null,
       "grid_area": null,
       "grid_auto_columns": null,
       "grid_auto_flow": null,
       "grid_auto_rows": null,
       "grid_column": null,
       "grid_gap": null,
       "grid_row": null,
       "grid_template_areas": null,
       "grid_template_columns": null,
       "grid_template_rows": null,
       "height": null,
       "justify_content": null,
       "justify_items": null,
       "left": null,
       "margin": null,
       "max_height": null,
       "max_width": null,
       "min_height": null,
       "min_width": null,
       "object_fit": null,
       "object_position": null,
       "order": null,
       "overflow": null,
       "overflow_x": null,
       "overflow_y": null,
       "padding": null,
       "right": null,
       "top": null,
       "visibility": null,
       "width": null
      }
     },
     "b33f8b0631ee42ee93456c2af9091912": {
      "model_module": "@jupyter-widgets/base",
      "model_module_version": "1.2.0",
      "model_name": "LayoutModel",
      "state": {
       "_model_module": "@jupyter-widgets/base",
       "_model_module_version": "1.2.0",
       "_model_name": "LayoutModel",
       "_view_count": null,
       "_view_module": "@jupyter-widgets/base",
       "_view_module_version": "1.2.0",
       "_view_name": "LayoutView",
       "align_content": null,
       "align_items": null,
       "align_self": null,
       "border": null,
       "bottom": null,
       "display": null,
       "flex": null,
       "flex_flow": null,
       "grid_area": null,
       "grid_auto_columns": null,
       "grid_auto_flow": null,
       "grid_auto_rows": null,
       "grid_column": null,
       "grid_gap": null,
       "grid_row": null,
       "grid_template_areas": null,
       "grid_template_columns": null,
       "grid_template_rows": null,
       "height": null,
       "justify_content": null,
       "justify_items": null,
       "left": null,
       "margin": null,
       "max_height": null,
       "max_width": null,
       "min_height": null,
       "min_width": null,
       "object_fit": null,
       "object_position": null,
       "order": null,
       "overflow": null,
       "overflow_x": null,
       "overflow_y": null,
       "padding": null,
       "right": null,
       "top": null,
       "visibility": null,
       "width": null
      }
     },
     "b3c47a606fc044ddb919678e9db33628": {
      "model_module": "@jupyter-widgets/controls",
      "model_module_version": "1.5.0",
      "model_name": "DescriptionStyleModel",
      "state": {
       "_model_module": "@jupyter-widgets/controls",
       "_model_module_version": "1.5.0",
       "_model_name": "DescriptionStyleModel",
       "_view_count": null,
       "_view_module": "@jupyter-widgets/base",
       "_view_module_version": "1.2.0",
       "_view_name": "StyleView",
       "description_width": ""
      }
     },
     "bb3a69bae1bf4f5f9967c6a0650ad8a7": {
      "model_module": "@jupyter-widgets/base",
      "model_module_version": "1.2.0",
      "model_name": "LayoutModel",
      "state": {
       "_model_module": "@jupyter-widgets/base",
       "_model_module_version": "1.2.0",
       "_model_name": "LayoutModel",
       "_view_count": null,
       "_view_module": "@jupyter-widgets/base",
       "_view_module_version": "1.2.0",
       "_view_name": "LayoutView",
       "align_content": null,
       "align_items": null,
       "align_self": null,
       "border": null,
       "bottom": null,
       "display": null,
       "flex": null,
       "flex_flow": null,
       "grid_area": null,
       "grid_auto_columns": null,
       "grid_auto_flow": null,
       "grid_auto_rows": null,
       "grid_column": null,
       "grid_gap": null,
       "grid_row": null,
       "grid_template_areas": null,
       "grid_template_columns": null,
       "grid_template_rows": null,
       "height": null,
       "justify_content": null,
       "justify_items": null,
       "left": null,
       "margin": null,
       "max_height": null,
       "max_width": null,
       "min_height": null,
       "min_width": null,
       "object_fit": null,
       "object_position": null,
       "order": null,
       "overflow": null,
       "overflow_x": null,
       "overflow_y": null,
       "padding": null,
       "right": null,
       "top": null,
       "visibility": null,
       "width": null
      }
     },
     "c1ea357b70b94a698befc40b4e7d7383": {
      "model_module": "@jupyter-widgets/controls",
      "model_module_version": "1.5.0",
      "model_name": "HTMLModel",
      "state": {
       "_dom_classes": [],
       "_model_module": "@jupyter-widgets/controls",
       "_model_module_version": "1.5.0",
       "_model_name": "HTMLModel",
       "_view_count": null,
       "_view_module": "@jupyter-widgets/controls",
       "_view_module_version": "1.5.0",
       "_view_name": "HTMLView",
       "description": "",
       "description_tooltip": null,
       "layout": "IPY_MODEL_b33f8b0631ee42ee93456c2af9091912",
       "placeholder": "​",
       "style": "IPY_MODEL_0d846e978a8143a2ba494b58420ed067",
       "value": "100%"
      }
     },
     "fdeafc39a9f24ec592cf3b625746cc77": {
      "model_module": "@jupyter-widgets/controls",
      "model_module_version": "1.5.0",
      "model_name": "ProgressStyleModel",
      "state": {
       "_model_module": "@jupyter-widgets/controls",
       "_model_module_version": "1.5.0",
       "_model_name": "ProgressStyleModel",
       "_view_count": null,
       "_view_module": "@jupyter-widgets/base",
       "_view_module_version": "1.2.0",
       "_view_name": "StyleView",
       "bar_color": null,
       "description_width": ""
      }
     }
    },
    "version_major": 2,
    "version_minor": 0
   }
  }
 },
 "nbformat": 4,
 "nbformat_minor": 5
}
